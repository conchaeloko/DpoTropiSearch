{
 "cells": [
  {
   "cell_type": "code",
   "execution_count": null,
   "id": "95a656e1-d41a-4f8e-9620-5f20ca6fd6a2",
   "metadata": {},
   "outputs": [],
   "source": [
    "rsync -avzhe ssh \\\n",
    "conchae@garnatxa.srv.cpd:/home/conchae/prediction_depolymerase_tropism/prophage_prediction/depolymerase_decipher/ficheros_28032023/Seqbased_model/RF_21122024_models_ultraF \\\n",
    "/media/concha-eloko/Linux/PPT_clean/reviewed_models\n",
    "\n"
   ]
  },
  {
   "cell_type": "code",
   "execution_count": 2,
   "id": "3c99dec6-0c46-4eac-b5ed-40171726323e",
   "metadata": {},
   "outputs": [],
   "source": [
    "import os\n",
    "import pandas as pd\n",
    "import numpy as np\n",
    "from tqdm import tqdm\n",
    "from itertools import product\n",
    "import random\n",
    "from collections import Counter, defaultdict\n",
    "import warnings\n",
    "import logging\n",
    "import subprocess\n",
    "from multiprocessing.pool import ThreadPool\n",
    "import joblib\n",
    "\n",
    "# SCikitlearn modules :\n",
    "from sklearn.ensemble import RandomForestClassifier\n",
    "from sklearn.preprocessing import LabelEncoder\n",
    "from sklearn.model_selection import train_test_split, RandomizedSearchCV, StratifiedKFold\n",
    "from sklearn.metrics import classification_report , roc_auc_score, matthews_corrcoef\n",
    "from sklearn.metrics import roc_auc_score\n",
    "\n",
    "# Scipy modules : \n",
    "from scipy.stats import fisher_exact\n",
    "from statistics import mean\n",
    "\n",
    "\n",
    "PATH_WORK = \"/media/concha-eloko/Linux/PPT_clean\"\n",
    "path_metrics = f\"{PATH_WORK}/metric_files\""
   ]
  },
  {
   "cell_type": "markdown",
   "id": "ec8cfd76-cc76-4a12-96ea-aefe724bd875",
   "metadata": {
    "tags": []
   },
   "source": [
    "### Make the metrics files : "
   ]
  },
  {
   "cell_type": "code",
   "execution_count": 4,
   "id": "8cc98749-c904-4d70-ac77-17e662966a09",
   "metadata": {},
   "outputs": [],
   "source": [
    "def load_data():\n",
    "    df_info = pd.read_csv(f\"{PATH_WORK}/TropiGATv2.final_df_v2.tsv\", sep=\"\\t\", header=0)\n",
    "    df_prophages = df_info.drop_duplicates(subset=[\"Phage\"], keep=\"first\")\n",
    "    dico_prophage_info = {row[\"Phage\"]: {\"prophage_strain\": row[\"prophage_id\"], \"ancestor\": row[\"Infected_ancestor\"]} for _, row in df_prophages.iterrows()}\n",
    "    return df_info, dico_prophage_info\n",
    "\n",
    "\n",
    "def get_filtered_prophages(prophage, df_info, dico_prophage_info):\n",
    "    to_exclude = set()\n",
    "    to_keep = {prophage}\n",
    "    df_prophage_group = df_info[(df_info[\"prophage_id\"] == dico_prophage_info[prophage][\"prophage_strain\"]) & \n",
    "                                (df_info[\"Infected_ancestor\"] == dico_prophage_info[prophage][\"ancestor\"])]\n",
    "    \n",
    "    if len(df_prophage_group) > 1:\n",
    "        depo_set = set(df_prophage_group[df_prophage_group[\"Phage\"] == prophage][\"domain_seq\"].values)\n",
    "        combinations = [depo_set]\n",
    "        \n",
    "        for prophage_tmp in df_prophage_group[\"Phage\"].unique():\n",
    "            if prophage_tmp != prophage:\n",
    "                tmp_depo_set = set(df_prophage_group[df_prophage_group[\"Phage\"] == prophage_tmp][\"domain_seq\"].values)\n",
    "                if tmp_depo_set in combinations:\n",
    "                    to_exclude.add(prophage_tmp)\n",
    "                else:\n",
    "                    to_keep.add(prophage_tmp)\n",
    "                    combinations.append(tmp_depo_set)\n",
    "    \n",
    "    return df_prophage_group, to_exclude, to_keep\n",
    "\n",
    "def filter_prophages(df_info, dico_prophage_info):\n",
    "    good_prophages = set()\n",
    "    excluded_prophages = set()\n",
    "    for prophage in tqdm(dico_prophage_info.keys()):\n",
    "        if prophage not in excluded_prophages and prophage not in good_prophages:\n",
    "            _, excluded_members, kept_members = get_filtered_prophages(prophage, df_info, dico_prophage_info)\n",
    "            good_prophages.update(kept_members)\n",
    "            excluded_prophages.update(excluded_members)\n",
    "    df_info_filtered = df_info[df_info[\"Phage\"].isin(good_prophages)]\n",
    "    return df_info_filtered[~df_info_filtered[\"KL_type_LCA\"].str.contains(\"\\\\|\")]\n",
    "\n",
    "def ultrafilter_prophages(df_info):\n",
    "    duplicate_prophage = []\n",
    "    for kltype in df_info[\"KL_type_LCA\"].unique():\n",
    "        df_kl = df_info[df_info[\"KL_type_LCA\"] == kltype][[\"Phage\", \"domain_seq\"]]\n",
    "        set_sets_depo = []\n",
    "        for _, group in df_kl.groupby(\"Phage\"):\n",
    "            set_depo = frozenset(group[\"domain_seq\"].values)\n",
    "            if set_depo in set_sets_depo:\n",
    "                duplicate_prophage.extend(group[\"Phage\"])\n",
    "            else:\n",
    "                set_sets_depo.append(set_depo)\n",
    "    \n",
    "    return df_info[~df_info[\"Phage\"].isin(duplicate_prophage)]\n",
    "\n",
    "\n",
    "def get_mean_MCC(path_data_object):\n",
    "    try:\n",
    "        assert os.path.isfile(path_data_object)\n",
    "        data_object = joblib.load(path_data_object)\n",
    "        mcc_values = []\n",
    "        for i in data_object:\n",
    "            y_test = data_object[i][\"test_data\"][0].values\n",
    "            predictions = data_object[i][\"test_data\"][1]\n",
    "            mcc = matthews_corrcoef(y_test, predictions)\n",
    "            mcc_values.append(mcc)\n",
    "        del data_object \n",
    "        mean_mcc = mean(mcc_values)\n",
    "        return mean_mcc\n",
    "    except AssertionError:\n",
    "        raise FileNotFoundError(f\"File not found: {path_data_object}\")\n",
    "        \n"
   ]
  },
  {
   "cell_type": "markdown",
   "id": "bfad3987-cda4-4876-884f-a862392cd6f4",
   "metadata": {},
   "source": [
    "> TropiSEQ (unique depolymerase sets)"
   ]
  },
  {
   "cell_type": "code",
   "execution_count": 5,
   "id": "0d504e06-c43e-48c2-94cd-dee813459dc9",
   "metadata": {},
   "outputs": [
    {
     "name": "stderr",
     "output_type": "stream",
     "text": [
      "100%|████████████████████████████████████████████████████████████████████████████████████████████████████████████████████████████████████████████| 15981/15981 [00:17<00:00, 915.29it/s]\n"
     ]
    }
   ],
   "source": [
    "path_jobs = f\"{PATH_WORK}/reviewed_models/RF_21122024_models_ultraF\"\n",
    "\n",
    "cluster_values = set([file.split(\"_\")[0] for file in os.listdir(path_jobs)])\n",
    "KLtypes = set([file.split(\"_RF_\")[1].split(\".full_data\")[0] for file in os.listdir(path_jobs)])\n",
    "\n",
    "KLtypes_paths = {kltype : [f\"{path_jobs}/{file}\" for file in os.listdir(path_jobs) if file.split(\"_RF_\")[1].split(\".full_data\")[0]==kltype]\n",
    "                for kltype in KLtypes}\n",
    "\n",
    "DF_info, dico_prophage_info = load_data()\n",
    "# UF or not ?\n",
    "DF_info_lvl_0 = ultrafilter_prophages(filter_prophages(DF_info, dico_prophage_info))\n",
    "#DF_info_lvl_0 = filter_prophages(DF_info, dico_prophage_info)\n",
    "\n",
    "dico_prophage_count = Counter(DF_info_lvl_0[\"KL_type_LCA\"])\n",
    "\n"
   ]
  },
  {
   "cell_type": "code",
   "execution_count": 19,
   "id": "4e746e33-3297-49e4-b5ad-f80e5c4a2544",
   "metadata": {
    "collapsed": true,
    "jupyter": {
     "outputs_hidden": true
    },
    "tags": []
   },
   "outputs": [
    {
     "data": {
      "text/plain": [
       "Counter({'KL64': 316,\n",
       "         'KL25': 233,\n",
       "         'KL107': 223,\n",
       "         'KL17': 223,\n",
       "         'KL24': 179,\n",
       "         'KL23': 170,\n",
       "         'KL47': 158,\n",
       "         'KL2': 151,\n",
       "         'KL106': 150,\n",
       "         'KL28': 150,\n",
       "         'KL3': 147,\n",
       "         'KL60': 138,\n",
       "         'KL14': 130,\n",
       "         'KL102': 128,\n",
       "         'KL62': 124,\n",
       "         'KL27': 119,\n",
       "         'KL15': 107,\n",
       "         'KL74': 100,\n",
       "         'KL46': 90,\n",
       "         'KL10': 83,\n",
       "         'KL111': 82,\n",
       "         'KL38': 78,\n",
       "         'KL30': 77,\n",
       "         'KL13': 76,\n",
       "         'KL19': 70,\n",
       "         'KL110': 65,\n",
       "         'KL105': 65,\n",
       "         'KL1': 61,\n",
       "         'KL45': 57,\n",
       "         'KL12': 57,\n",
       "         'KL29': 56,\n",
       "         'KL43': 55,\n",
       "         'KL63': 55,\n",
       "         'KL57': 54,\n",
       "         'KL21': 53,\n",
       "         'KL149': 51,\n",
       "         'KL22': 50,\n",
       "         'KL81': 49,\n",
       "         'KL70': 49,\n",
       "         'KL127': 49,\n",
       "         'KL145': 48,\n",
       "         'KL36': 48,\n",
       "         'KL53': 48,\n",
       "         'KL123': 46,\n",
       "         'KL51': 41,\n",
       "         'KL7': 39,\n",
       "         'KL18': 38,\n",
       "         'KL128': 37,\n",
       "         'KL116': 33,\n",
       "         'KL125': 30,\n",
       "         'KL52': 30,\n",
       "         'KL151': 29,\n",
       "         'KL16': 26,\n",
       "         'KL122': 26,\n",
       "         'KL169': 26,\n",
       "         'KL39': 25,\n",
       "         'KL136': 24,\n",
       "         'KL140': 22,\n",
       "         'KL35': 22,\n",
       "         'KL153': 22,\n",
       "         'KL56': 21,\n",
       "         'KL48': 21,\n",
       "         'KL5': 21,\n",
       "         'KL9': 21,\n",
       "         'KL114': 20,\n",
       "         'KL117': 20,\n",
       "         'KL118': 20,\n",
       "         'KL55': 19,\n",
       "         'KL157': 18,\n",
       "         'KL112': 18,\n",
       "         'KL109': 18,\n",
       "         'KL124': 18,\n",
       "         'KL67': 17,\n",
       "         'KL4': 17,\n",
       "         'KL142': 17,\n",
       "         'KL71': 17,\n",
       "         'KL139': 16,\n",
       "         'KL8': 16,\n",
       "         'KL34': 16,\n",
       "         'KL155': 16,\n",
       "         'KL26': 15,\n",
       "         'KL159': 14,\n",
       "         'KL31': 14,\n",
       "         'KL41': 13,\n",
       "         'KL20': 13,\n",
       "         'KL6': 12,\n",
       "         'KL61': 12,\n",
       "         'KL108': 12,\n",
       "         'KL103': 11,\n",
       "         'KL166': 10,\n",
       "         'KL152': 10,\n",
       "         'KL58': 10,\n",
       "         'KL143': 10,\n",
       "         'KL164': 9,\n",
       "         'KL119': 9,\n",
       "         'KL66': 9,\n",
       "         'KL141': 9,\n",
       "         'KL54': 8,\n",
       "         'KL126': 8,\n",
       "         'KL137': 7,\n",
       "         'KL11': 7,\n",
       "         'KL82': 7,\n",
       "         'KL42': 7,\n",
       "         'KL113': 6,\n",
       "         'KL37': 6,\n",
       "         'KL147': 5,\n",
       "         'KL146': 5,\n",
       "         'KL163': 5,\n",
       "         'KL132': 4,\n",
       "         'KL158': 4,\n",
       "         'KL131': 3,\n",
       "         'KL49': 3,\n",
       "         'KL170': 3,\n",
       "         'KL134': 3,\n",
       "         'KL121': 2,\n",
       "         'KL154': 2,\n",
       "         'KL162': 2,\n",
       "         'KL148': 2,\n",
       "         'KL115': 2,\n",
       "         'KL150': 2,\n",
       "         'KL104': 2,\n",
       "         'KL130': 1,\n",
       "         'KL101': 1,\n",
       "         'KL59': 1,\n",
       "         'KL33': 1,\n",
       "         'KL144': 1,\n",
       "         'KL120': 1,\n",
       "         'KL165': 1})"
      ]
     },
     "execution_count": 19,
     "metadata": {},
     "output_type": "execute_result"
    }
   ],
   "source": [
    "dico_prophage_count"
   ]
  },
  {
   "cell_type": "code",
   "execution_count": 16,
   "id": "dabf7ad9-e99d-4b7c-b30c-401febdbe391",
   "metadata": {
    "tags": []
   },
   "outputs": [
    {
     "name": "stderr",
     "output_type": "stream",
     "text": [
      "100%|█████████████████████████████████████████████████████████████████████████████████████████████████████████████████████████████████████████████████| 108/108 [00:38<00:00,  2.81it/s]\n"
     ]
    }
   ],
   "source": [
    "def get_mean_MCC(path_data_object):\n",
    "    try:\n",
    "        assert os.path.isfile(path_data_object)\n",
    "        data_object = joblib.load(path_data_object)\n",
    "        mcc_values = []\n",
    "        for i in data_object:\n",
    "            y_test = data_object[i][\"test_data\"][0].values\n",
    "            predictions = data_object[i][\"test_data\"][1]\n",
    "            mcc = matthews_corrcoef(y_test, predictions)\n",
    "            mcc_values.append(mcc)\n",
    "        del data_object \n",
    "        mean_mcc = mean(mcc_values)\n",
    "        return mean_mcc\n",
    "    except AssertionError:\n",
    "        raise FileNotFoundError(f\"File not found: {path_data_object}\")\n",
    "\n",
    "\"\"\"with open(f\"{PATH_WORK}/SEQ_based.RF__UF.prophages_metrics.tsv\", \"w\") as outfile :\n",
    "    for KLtype in tqdm(KLtypes_paths) : \n",
    "        for path in KLtypes_paths[KLtype] :\n",
    "            cl_value = path.split(\"/\")[-1].split(\"_RF\")[0]\n",
    "            mean_mcc = get_mean_MCC(path)\n",
    "            count_kltype = dico_prophage_count[KLtype]\n",
    "            outfile.write(f\"{KLtype}\\t{count_kltype}\\t{cl_value}\\t{mean_mcc}\\n\")\"\"\"\n",
    "\n",
    "with open(f\"{PATH_WORK}/SEQ_based.RF__UF.prophages_metrics.review.tsv\", \"w\") as outfile :\n",
    "    for file in tqdm(os.listdir(\"/media/concha-eloko/Linux/PPT_clean/ficheros_28032023/review_work/SeqBased_model/reviewed_models/TropiSEQ_UF\")) : \n",
    "        KLtype = file.split(\"RF_\")[1].split(\".\")[0]\n",
    "        path = \"/media/concha-eloko/Linux/PPT_clean/ficheros_28032023/review_work/SeqBased_model/reviewed_models/TropiSEQ_UF/\" + file\n",
    "        cl_value = path.split(\"/\")[-1].split(\"_RF\")[0]\n",
    "        mean_mcc = get_mean_MCC(path)\n",
    "        count_kltype = dico_prophage_count[KLtype]\n",
    "        outfile.write(f\"{KLtype}\\t{count_kltype}\\t{cl_value}\\t{mean_mcc}\\n\")"
   ]
  },
  {
   "cell_type": "code",
   "execution_count": 11,
   "id": "285ccd25-5b89-4501-9cf0-73d77cc410ee",
   "metadata": {
    "tags": []
   },
   "outputs": [],
   "source": [
    "metric_rf_uf = pd.read_csv(f\"{PATH_WORK}/SEQ_based.RF__UF.prophages_metrics.review.tsv\", sep = \"\\t\", names = [\"KL_type\", \"n_prophages\", \"c_value\", \"MCC\"])\n",
    "metric_rf_uf = metric_rf_uf.sort_values(by=\"KL_type\", \n",
    "                                        key=lambda x: x.str.extract(r'(\\d+)')[0].astype(int))\n",
    "metric_rf_uf.to_csv(f\"{PATH_WORK}/SEQ_based.RF__UF.prophages_metrics.sorted.review.tsv\", sep = \"\\t\", index = False, header = True)"
   ]
  },
  {
   "cell_type": "code",
   "execution_count": null,
   "id": "0a201323-c6a7-4d5c-bb58-a0bd80007b55",
   "metadata": {},
   "outputs": [],
   "source": []
  },
  {
   "cell_type": "markdown",
   "id": "813ba1b6-a290-41c3-98b3-0ab83ee09b22",
   "metadata": {},
   "source": [
    "> TropiSEQ (single infectious events)"
   ]
  },
  {
   "cell_type": "code",
   "execution_count": null,
   "id": "e45a0df6-79ba-4c37-979c-1502663717c7",
   "metadata": {
    "jupyter": {
     "source_hidden": true
    },
    "tags": []
   },
   "outputs": [],
   "source": [
    "path_jobs = f\"{PATH_WORK}/RF_1302_models\"\n",
    "\n",
    "cluster_values = set([file.split(\"_\")[0] for file in os.listdir(path_jobs)])\n",
    "KLtypes = set([file.split(\"_RF_\")[1].split(\".full_data\")[0] for file in os.listdir(path_jobs)])\n",
    "\n",
    "KLtypes_paths = {kltype : [f\"{path_jobs}/{file}\" for file in os.listdir(path_jobs) if file.split(\"_RF_\")[1].split(\".full_data\")[0]==kltype]\n",
    "                for kltype in KLtypes}\n",
    "\n",
    "DF_info, dico_prophage_info = load_data()\n",
    "# UF or not ?\n",
    "#DF_info_lvl_0 = ultrafilter_prophages(filter_prophages(DF_info, dico_prophage_info))\n",
    "DF_info_lvl_0 = filter_prophages(DF_info, dico_prophage_info)\n",
    "\n",
    "dico_prophage_count = Counter(DF_info_lvl_0[\"KL_type_LCA\"])\n",
    "\n",
    "with open(f\"{path_metrics}/SEQ_based.RF.prophages_metrics.tsv\", \"w\") as outfile :\n",
    "    for KLtype in tqdm(KLtypes_paths) : \n",
    "        for path in KLtypes_paths[KLtype] :\n",
    "            cl_value = path.split(\"/\")[-1].split(\"_RF\")[0]\n",
    "            mean_mcc = get_mean_MCC(path)\n",
    "            count_kltype = dico_prophage_count[KLtype]\n",
    "            outfile.write(f\"{KLtype}\\t{count_kltype}\\t{cl_value}\\t{mean_mcc}\\n\")\n"
   ]
  },
  {
   "cell_type": "markdown",
   "id": "e4fd7315-cb7b-49dc-9538-ed045247e3ca",
   "metadata": {},
   "source": [
    "> Logistic regression (single infectious events)"
   ]
  },
  {
   "cell_type": "code",
   "execution_count": null,
   "id": "76c57510-c558-45c9-858e-1b8399b965f8",
   "metadata": {
    "jupyter": {
     "source_hidden": true
    },
    "tags": []
   },
   "outputs": [],
   "source": [
    "path_jobs = f\"{PATH_WORK}/LR_21122024_models\"\n",
    "\n",
    "cluster_values = set([file.split(\"_\")[0] for file in os.listdir(path_jobs)])\n",
    "KLtypes = set([file.split(\"_LogReg_\")[1].split(\".full_data\")[0] for file in os.listdir(path_jobs)])\n",
    "\n",
    "KLtypes_paths = {kltype : [f\"{path_jobs}/{file}\" for file in os.listdir(path_jobs) if file.split(\"_LogReg_\")[1].split(\".full_data\")[0]==kltype]\n",
    "                for kltype in KLtypes}\n",
    "\n",
    "DF_info, dico_prophage_info = load_data()\n",
    "# UF or not ?\n",
    "#DF_info_lvl_0 = ultrafilter_prophages(filter_prophages(DF_info, dico_prophage_info))\n",
    "DF_info_lvl_0 = filter_prophages(DF_info, dico_prophage_info)\n",
    "\n",
    "dico_prophage_count = Counter(DF_info_lvl_0[\"KL_type_LCA\"])\n",
    "\n",
    "with open(f\"{path_metrics}/SEQ_based.LogReg.prophages_metrics.tsv\", \"w\") as outfile :\n",
    "    for KLtype in tqdm(KLtypes_paths) : \n",
    "        for path in KLtypes_paths[KLtype] :\n",
    "            cl_value = path.split(\"/\")[-1].split(\"_RF\")[0]\n",
    "            mean_mcc = get_mean_MCC(path)\n",
    "            count_kltype = dico_prophage_count[KLtype]\n",
    "            outfile.write(f\"{KLtype}\\t{count_kltype}\\t{cl_value}\\t{mean_mcc}\\n\")"
   ]
  },
  {
   "cell_type": "markdown",
   "id": "50fb2a28-eb39-4ac8-9f55-76650134c690",
   "metadata": {},
   "source": [
    "> Logistic regressino (unique depolymerase sets)"
   ]
  },
  {
   "cell_type": "code",
   "execution_count": null,
   "id": "d6a83c37-6950-4874-83c6-844fbd7eb477",
   "metadata": {
    "jupyter": {
     "source_hidden": true
    },
    "tags": []
   },
   "outputs": [],
   "source": [
    "path_jobs = f\"{PATH_WORK}/LR_21122024_models_ultraF\"\n",
    "\n",
    "cluster_values = set([file.split(\"_\")[0] for file in os.listdir(path_jobs)])\n",
    "KLtypes = set([file.split(\"_LogReg_\")[1].split(\".full_data\")[0] for file in os.listdir(path_jobs)])\n",
    "\n",
    "KLtypes_paths = {kltype : [f\"{path_jobs}/{file}\" for file in os.listdir(path_jobs) if file.split(\"_LogReg_\")[1].split(\".full_data\")[0]==kltype]\n",
    "                for kltype in KLtypes}\n",
    "\n",
    "DF_info, dico_prophage_info = load_data()\n",
    "# UF or not ?\n",
    "DF_info_lvl_0 = ultrafilter_prophages(filter_prophages(DF_info, dico_prophage_info))\n",
    "#DF_info_lvl_0 = filter_prophages(DF_info, dico_prophage_info)\n",
    "\n",
    "dico_prophage_count = Counter(DF_info_lvl_0[\"KL_type_LCA\"])\n",
    "\n",
    "with open(f\"{path_metrics}/SEQ_based.LogReg__UF.prophages_metrics.tsv\", \"w\") as outfile :\n",
    "    for KLtype in tqdm(KLtypes_paths) : \n",
    "        for path in KLtypes_paths[KLtype] :\n",
    "            cl_value = path.split(\"/\")[-1].split(\"_RF\")[0]\n",
    "            mean_mcc = get_mean_MCC(path)\n",
    "            count_kltype = dico_prophage_count[KLtype]\n",
    "            outfile.write(f\"{KLtype}\\t{count_kltype}\\t{cl_value}\\t{mean_mcc}\\n\")"
   ]
  },
  {
   "cell_type": "markdown",
   "id": "1bb56fc1-2197-4767-82d2-15d3792d0a07",
   "metadata": {},
   "source": [
    "***\n",
    "### Compute the weighted MCC:"
   ]
  },
  {
   "cell_type": "code",
   "execution_count": null,
   "id": "768a0b70-b2d3-4fef-b4ab-a90656ac957c",
   "metadata": {},
   "outputs": [],
   "source": [
    "rsync -avzhe ssh \\\n",
    "conchae@garnatxa.srv.cpd:/home/conchae/prediction_depolymerase_tropism/prophage_prediction/depolymerase_decipher/ficheros_28032023/Seqbased_model/metric_files \\\n",
    "/media/concha-eloko/Linux/PPT_clean/ficheros_28032023/review_work/SeqBased_model\n"
   ]
  },
  {
   "cell_type": "code",
   "execution_count": 5,
   "id": "dd02ee6a-4764-4877-8824-50300ea3e8ca",
   "metadata": {
    "tags": []
   },
   "outputs": [
    {
     "name": "stderr",
     "output_type": "stream",
     "text": [
      "/tmp/ipykernel_2965761/2213569197.py:10: SettingWithCopyWarning: \n",
      "A value is trying to be set on a copy of a slice from a DataFrame.\n",
      "Try using .loc[row_indexer,col_indexer] = value instead\n",
      "\n",
      "See the caveats in the documentation: https://pandas.pydata.org/pandas-docs/stable/user_guide/indexing.html#returning-a-view-versus-a-copy\n",
      "  metric_eval_df[\"c_value\"] = metric_eval_df[\"file_name\"].astype(str).apply(lambda x: x.split(\"_\")[0])\n",
      "/tmp/ipykernel_2965761/2213569197.py:10: SettingWithCopyWarning: \n",
      "A value is trying to be set on a copy of a slice from a DataFrame.\n",
      "Try using .loc[row_indexer,col_indexer] = value instead\n",
      "\n",
      "See the caveats in the documentation: https://pandas.pydata.org/pandas-docs/stable/user_guide/indexing.html#returning-a-view-versus-a-copy\n",
      "  metric_eval_df[\"c_value\"] = metric_eval_df[\"file_name\"].astype(str).apply(lambda x: x.split(\"_\")[0])\n",
      "/tmp/ipykernel_2965761/2213569197.py:10: SettingWithCopyWarning: \n",
      "A value is trying to be set on a copy of a slice from a DataFrame.\n",
      "Try using .loc[row_indexer,col_indexer] = value instead\n",
      "\n",
      "See the caveats in the documentation: https://pandas.pydata.org/pandas-docs/stable/user_guide/indexing.html#returning-a-view-versus-a-copy\n",
      "  metric_eval_df[\"c_value\"] = metric_eval_df[\"file_name\"].astype(str).apply(lambda x: x.split(\"_\")[0])\n"
     ]
    }
   ],
   "source": [
    "path_metrics = \"/media/concha-eloko/Linux/PPT_clean/ficheros_28032023/review_work/SeqBased_model/metric_files\"\n",
    "\n",
    "threshold = 5\n",
    "names_metric_col = [\"KL_type\", \"Count\", \"file_name\",\"mean_mcc\"]\n",
    "final_weighted_dico = {}\n",
    "\n",
    "for file in os.listdir(path_metrics):\n",
    "    metric_df = pd.read_csv(f\"{path_metrics}/{file}\", sep = \"\\t\", names = names_metric_col)\n",
    "    metric_eval_df = metric_df[metric_df[\"Count\"] > threshold]\n",
    "    metric_eval_df[\"c_value\"] = metric_eval_df[\"file_name\"].astype(str).apply(lambda x: x.split(\"_\")[0])\n",
    "    weighted_mcc_dico = {}\n",
    "    for cluster in metric_eval_df[\"c_value\"].unique().tolist() :\n",
    "        mcc_sum = 0\n",
    "        cl_df = metric_eval_df[metric_eval_df[\"c_value\"] == cluster]\n",
    "        for _,row in cl_df.iterrows() : \n",
    "            mcc_sum = mcc_sum + row[\"mean_mcc\"] * row[\"Count\"]\n",
    "        weighted_mcc = mcc_sum / (sum(cl_df[\"Count\"]))\n",
    "        weighted_mcc_dico[cluster] = weighted_mcc\n",
    "    final_weighted_dico[file] = weighted_mcc_dico\n",
    "\n"
   ]
  },
  {
   "cell_type": "code",
   "execution_count": 6,
   "id": "a3421131-3b7b-493c-9eae-7c1608f2073d",
   "metadata": {
    "tags": []
   },
   "outputs": [
    {
     "data": {
      "text/plain": [
       "{'SEQ_based.LogReg__UF.prophages_metrics.tsv': {'0.85': 0.3151602636210511,\n",
       "  '0.9': 0.32933361394227706,\n",
       "  '0.8': 0.34091186979267774,\n",
       "  '0.7': 0.36446002765094077,\n",
       "  '0.95': 0.27893023121060845,\n",
       "  '0.75': 0.3463067872443405,\n",
       "  '0.65': 0.36193177410601585,\n",
       "  '0.975': 0.25498957852463594},\n",
       " 'SEQ_based.LogReg.prophages_metrics.tsv': {'0.85': 0.3722464784487348,\n",
       "  '0.9': 0.33694270698415413,\n",
       "  '0.8': 0.3659430012749742,\n",
       "  '0.7': 0.36964008602380943,\n",
       "  '0.95': 0.3319429903096709,\n",
       "  '0.75': 0.374760037337778,\n",
       "  '0.65': 0.39023597272237615,\n",
       "  '0.975': 0.27913217655865474},\n",
       " 'SEQ_based.RF.prophages_metrics.tsv': {'0.95': 0.7505887697037068,\n",
       "  '0.9': 0.7665851018307361,\n",
       "  '0.85': 0.7677152879518742,\n",
       "  '0.75': 0.7576805724196833,\n",
       "  '0.975': 0.7326524783190056,\n",
       "  '0.8': 0.7651531836408012,\n",
       "  '0.7': 0.7564513341443188,\n",
       "  '0.65': 0.7666988914668954},\n",
       " 'SEQ_based.RF__UF.prophages_metrics.tsv': {'0.95': 0.3093359009354269,\n",
       "  '0.8': 0.3427715092677616,\n",
       "  '0.7': 0.3590017290690273,\n",
       "  '0.85': 0.35113786424314547,\n",
       "  '0.75': 0.34352863293229235,\n",
       "  '0.975': 0.26158723604773665,\n",
       "  '0.9': 0.3353644615409259}}"
      ]
     },
     "execution_count": 6,
     "metadata": {},
     "output_type": "execute_result"
    }
   ],
   "source": [
    "final_weighted_dico"
   ]
  },
  {
   "cell_type": "code",
   "execution_count": null,
   "id": "fd418cc8-d317-4ff8-b567-91bab1d59208",
   "metadata": {},
   "outputs": [],
   "source": [
    "SEQ_based.LogReg__UF.prophages_metrics.tsv : '0.7': 0.36446002765094077\n",
    "SEQ_based.LogReg.prophages_metrics.tsv : '0.65': 0.39023597272237615 \n",
    "\n",
    "SEQ_based.RF.prophages_metrics.tsv : '0.85': 0.7677152879518742\n",
    "SEQ_based.RF__UF.prophages_metrics.tsv : '0.65': 0.3669266262836219"
   ]
  },
  {
   "cell_type": "code",
   "execution_count": null,
   "id": "b272896e-aa61-4837-9ab5-e86d99897f88",
   "metadata": {},
   "outputs": [],
   "source": [
    "import os \n",
    "\n",
    "path_work = \"/home/conchae/prediction_depolymerase_tropism/prophage_prediction/depolymerase_decipher/ficheros_28032023/Seqbased_model\"\n",
    "\n",
    "dico_models = {\"LR_21122024_models\" : {\"c_value\" : \"0.65\", \"destination\" : \"LogReg\"}, \n",
    "               #\"LR_21122024_models_ultraF\" : {\"c_value\" : \"0.7\", \"destination\" : \"LogReg_UF\"} , \n",
    "               #\"RF_21122024_models_ultraF\" : {\"c_value\" : \"0.65\", \"destination\" : \"TropiSEQ_UF\"},\n",
    "               \"RF_21122024_models_ultraF\" : {\"c_value\" : \"0.7\", \"destination\" : \"TropiSEQ_UF_70\"},\n",
    "               #\"RF_21122024_models_ultraF\" : {\"c_value\" : \"0.85\", \"destination\" : \"TropiSEQ_UF_85\"},\n",
    "              }\n",
    "\n",
    "os.makedirs(f\"{path_work}/reviewed_models/TropiSEQ_UF_70\", exist_ok=True)\n",
    "\n",
    "for file in os.listdir(path_work) : \n",
    "    if file in dico_models : \n",
    "        if file == \"RF_21122024_models_ultraF\":\n",
    "            for model in os.listdir(f\"{path_work}/{file}\") :\n",
    "                if model.startswith(dico_models[file][\"c_value\"]) :\n",
    "                    os.system(f\"cp {path_work}/{file}/{model} {path_work}/reviewed_models/{dico_models[file]['destination']}\")"
   ]
  },
  {
   "cell_type": "code",
   "execution_count": null,
   "id": "bc100a11-938d-475a-8322-90db29c1abf4",
   "metadata": {},
   "outputs": [],
   "source": [
    "rsync -avzhe ssh \\\n",
    "conchae@garnatxa.srv.cpd:/home/conchae/prediction_depolymerase_tropism/prophage_prediction/depolymerase_decipher/ficheros_28032023/Seqbased_model/reviewed_models \\\n",
    "/media/concha-eloko/Linux/PPT_clean/ficheros_28032023/review_work/SeqBased_model\n"
   ]
  },
  {
   "cell_type": "markdown",
   "id": "f3f7e3ed-c92d-466a-aafe-983987ee2127",
   "metadata": {},
   "source": [
    "***\n",
    "### Write the Metrics file: "
   ]
  },
  {
   "cell_type": "code",
   "execution_count": 7,
   "id": "f352e1af-ea31-4e8c-b7e8-09c6d0511e5b",
   "metadata": {
    "tags": []
   },
   "outputs": [],
   "source": [
    "import os \n",
    "import pandas as pd\n",
    "import json \n",
    "\n",
    "path_metrics = \"/media/concha-eloko/Linux/PPT_clean/ficheros_28032023/review_work/SeqBased_model/metric_files\"\n",
    "\n",
    "df_rf_uf = pd.read_csv(f\"{path_metrics}/SEQ_based.RF__UF.prophages_metrics.tsv\", sep = \"\\t\", names = [\"KL_types\", \"number_prophages\", \"c_value\", \"MCC\"])\n",
    "df_rf_uf = df_rf_uf[df_rf_uf[\"c_value\"] == 0.65]"
   ]
  },
  {
   "cell_type": "code",
   "execution_count": null,
   "id": "be3fa800-51c7-4eec-bc39-814ff0c3fac2",
   "metadata": {},
   "outputs": [],
   "source": [
    "path_seqbased = \"/media/concha-eloko/Linux/PPT_clean/Seqbased_model\"\n",
    "\n",
    "dico_cluster = json.load(open(f\"{path_seqbased}/dico_cluster.cdhit__0.65.json\"))\n",
    "dico_cluster_r = {ref_dpo : key_dpo for key_dpo,list_dpo in dico_cluster.items() for ref_dpo in list_dpo}"
   ]
  },
  {
   "cell_type": "markdown",
   "id": "bb518875-599f-4dc1-9f49-ab010169762c",
   "metadata": {},
   "source": [
    "> DataFrame :"
   ]
  },
  {
   "cell_type": "code",
   "execution_count": null,
   "id": "668a107a-bcf1-4a8e-bebb-2ec37eb5d413",
   "metadata": {
    "tags": []
   },
   "outputs": [],
   "source": [
    "from tqdm import tqdm\n",
    "\n",
    "path_work = \"/media/concha-eloko/Linux/PPT_clean\"\n",
    "\n",
    "df_info = pd.read_csv(f\"{path_work}/TropiGATv2.final_df_v2.tsv\", sep = \"\\t\" ,  header = 0)\n",
    "df_prophages = df_info.drop_duplicates(subset = [\"Phage\"], keep = \"first\")\n",
    "dico_prophage_info = {row[\"Phage\"] : {\"prophage_strain\" : row[\"prophage_id\"] , \"ancestor\" : row[\"Infected_ancestor\"]} for _,row in df_prophages.iterrows()}\n",
    "\n",
    "df_info_final = ultrafilter_prophages(filter_prophages(df_info, dico_prophage_info))\n",
    "df_info_final[\"dpo_cluster\"] = df_info_final[\"index\"].apply(lambda x : dico_cluster_r[x])"
   ]
  },
  {
   "cell_type": "code",
   "execution_count": null,
   "id": "59566499-61f7-41bb-8786-01209290b141",
   "metadata": {
    "tags": []
   },
   "outputs": [],
   "source": [
    "def get_number_dpocluster(df, kltype) :\n",
    "    relevant_df = df[df[\"KL_type_LCA\"] == kltype]\n",
    "    n_cluster = relevant_df[\"dpo_cluster\"].unique()\n",
    "    return len(n_cluster)"
   ]
  },
  {
   "cell_type": "code",
   "execution_count": null,
   "id": "4e7d35b8-4909-4b03-a75a-cb365e37d812",
   "metadata": {
    "tags": []
   },
   "outputs": [],
   "source": [
    "get_number_dpocluster(df_info_final, \"KL24\")"
   ]
  },
  {
   "cell_type": "code",
   "execution_count": null,
   "id": "c0188fa3-1d8d-4fb8-89db-b9f319170a96",
   "metadata": {
    "tags": []
   },
   "outputs": [],
   "source": [
    "for _, row in df_rf_uf.iterrows() :\n",
    "    n_clusters = get_number_dpocluster(df_info_final, row[\"KL_types\"])\n",
    "    ratio = n_clusters / row[\"number_prophages\"]\n",
    "    print(row[\"KL_types\"], round(row[\"MCC\"], 3), round(ratio, 3), n_clusters , row[\"number_prophages\"], sep = \"\\t\")"
   ]
  },
  {
   "cell_type": "code",
   "execution_count": null,
   "id": "43c5928b-cfa6-439d-a33c-e7b7c93d0811",
   "metadata": {},
   "outputs": [],
   "source": [
    "df_rf_uf"
   ]
  },
  {
   "cell_type": "markdown",
   "id": "1a750efa-9556-4865-83da-469447436bec",
   "metadata": {},
   "source": [
    "***\n",
    "# Plot MCC scores: "
   ]
  },
  {
   "cell_type": "code",
   "execution_count": 21,
   "id": "038741db-5204-4173-a972-3339dfa4e707",
   "metadata": {
    "tags": []
   },
   "outputs": [],
   "source": [
    "import os \n",
    "import pandas as pd\n",
    "import json \n",
    "\n",
    "path_metrics = \"/media/concha-eloko/Linux/PPT_clean\"\n",
    "\n",
    "#df_rf_uf = pd.read_csv(f\"{path_metrics}/SEQ_based.RF__UF.prophages_metrics.review.tsv\", sep = \"\\t\", names = [\"KL_types\", \"number_prophages\", \"c_value\", \"MCC\"])\n",
    "df_rf_uf = pd.read_csv(f\"{path_metrics}/KLtype_metrics.TropiSEQ.review.tsv\", sep = \"\\t\", names = [\"KL_types\", \"number_prophages\", \"c_value\", \"MCC\"])\n",
    "\n",
    "df_rf_uf = df_rf_uf[df_rf_uf[\"c_value\"] == 0.65]\n"
   ]
  },
  {
   "cell_type": "code",
   "execution_count": 22,
   "id": "1af1542e-c4aa-4b6b-8129-35f68757d064",
   "metadata": {
    "tags": []
   },
   "outputs": [
    {
     "data": {
      "text/html": [
       "<div>\n",
       "<style scoped>\n",
       "    .dataframe tbody tr th:only-of-type {\n",
       "        vertical-align: middle;\n",
       "    }\n",
       "\n",
       "    .dataframe tbody tr th {\n",
       "        vertical-align: top;\n",
       "    }\n",
       "\n",
       "    .dataframe thead th {\n",
       "        text-align: right;\n",
       "    }\n",
       "</style>\n",
       "<table border=\"1\" class=\"dataframe\">\n",
       "  <thead>\n",
       "    <tr style=\"text-align: right;\">\n",
       "      <th></th>\n",
       "      <th>KL_types</th>\n",
       "      <th>number_prophages</th>\n",
       "      <th>c_value</th>\n",
       "      <th>MCC</th>\n",
       "    </tr>\n",
       "  </thead>\n",
       "  <tbody>\n",
       "    <tr>\n",
       "      <th>0</th>\n",
       "      <td>KL36</td>\n",
       "      <td>48</td>\n",
       "      <td>0.65</td>\n",
       "      <td>0.323017</td>\n",
       "    </tr>\n",
       "    <tr>\n",
       "      <th>1</th>\n",
       "      <td>KL125</td>\n",
       "      <td>30</td>\n",
       "      <td>0.65</td>\n",
       "      <td>0.000000</td>\n",
       "    </tr>\n",
       "    <tr>\n",
       "      <th>2</th>\n",
       "      <td>KL6</td>\n",
       "      <td>12</td>\n",
       "      <td>0.65</td>\n",
       "      <td>0.000000</td>\n",
       "    </tr>\n",
       "    <tr>\n",
       "      <th>3</th>\n",
       "      <td>KL7</td>\n",
       "      <td>39</td>\n",
       "      <td>0.65</td>\n",
       "      <td>0.573359</td>\n",
       "    </tr>\n",
       "    <tr>\n",
       "      <th>4</th>\n",
       "      <td>KL12</td>\n",
       "      <td>57</td>\n",
       "      <td>0.65</td>\n",
       "      <td>0.604520</td>\n",
       "    </tr>\n",
       "    <tr>\n",
       "      <th>...</th>\n",
       "      <td>...</td>\n",
       "      <td>...</td>\n",
       "      <td>...</td>\n",
       "      <td>...</td>\n",
       "    </tr>\n",
       "    <tr>\n",
       "      <th>103</th>\n",
       "      <td>KL82</td>\n",
       "      <td>7</td>\n",
       "      <td>0.65</td>\n",
       "      <td>0.160000</td>\n",
       "    </tr>\n",
       "    <tr>\n",
       "      <th>104</th>\n",
       "      <td>KL149</td>\n",
       "      <td>51</td>\n",
       "      <td>0.65</td>\n",
       "      <td>0.302048</td>\n",
       "    </tr>\n",
       "    <tr>\n",
       "      <th>105</th>\n",
       "      <td>KL107</td>\n",
       "      <td>223</td>\n",
       "      <td>0.65</td>\n",
       "      <td>0.353817</td>\n",
       "    </tr>\n",
       "    <tr>\n",
       "      <th>106</th>\n",
       "      <td>KL31</td>\n",
       "      <td>14</td>\n",
       "      <td>0.65</td>\n",
       "      <td>0.000000</td>\n",
       "    </tr>\n",
       "    <tr>\n",
       "      <th>107</th>\n",
       "      <td>KL71</td>\n",
       "      <td>17</td>\n",
       "      <td>0.65</td>\n",
       "      <td>0.000000</td>\n",
       "    </tr>\n",
       "  </tbody>\n",
       "</table>\n",
       "<p>108 rows × 4 columns</p>\n",
       "</div>"
      ],
      "text/plain": [
       "    KL_types  number_prophages  c_value       MCC\n",
       "0       KL36                48     0.65  0.323017\n",
       "1      KL125                30     0.65  0.000000\n",
       "2        KL6                12     0.65  0.000000\n",
       "3        KL7                39     0.65  0.573359\n",
       "4       KL12                57     0.65  0.604520\n",
       "..       ...               ...      ...       ...\n",
       "103     KL82                 7     0.65  0.160000\n",
       "104    KL149                51     0.65  0.302048\n",
       "105    KL107               223     0.65  0.353817\n",
       "106     KL31                14     0.65  0.000000\n",
       "107     KL71                17     0.65  0.000000\n",
       "\n",
       "[108 rows x 4 columns]"
      ]
     },
     "execution_count": 22,
     "metadata": {},
     "output_type": "execute_result"
    }
   ],
   "source": [
    "df_rf_uf"
   ]
  },
  {
   "cell_type": "code",
   "execution_count": 5,
   "id": "ed9cf684-948b-4957-8185-941bdab1e15e",
   "metadata": {
    "tags": []
   },
   "outputs": [
    {
     "data": {
      "text/html": [
       "<div>\n",
       "<style scoped>\n",
       "    .dataframe tbody tr th:only-of-type {\n",
       "        vertical-align: middle;\n",
       "    }\n",
       "\n",
       "    .dataframe tbody tr th {\n",
       "        vertical-align: top;\n",
       "    }\n",
       "\n",
       "    .dataframe thead th {\n",
       "        text-align: right;\n",
       "    }\n",
       "</style>\n",
       "<table border=\"1\" class=\"dataframe\">\n",
       "  <thead>\n",
       "    <tr style=\"text-align: right;\">\n",
       "      <th></th>\n",
       "      <th>MCC</th>\n",
       "      <th>n_prophages</th>\n",
       "    </tr>\n",
       "  </thead>\n",
       "  <tbody>\n",
       "    <tr>\n",
       "      <th>0</th>\n",
       "      <td>0.323017</td>\n",
       "      <td>48</td>\n",
       "    </tr>\n",
       "    <tr>\n",
       "      <th>1</th>\n",
       "      <td>0.000000</td>\n",
       "      <td>30</td>\n",
       "    </tr>\n",
       "    <tr>\n",
       "      <th>2</th>\n",
       "      <td>0.000000</td>\n",
       "      <td>12</td>\n",
       "    </tr>\n",
       "    <tr>\n",
       "      <th>3</th>\n",
       "      <td>0.573359</td>\n",
       "      <td>39</td>\n",
       "    </tr>\n",
       "    <tr>\n",
       "      <th>4</th>\n",
       "      <td>0.604520</td>\n",
       "      <td>57</td>\n",
       "    </tr>\n",
       "    <tr>\n",
       "      <th>...</th>\n",
       "      <td>...</td>\n",
       "      <td>...</td>\n",
       "    </tr>\n",
       "    <tr>\n",
       "      <th>103</th>\n",
       "      <td>0.160000</td>\n",
       "      <td>7</td>\n",
       "    </tr>\n",
       "    <tr>\n",
       "      <th>104</th>\n",
       "      <td>0.302048</td>\n",
       "      <td>51</td>\n",
       "    </tr>\n",
       "    <tr>\n",
       "      <th>105</th>\n",
       "      <td>0.353817</td>\n",
       "      <td>223</td>\n",
       "    </tr>\n",
       "    <tr>\n",
       "      <th>106</th>\n",
       "      <td>0.000000</td>\n",
       "      <td>14</td>\n",
       "    </tr>\n",
       "    <tr>\n",
       "      <th>107</th>\n",
       "      <td>0.000000</td>\n",
       "      <td>17</td>\n",
       "    </tr>\n",
       "  </tbody>\n",
       "</table>\n",
       "<p>108 rows × 2 columns</p>\n",
       "</div>"
      ],
      "text/plain": [
       "          MCC  n_prophages\n",
       "0    0.323017           48\n",
       "1    0.000000           30\n",
       "2    0.000000           12\n",
       "3    0.573359           39\n",
       "4    0.604520           57\n",
       "..        ...          ...\n",
       "103  0.160000            7\n",
       "104  0.302048           51\n",
       "105  0.353817          223\n",
       "106  0.000000           14\n",
       "107  0.000000           17\n",
       "\n",
       "[108 rows x 2 columns]"
      ]
     },
     "execution_count": 5,
     "metadata": {},
     "output_type": "execute_result"
    }
   ],
   "source": [
    "data = list(zip(df_rf_uf[\"MCC\"].tolist(), df_rf_uf[\"number_prophages\"].tolist()))\n",
    "data_scatter_tropiseq = pd.DataFrame(data, columns=[\"MCC\", \"n_prophages\"])\n",
    "\n",
    "data_scatter_tropiseq"
   ]
  },
  {
   "cell_type": "code",
   "execution_count": 19,
   "id": "c5f4b17c-a04b-4e1a-b795-ac6afb1dcc42",
   "metadata": {
    "tags": []
   },
   "outputs": [
    {
     "data": {
      "image/png": "[encoded data removed]",
      "text/plain": [
       "<Figure size 640x480 with 1 Axes>"
      ]
     },
     "metadata": {},
     "output_type": "display_data"
    },
    {
     "name": "stdout",
     "output_type": "stream",
     "text": [
      "Pearson's r: 0.46159456442729746\n",
      "P-value: 4.952840626567285e-07\n"
     ]
    }
   ],
   "source": [
    "import os\n",
    "import pandas as pd\n",
    "import matplotlib.pyplot as plt\n",
    "import seaborn as sns\n",
    "import numpy as np\n",
    "from scipy.stats import pearsonr  # Import for Pearson correlation\n",
    "\n",
    "path_panels = \"/media/concha-eloko/Linux/papers/PPT/reviewed_new_figures/panels\"\n",
    "\n",
    "df = pd.DataFrame(data_scatter_tropiseq, columns=['n_prophages', 'MCC'])\n",
    "df['log_Number of prophages'] = np.log(df['n_prophages'])\n",
    "\n",
    "# Calculate Pearson correlation\n",
    "correlation, p_value = pearsonr(df['log_Number of prophages'], df['MCC'])\n",
    "\n",
    "# Draw the regression plot\n",
    "ax = sns.regplot(x=\"log_Number of prophages\", y=\"MCC\", data=df, color=\"#3A5A40\", scatter_kws={'alpha': 0.5}, line_kws={'linewidth': 2, 'linestyle': '--'})\n",
    "\n",
    "# Add correlation and p-value to the plot (uncommented and modified)\n",
    "correlation_str = f\"Pearson's r = {correlation:.2f}\"\n",
    "p_value_str = f\"p-value = {p_value:.3f}\"\n",
    "\n",
    "\n",
    "#ax.text(0.05, 0.9, equation, transform=ax.transAxes, fontsize=10, color=\"black\")\n",
    "#ax.text(0.05, 0.85, r_squared, transform=ax.transAxes, fontsize=10, color=\"black\")\n",
    "#ax.text(0.05, 0.8, p_value_str, transform=ax.transAxes, fontsize=10, color=\"black\")\n",
    "\n",
    "# Set the desired x-axis ticks and labels\n",
    "desired_ticks = [np.log(10), np.log(50), np.log(100), np.log(150)]\n",
    "desired_labels = [\"log(10)\", \"log(50)\", \"log(100)\", \"log(150)\"]\n",
    "\n",
    "plt.xticks(desired_ticks, desired_labels, rotation=90)  # Set ticks and labels\n",
    "\n",
    "plt.grid(True, alpha=0.2, linestyle='-')\n",
    "\n",
    "plt.xlabel('Number of prophages')\n",
    "plt.ylabel('MCC score')\n",
    "plt.title('Influence of the prophage count on the MCC score under TropiSEQ')\n",
    "\n",
    "plt.savefig(f'{path_panels}/scatter_plot.TropiSeq.review.svg',format = \"svg\", transparent = True)  # You can change the file extension as needed\n",
    "\n",
    "plt.show()\n",
    "\n",
    "\n",
    "print(f\"Pearson's r: {correlation}\")\n",
    "print(f\"P-value: {p_value}\")"
   ]
  },
  {
   "cell_type": "code",
   "execution_count": 8,
   "id": "43fff109-1e84-4afd-81f4-552409fcbc62",
   "metadata": {
    "tags": []
   },
   "outputs": [
    {
     "data": {
      "image/png": "[encoded data removed]",
      "text/plain": [
       "<Figure size 600x400 with 1 Axes>"
      ]
     },
     "metadata": {},
     "output_type": "display_data"
    },
    {
     "name": "stdout",
     "output_type": "stream",
     "text": [
      "Pearson's r: 0.35461858378247274\n",
      "P-value: 0.0001661742250571669\n"
     ]
    }
   ],
   "source": [
    "import os\n",
    "import pandas as pd\n",
    "import matplotlib.pyplot as plt\n",
    "import seaborn as sns\n",
    "import numpy as np\n",
    "from scipy.stats import pearsonr\n",
    "\n",
    "path_panels = \"/media/concha-eloko/Linux/papers/PPT/reviewed_new_figures/panels\"\n",
    "\n",
    "df = pd.DataFrame(data_scatter_tropiseq, columns=['n_prophages', 'MCC'])\n",
    "plt.figure(figsize=(6, 4)) \n",
    "\n",
    "# Calculate Pearson correlation (using the original n_prophages)\n",
    "correlation, p_value = pearsonr(df['n_prophages'], df['MCC'])\n",
    "\n",
    "# Draw the regression plot (using the original n_prophages)\n",
    "ax = sns.regplot(x=\"n_prophages\", y=\"MCC\", data=df, color=\"#3A5A40\", scatter_kws={'alpha': 0.5}, line_kws={'linewidth': 2, 'linestyle': '--'})\n",
    "\n",
    "# Add correlation and p-value to the plot\n",
    "correlation_str = f\"Pearson's r = {correlation:.2f}\"\n",
    "p_value_str = f\"p-value = {p_value:.3f}\"\n",
    "\n",
    "ax.text(0.05, 0.9, correlation_str, transform=ax.transAxes, fontsize=10, color=\"black\")\n",
    "ax.text(0.05, 0.85, p_value_str, transform=ax.transAxes, fontsize=10, color=\"black\")\n",
    "\n",
    "# Set the desired x-axis ticks and labels (using original values, but you can customize)\n",
    "# If you want to show actual values on the x-axis rather than log, you don't need log here\n",
    "# However, if the values are too large or too small, the plot might be unreadable.\n",
    "# You can customize the ticks and labels, for example, by choosing a subset of values.\n",
    "\n",
    "# Example of setting ticks at specific values\n",
    "# desired_ticks = [10, 50, 100, 150]  # Example: Set ticks at 10, 50, 100, 150\n",
    "# plt.xticks(desired_ticks, [str(tick) for tick in desired_ticks], rotation=90) # Convert to strings\n",
    "\n",
    "plt.grid(True, alpha=0.2, linestyle='-')\n",
    "\n",
    "plt.xlabel('Number of prophages')\n",
    "plt.ylabel('MCC score')\n",
    "plt.title('Influence of the prophage count on the MCC score under TropiSEQ')\n",
    "\n",
    "plt.savefig(f'{path_panels}/scatter_plot.TropiSeq.review_nolog.svg', format=\"svg\", transparent=True)\n",
    "\n",
    "plt.show()\n",
    "\n",
    "print(f\"Pearson's r: {correlation}\")\n",
    "print(f\"P-value: {p_value}\")"
   ]
  },
  {
   "cell_type": "code",
   "execution_count": null,
   "id": "e70028a3-519b-4b9d-9903-1481308eaa62",
   "metadata": {},
   "outputs": [],
   "source": []
  }
 ],
 "metadata": {
  "kernelspec": {
   "name": "conda-env-ML_work_v2-py"
  },
  "language_info": {
   "codemirror_mode": {
    "name": "ipython",
    "version": 3
   },
   "file_extension": ".py",
   "mimetype": "text/x-python",
   "name": "python",
   "nbconvert_exporter": "python",
   "pygments_lexer": "ipython3",
   "version": "3.9.18"
  }
 },
 "nbformat": 4,
 "nbformat_minor": 5
}
