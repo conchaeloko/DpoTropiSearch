{
 "cells": [
  {
   "cell_type": "markdown",
   "id": "0183ba4b-e688-4c1c-b115-3d3167530a75",
   "metadata": {},
   "source": [
    "# Compute the metrics for DAG based models: \n",
    "### A. TropiGAT\n",
    "### B. TropiSAGE\n",
    "***"
   ]
  },
  {
   "cell_type": "markdown",
   "id": "7ff39edc-cfb3-48f3-b007-b2a961a54c3a",
   "metadata": {},
   "source": [
    "> Importations :\n",
    "    "
   ]
  },
  {
   "cell_type": "code",
   "execution_count": null,
   "id": "5229c522-34e5-40b7-9af4-842ba7453c29",
   "metadata": {
    "tags": []
   },
   "outputs": [],
   "source": [
    "rsync -avzhe ssh \\\n",
    "conchae@garnatxa.srv.cpd:/home/conchae/prediction_depolymerase_tropism/prophage_prediction/depolymerase_decipher/ficheros_28032023/train_nn/TropiGAT_ensemble_27_11_2024_log \\\n",
    "/media/concha-eloko/Linux/PPT_clean/reviewed_models\n",
    "\n",
    "rsync -avzhe ssh \\\n",
    "conchae@garnatxa.srv.cpd:/home/conchae/prediction_depolymerase_tropism/prophage_prediction/depolymerase_decipher/ficheros_28032023/train_nn/TropiGAT_ensemble_ultraF_27_11_2024_log \\\n",
    "/media/concha-eloko/Linux/PPT_clean/reviewed_models\n",
    "\n",
    "rsync -avzhe ssh \\\n",
    "conchae@garnatxa.srv.cpd:/home/conchae/prediction_depolymerase_tropism/prophage_prediction/depolymerase_decipher/ficheros_28032023/train_nn/TropiSAGE_ensemble_27_11_2024_log \\\n",
    "/media/concha-eloko/Linux/PPT_clean/reviewed_models\n",
    "\n",
    "rsync -avzhe ssh \\\n",
    "conchae@garnatxa.srv.cpd:/home/conchae/prediction_depolymerase_tropism/prophage_prediction/depolymerase_decipher/ficheros_28032023/train_nn/TropiSAGE_ensemble_ultraF_27_11_2024_log \\\n",
    "/media/concha-eloko/Linux/PPT_clean/reviewed_models"
   ]
  },
  {
   "cell_type": "markdown",
   "id": "44ff6ab4-da6e-49d6-b0d0-66b14d070d06",
   "metadata": {},
   "source": [
    "> Relevant functions: "
   ]
  },
  {
   "cell_type": "code",
   "execution_count": 1,
   "id": "cc2f88f4-3261-4458-babe-1c6a3af66765",
   "metadata": {
    "jupyter": {
     "source_hidden": true
    },
    "tags": []
   },
   "outputs": [],
   "source": [
    "def make_table(log_file) :\n",
    "    import pandas as pd\n",
    "    lines_data = [line for line in open(log_file).read().split(\"\\n\") if line[0:6] == \"Epoch:\" if len(line.split(\"\\t\")) == 6] # if len(line.split(\"\\t\")) == 6*\n",
    "    lines_split = [line.split(\"\\t\") for line in lines_data]\n",
    "    df_raw = pd.DataFrame(lines_split , columns = [\"Epoch\",\"Train_loss\",\"Test_loss\",\"MCC\",\"AUC\",\"Acc\"])\n",
    "    df = df_raw.applymap(lambda x: float(x.split(\":\")[1]))\n",
    "    df.set_index(\"Epoch\", inplace = True)\n",
    "    return df\n",
    "    \n",
    "def plot_loss(df) : \n",
    "    import matplotlib.pyplot as plt\n",
    "    import seaborn as sns\n",
    "    sns.set(style=\"whitegrid\")\n",
    "    plt.figure(figsize=(10, 6))\n",
    "    plt.plot(df.index, df['Train_loss'], label='train loss', marker='o', linestyle='-', color =\"red\")\n",
    "    plt.plot(df.index, df['Test_loss'], label='test loss', marker='s', linestyle='--', color = \"blue\")\n",
    "    plt.title('Loss over epochs')\n",
    "    plt.xlabel('Epochs')\n",
    "    plt.ylabel('Loss')\n",
    "    plt.legend()\n",
    "    plt.grid(True)   \n",
    "    plt.show()  \n",
    "    "
   ]
  },
  {
   "cell_type": "markdown",
   "id": "8de7d670-cda8-4024-8eaf-fe940dbe0513",
   "metadata": {
    "tags": []
   },
   "source": [
    "### A. TropiGAT"
   ]
  },
  {
   "cell_type": "code",
   "execution_count": 2,
   "id": "fc741192-c674-47e5-a734-f65be4286466",
   "metadata": {
    "tags": []
   },
   "outputs": [],
   "source": [
    "import os \n",
    "import pandas as pd\n",
    "import matplotlib.pyplot as plt\n",
    "import seaborn as sns\n",
    "import numpy as np\n",
    "\n",
    "path_metrics = \"/media/concha-eloko/Linux/PPT_clean/reviewed_models\"\n",
    "\n",
    "path_tropigat_uf = f\"{path_metrics}/TropiGAT_ensemble_ultraF_27_11_2024_log\"\n",
    "path_tropigat = f\"{path_metrics}/TropiGAT_ensemble_27_11_2024_log\""
   ]
  },
  {
   "cell_type": "markdown",
   "id": "d5fa891b-9856-4e5a-9305-571e23e75973",
   "metadata": {},
   "source": [
    "> Regular filtration: "
   ]
  },
  {
   "cell_type": "code",
   "execution_count": 2,
   "id": "83491b5a-205c-42f8-a61c-bbbe4eb01114",
   "metadata": {
    "collapsed": true,
    "jupyter": {
     "outputs_hidden": true,
     "source_hidden": true
    },
    "tags": []
   },
   "outputs": [
    {
     "data": {
      "text/html": [
       "<div>\n",
       "<style scoped>\n",
       "    .dataframe tbody tr th:only-of-type {\n",
       "        vertical-align: middle;\n",
       "    }\n",
       "\n",
       "    .dataframe tbody tr th {\n",
       "        vertical-align: top;\n",
       "    }\n",
       "\n",
       "    .dataframe thead th {\n",
       "        text-align: right;\n",
       "    }\n",
       "</style>\n",
       "<table border=\"1\" class=\"dataframe\">\n",
       "  <thead>\n",
       "    <tr style=\"text-align: right;\">\n",
       "      <th></th>\n",
       "      <th>KL_type</th>\n",
       "      <th>model_version</th>\n",
       "      <th>n_prophages</th>\n",
       "      <th>precision</th>\n",
       "      <th>recall</th>\n",
       "      <th>Accuracy</th>\n",
       "      <th>F1_score</th>\n",
       "      <th>AUC</th>\n",
       "      <th>MCC</th>\n",
       "    </tr>\n",
       "  </thead>\n",
       "  <tbody>\n",
       "    <tr>\n",
       "      <th>0</th>\n",
       "      <td>KL1</td>\n",
       "      <td>KL1__4</td>\n",
       "      <td>190</td>\n",
       "      <td>0.8537</td>\n",
       "      <td>0.5473</td>\n",
       "      <td>0.9105</td>\n",
       "      <td>0.6428</td>\n",
       "      <td>0.8888</td>\n",
       "      <td>0.6295</td>\n",
       "    </tr>\n",
       "    <tr>\n",
       "      <th>1</th>\n",
       "      <td>KL2</td>\n",
       "      <td>KL2__3</td>\n",
       "      <td>351</td>\n",
       "      <td>0.9384</td>\n",
       "      <td>0.7486</td>\n",
       "      <td>0.9495</td>\n",
       "      <td>0.8323</td>\n",
       "      <td>0.9697</td>\n",
       "      <td>0.8104</td>\n",
       "    </tr>\n",
       "    <tr>\n",
       "      <th>2</th>\n",
       "      <td>KL3</td>\n",
       "      <td>KL3__5</td>\n",
       "      <td>145</td>\n",
       "      <td>0.8362</td>\n",
       "      <td>0.9857</td>\n",
       "      <td>0.9651</td>\n",
       "      <td>0.9034</td>\n",
       "      <td>0.9857</td>\n",
       "      <td>0.8879</td>\n",
       "    </tr>\n",
       "    <tr>\n",
       "      <th>3</th>\n",
       "      <td>KL4</td>\n",
       "      <td>KL4__5</td>\n",
       "      <td>13</td>\n",
       "      <td>0.2000</td>\n",
       "      <td>0.4000</td>\n",
       "      <td>0.8000</td>\n",
       "      <td>0.2667</td>\n",
       "      <td>0.8000</td>\n",
       "      <td>0.1915</td>\n",
       "    </tr>\n",
       "    <tr>\n",
       "      <th>4</th>\n",
       "      <td>KL5</td>\n",
       "      <td>KL5__4</td>\n",
       "      <td>28</td>\n",
       "      <td>0.7800</td>\n",
       "      <td>0.7000</td>\n",
       "      <td>0.9000</td>\n",
       "      <td>0.6476</td>\n",
       "      <td>0.8072</td>\n",
       "      <td>0.6529</td>\n",
       "    </tr>\n",
       "    <tr>\n",
       "      <th>...</th>\n",
       "      <td>...</td>\n",
       "      <td>...</td>\n",
       "      <td>...</td>\n",
       "      <td>...</td>\n",
       "      <td>...</td>\n",
       "      <td>...</td>\n",
       "      <td>...</td>\n",
       "      <td>...</td>\n",
       "      <td>...</td>\n",
       "    </tr>\n",
       "    <tr>\n",
       "      <th>87</th>\n",
       "      <td>KL153</td>\n",
       "      <td>KL153__4</td>\n",
       "      <td>18</td>\n",
       "      <td>0.3000</td>\n",
       "      <td>0.4000</td>\n",
       "      <td>0.8400</td>\n",
       "      <td>0.3333</td>\n",
       "      <td>0.5556</td>\n",
       "      <td>0.2556</td>\n",
       "    </tr>\n",
       "    <tr>\n",
       "      <th>88</th>\n",
       "      <td>KL155</td>\n",
       "      <td>KL155__2</td>\n",
       "      <td>13</td>\n",
       "      <td>0.4000</td>\n",
       "      <td>0.4000</td>\n",
       "      <td>0.8857</td>\n",
       "      <td>0.4000</td>\n",
       "      <td>0.9667</td>\n",
       "      <td>0.3667</td>\n",
       "    </tr>\n",
       "    <tr>\n",
       "      <th>89</th>\n",
       "      <td>KL157</td>\n",
       "      <td>KL157__4</td>\n",
       "      <td>13</td>\n",
       "      <td>0.5000</td>\n",
       "      <td>0.6000</td>\n",
       "      <td>0.8286</td>\n",
       "      <td>0.5333</td>\n",
       "      <td>0.7667</td>\n",
       "      <td>0.4441</td>\n",
       "    </tr>\n",
       "    <tr>\n",
       "      <th>90</th>\n",
       "      <td>KL166</td>\n",
       "      <td>KL166__3</td>\n",
       "      <td>10</td>\n",
       "      <td>0.2000</td>\n",
       "      <td>0.2000</td>\n",
       "      <td>0.7333</td>\n",
       "      <td>0.2000</td>\n",
       "      <td>0.7200</td>\n",
       "      <td>0.0735</td>\n",
       "    </tr>\n",
       "    <tr>\n",
       "      <th>91</th>\n",
       "      <td>KL169</td>\n",
       "      <td>KL169__3</td>\n",
       "      <td>27</td>\n",
       "      <td>0.5333</td>\n",
       "      <td>0.5000</td>\n",
       "      <td>0.8133</td>\n",
       "      <td>0.4500</td>\n",
       "      <td>0.7846</td>\n",
       "      <td>0.3879</td>\n",
       "    </tr>\n",
       "  </tbody>\n",
       "</table>\n",
       "<p>92 rows × 9 columns</p>\n",
       "</div>"
      ],
      "text/plain": [
       "   KL_type model_version  n_prophages  precision  recall  Accuracy  F1_score  \\\n",
       "0      KL1        KL1__4          190     0.8537  0.5473    0.9105    0.6428   \n",
       "1      KL2        KL2__3          351     0.9384  0.7486    0.9495    0.8323   \n",
       "2      KL3        KL3__5          145     0.8362  0.9857    0.9651    0.9034   \n",
       "3      KL4        KL4__5           13     0.2000  0.4000    0.8000    0.2667   \n",
       "4      KL5        KL5__4           28     0.7800  0.7000    0.9000    0.6476   \n",
       "..     ...           ...          ...        ...     ...       ...       ...   \n",
       "87   KL153      KL153__4           18     0.3000  0.4000    0.8400    0.3333   \n",
       "88   KL155      KL155__2           13     0.4000  0.4000    0.8857    0.4000   \n",
       "89   KL157      KL157__4           13     0.5000  0.6000    0.8286    0.5333   \n",
       "90   KL166      KL166__3           10     0.2000  0.2000    0.7333    0.2000   \n",
       "91   KL169      KL169__3           27     0.5333  0.5000    0.8133    0.4500   \n",
       "\n",
       "       AUC     MCC  \n",
       "0   0.8888  0.6295  \n",
       "1   0.9697  0.8104  \n",
       "2   0.9857  0.8879  \n",
       "3   0.8000  0.1915  \n",
       "4   0.8072  0.6529  \n",
       "..     ...     ...  \n",
       "87  0.5556  0.2556  \n",
       "88  0.9667  0.3667  \n",
       "89  0.7667  0.4441  \n",
       "90  0.7200  0.0735  \n",
       "91  0.7846  0.3879  \n",
       "\n",
       "[92 rows x 9 columns]"
      ]
     },
     "execution_count": 2,
     "metadata": {},
     "output_type": "execute_result"
    }
   ],
   "source": [
    "# Open the data frame\n",
    "metrics_names = [\"KL_type\" , \"n_prophages\", \"F1_score\", \"precision\" , \"recall\", \"MCC\", \"Accuracy\", \"AUC\"]\n",
    "df_metrics = pd.read_csv(f\"{path_tropigat}/Metric_Report.27_11_2024.tsv\", sep = \"\\t\", names = metrics_names)\n",
    "df_metrics = df_metrics.drop_duplicates(subset = [\"KL_type\"], keep = \"last\")\n",
    "df_metrics_sorted = df_metrics.sort_values(by='KL_type', key=lambda x: x.str.split(\"KL\").str[1].str.split(\"__\").str[0].astype(int))\n",
    "df_metrics_sorted.reset_index(drop=True, inplace=True)\n",
    "\n",
    "# Add the KL_clean column : \n",
    "df_metrics_sorted[\"KL_clean\"] = df_metrics_sorted[\"KL_type\"].apply(lambda x : x.split(\"__\")[0])\n",
    "df_metrics_sorted['F1_score'] = df_metrics_sorted['F1_score'].astype(float)\n",
    "\n",
    "average_metrics = []\n",
    "\n",
    "for kltype in df_metrics_sorted[\"KL_clean\"].unique().tolist() :\n",
    "    df_kl = df_metrics_sorted[df_metrics_sorted[\"KL_clean\"] == kltype]\n",
    "    # get the optimum version :  \n",
    "    max_mcc_index = df_kl['MCC'].idxmax()\n",
    "    v_model = df_kl.loc[max_mcc_index, 'KL_type']\n",
    "    # get the average metrics :\n",
    "    av_f1 = np.round(np.mean(df_kl[\"F1_score\"].values), 4)\n",
    "    av_preci = np.round(np.mean(df_kl[\"precision\"].values), 4)\n",
    "    av_recall = np.round(np.mean(df_kl[\"recall\"].values), 4)\n",
    "    av_mcc = np.round(np.mean(df_kl[\"MCC\"].values), 4)\n",
    "    av_acc = np.round(np.mean(df_kl[\"Accuracy\"].values), 4)\n",
    "    av_auc = np.round(np.mean(df_kl[\"AUC\"].values), 4)\n",
    "    # make the line :\n",
    "    line = [kltype, v_model ,df_kl[\"n_prophages\"].values[0], av_preci, av_recall, av_acc, av_f1, av_auc, av_mcc]\n",
    "    average_metrics.append(line)\n",
    "\n",
    "names_col = [\"KL_type\",\"model_version\",\"n_prophages\",\"precision\",\"recall\",\"Accuracy\",\"F1_score\",\"AUC\",\"MCC\"]\n",
    "average_metric_df = pd.DataFrame(average_metrics, columns = names_col)\n",
    "average_metric_df.to_csv(f\"/media/concha-eloko/Linux/PPT_clean/ficheros_28032023/Metric_Report.review.GAT.F.tsv\", sep = \"\\t\", index = False, header = True)\n",
    "\n",
    "average_metric_df"
   ]
  },
  {
   "cell_type": "markdown",
   "id": "e38ee9b1-afe5-4f4d-9d97-6cc64f375daa",
   "metadata": {},
   "source": [
    "> Ultrafiltration:"
   ]
  },
  {
   "cell_type": "code",
   "execution_count": 3,
   "id": "5615d65b-c19d-4749-87cd-a0c901ea21fe",
   "metadata": {
    "tags": []
   },
   "outputs": [],
   "source": [
    "# Open the data frame\n",
    "metrics_names = [\"KL_type\" , \"n_prophages\", \"F1_score\", \"precision\" , \"recall\", \"MCC\", \"Accuracy\", \"AUC\"]\n",
    "df_metrics = pd.read_csv(f\"{path_tropigat_uf}/Metric_Report.27_11_2024.tsv\", sep = \"\\t\", names = metrics_names)\n",
    "df_metrics = df_metrics.drop_duplicates(subset = [\"KL_type\"], keep = \"last\")\n",
    "df_metrics_sorted = df_metrics.sort_values(by='KL_type', key=lambda x: x.str.split(\"KL\").str[1].str.split(\"__\").str[0].astype(int))\n",
    "df_metrics_sorted.reset_index(drop=True, inplace=True)\n",
    "\n",
    "# Add the KL_clean column : \n",
    "df_metrics_sorted[\"KL_clean\"] = df_metrics_sorted[\"KL_type\"].apply(lambda x : x.split(\"__\")[0])\n",
    "df_metrics_sorted['F1_score'] = df_metrics_sorted['F1_score'].astype(float)\n",
    "\n",
    "average_metrics = []\n",
    "\n",
    "for kltype in df_metrics_sorted[\"KL_clean\"].unique().tolist() :\n",
    "    df_kl = df_metrics_sorted[df_metrics_sorted[\"KL_clean\"] == kltype]\n",
    "    # get the optimum version :  \n",
    "    max_mcc_index = df_kl['MCC'].idxmax()\n",
    "    v_model = df_kl.loc[max_mcc_index, 'KL_type']\n",
    "    # get the average metrics :\n",
    "    av_f1 = np.round(np.mean(df_kl[\"F1_score\"].values), 4)\n",
    "    av_preci = np.round(np.mean(df_kl[\"precision\"].values), 4)\n",
    "    av_recall = np.round(np.mean(df_kl[\"recall\"].values), 4)\n",
    "    av_mcc = np.round(np.mean(df_kl[\"MCC\"].values), 4)\n",
    "    av_acc = np.round(np.mean(df_kl[\"Accuracy\"].values), 4)\n",
    "    av_auc = np.round(np.mean(df_kl[\"AUC\"].values), 4)\n",
    "    # make the line :\n",
    "    line = [kltype, v_model ,df_kl[\"n_prophages\"].values[0], av_preci, av_recall, av_acc, av_f1, av_auc, av_mcc]\n",
    "    average_metrics.append(line)\n",
    "\n",
    "names_col = [\"KL_type\",\"model_version\",\"n_prophages\",\"precision\",\"recall\",\"Accuracy\",\"F1_score\",\"AUC\",\"MCC\"]\n",
    "average_metric_df = pd.DataFrame(average_metrics, columns = names_col)\n",
    "average_metric_df.to_csv(f\"/media/concha-eloko/Linux/PPT_clean/ficheros_28032023/Metric_Report.review.GAT.UF.tsv\", sep = \"\\t\", index = False, header = True)\n",
    "\n",
    "UF_tropigat = average_metric_df"
   ]
  },
  {
   "cell_type": "code",
   "execution_count": 4,
   "id": "4f4640f2-ffc7-4982-865b-02e2528a9e45",
   "metadata": {
    "tags": []
   },
   "outputs": [
    {
     "data": {
      "text/html": [
       "<div>\n",
       "<style scoped>\n",
       "    .dataframe tbody tr th:only-of-type {\n",
       "        vertical-align: middle;\n",
       "    }\n",
       "\n",
       "    .dataframe tbody tr th {\n",
       "        vertical-align: top;\n",
       "    }\n",
       "\n",
       "    .dataframe thead th {\n",
       "        text-align: right;\n",
       "    }\n",
       "</style>\n",
       "<table border=\"1\" class=\"dataframe\">\n",
       "  <thead>\n",
       "    <tr style=\"text-align: right;\">\n",
       "      <th></th>\n",
       "      <th>KL_type</th>\n",
       "      <th>model_version</th>\n",
       "      <th>n_prophages</th>\n",
       "      <th>precision</th>\n",
       "      <th>recall</th>\n",
       "      <th>Accuracy</th>\n",
       "      <th>F1_score</th>\n",
       "      <th>AUC</th>\n",
       "      <th>MCC</th>\n",
       "    </tr>\n",
       "  </thead>\n",
       "  <tbody>\n",
       "    <tr>\n",
       "      <th>29</th>\n",
       "      <td>KL31</td>\n",
       "      <td>KL31__4</td>\n",
       "      <td>11</td>\n",
       "      <td>0.0000</td>\n",
       "      <td>0.0000</td>\n",
       "      <td>0.6667</td>\n",
       "      <td>0.0000</td>\n",
       "      <td>0.4800</td>\n",
       "      <td>-0.1832</td>\n",
       "    </tr>\n",
       "    <tr>\n",
       "      <th>5</th>\n",
       "      <td>KL6</td>\n",
       "      <td>KL6__1</td>\n",
       "      <td>11</td>\n",
       "      <td>0.0000</td>\n",
       "      <td>0.0000</td>\n",
       "      <td>0.7333</td>\n",
       "      <td>0.0000</td>\n",
       "      <td>0.6000</td>\n",
       "      <td>-0.1032</td>\n",
       "    </tr>\n",
       "    <tr>\n",
       "      <th>8</th>\n",
       "      <td>KL9</td>\n",
       "      <td>KL9__3</td>\n",
       "      <td>18</td>\n",
       "      <td>0.0000</td>\n",
       "      <td>0.0000</td>\n",
       "      <td>0.8400</td>\n",
       "      <td>0.0000</td>\n",
       "      <td>0.6444</td>\n",
       "      <td>-0.0436</td>\n",
       "    </tr>\n",
       "    <tr>\n",
       "      <th>56</th>\n",
       "      <td>KL103</td>\n",
       "      <td>KL103__3</td>\n",
       "      <td>11</td>\n",
       "      <td>0.0000</td>\n",
       "      <td>0.0000</td>\n",
       "      <td>0.8000</td>\n",
       "      <td>0.0000</td>\n",
       "      <td>0.7600</td>\n",
       "      <td>-0.0400</td>\n",
       "    </tr>\n",
       "    <tr>\n",
       "      <th>43</th>\n",
       "      <td>KL55</td>\n",
       "      <td>KL55__4</td>\n",
       "      <td>17</td>\n",
       "      <td>0.0667</td>\n",
       "      <td>0.2000</td>\n",
       "      <td>0.7778</td>\n",
       "      <td>0.1000</td>\n",
       "      <td>0.7000</td>\n",
       "      <td>0.0122</td>\n",
       "    </tr>\n",
       "    <tr>\n",
       "      <th>...</th>\n",
       "      <td>...</td>\n",
       "      <td>...</td>\n",
       "      <td>...</td>\n",
       "      <td>...</td>\n",
       "      <td>...</td>\n",
       "      <td>...</td>\n",
       "      <td>...</td>\n",
       "      <td>...</td>\n",
       "      <td>...</td>\n",
       "    </tr>\n",
       "    <tr>\n",
       "      <th>44</th>\n",
       "      <td>KL56</td>\n",
       "      <td>KL56__2</td>\n",
       "      <td>13</td>\n",
       "      <td>0.7000</td>\n",
       "      <td>1.0000</td>\n",
       "      <td>0.9143</td>\n",
       "      <td>0.8000</td>\n",
       "      <td>0.9333</td>\n",
       "      <td>0.7873</td>\n",
       "    </tr>\n",
       "    <tr>\n",
       "      <th>2</th>\n",
       "      <td>KL3</td>\n",
       "      <td>KL3__5</td>\n",
       "      <td>90</td>\n",
       "      <td>0.8292</td>\n",
       "      <td>0.8445</td>\n",
       "      <td>0.9444</td>\n",
       "      <td>0.8299</td>\n",
       "      <td>0.9531</td>\n",
       "      <td>0.8019</td>\n",
       "    </tr>\n",
       "    <tr>\n",
       "      <th>55</th>\n",
       "      <td>KL102</td>\n",
       "      <td>KL102__5</td>\n",
       "      <td>111</td>\n",
       "      <td>0.8570</td>\n",
       "      <td>0.8182</td>\n",
       "      <td>0.9454</td>\n",
       "      <td>0.8323</td>\n",
       "      <td>0.9504</td>\n",
       "      <td>0.8034</td>\n",
       "    </tr>\n",
       "    <tr>\n",
       "      <th>20</th>\n",
       "      <td>KL22</td>\n",
       "      <td>KL22__4</td>\n",
       "      <td>43</td>\n",
       "      <td>0.8643</td>\n",
       "      <td>0.8500</td>\n",
       "      <td>0.9440</td>\n",
       "      <td>0.8288</td>\n",
       "      <td>0.9238</td>\n",
       "      <td>0.8156</td>\n",
       "    </tr>\n",
       "    <tr>\n",
       "      <th>15</th>\n",
       "      <td>KL17</td>\n",
       "      <td>KL17__3</td>\n",
       "      <td>148</td>\n",
       "      <td>0.8510</td>\n",
       "      <td>0.8572</td>\n",
       "      <td>0.9523</td>\n",
       "      <td>0.8499</td>\n",
       "      <td>0.9373</td>\n",
       "      <td>0.8245</td>\n",
       "    </tr>\n",
       "  </tbody>\n",
       "</table>\n",
       "<p>85 rows × 9 columns</p>\n",
       "</div>"
      ],
      "text/plain": [
       "   KL_type model_version  n_prophages  precision  recall  Accuracy  F1_score  \\\n",
       "29    KL31       KL31__4           11     0.0000  0.0000    0.6667    0.0000   \n",
       "5      KL6        KL6__1           11     0.0000  0.0000    0.7333    0.0000   \n",
       "8      KL9        KL9__3           18     0.0000  0.0000    0.8400    0.0000   \n",
       "56   KL103      KL103__3           11     0.0000  0.0000    0.8000    0.0000   \n",
       "43    KL55       KL55__4           17     0.0667  0.2000    0.7778    0.1000   \n",
       "..     ...           ...          ...        ...     ...       ...       ...   \n",
       "44    KL56       KL56__2           13     0.7000  1.0000    0.9143    0.8000   \n",
       "2      KL3        KL3__5           90     0.8292  0.8445    0.9444    0.8299   \n",
       "55   KL102      KL102__5          111     0.8570  0.8182    0.9454    0.8323   \n",
       "20    KL22       KL22__4           43     0.8643  0.8500    0.9440    0.8288   \n",
       "15    KL17       KL17__3          148     0.8510  0.8572    0.9523    0.8499   \n",
       "\n",
       "       AUC     MCC  \n",
       "29  0.4800 -0.1832  \n",
       "5   0.6000 -0.1032  \n",
       "8   0.6444 -0.0436  \n",
       "56  0.7600 -0.0400  \n",
       "43  0.7000  0.0122  \n",
       "..     ...     ...  \n",
       "44  0.9333  0.7873  \n",
       "2   0.9531  0.8019  \n",
       "55  0.9504  0.8034  \n",
       "20  0.9238  0.8156  \n",
       "15  0.9373  0.8245  \n",
       "\n",
       "[85 rows x 9 columns]"
      ]
     },
     "execution_count": 4,
     "metadata": {},
     "output_type": "execute_result"
    }
   ],
   "source": [
    "# UF_tropigat.sort_values(by='MCC', ascending=False).to_csv(f\"/media/concha-eloko/Linux/PPT_clean/ficheros_28032023/Metric_Report.review.GAT.UF.ordered.tsv\", sep = \"\\t\", index = False, header = True)\n",
    "UF_tropigat.sort_values(by='MCC', ascending=True)"
   ]
  },
  {
   "cell_type": "code",
   "execution_count": 8,
   "id": "e1143d3c-85a3-4ae8-9c42-a2e5ca1c95b4",
   "metadata": {
    "tags": []
   },
   "outputs": [
    {
     "data": {
      "text/plain": [
       "0.5468401081081082"
      ]
     },
     "execution_count": 8,
     "metadata": {},
     "output_type": "execute_result"
    }
   ],
   "source": [
    "n_uf = sum(UF_tropigat[\"n_prophages\"])\n",
    "weighted_mcc_tropigat = [] \n",
    "for _, row in UF_tropigat.iterrows() : \n",
    "    w_mcc = row[\"MCC\"] * row[\"n_prophages\"] / n_uf\n",
    "    weighted_mcc_tropigat.append(w_mcc)\n",
    "\n",
    "MCC_weigth_tropigat = sum(weighted_mcc_tropigat)\n",
    "MCC_weigth_tropigat\n"
   ]
  },
  {
   "cell_type": "markdown",
   "id": "89846bbc-5686-411d-a965-4cda61cb8781",
   "metadata": {
    "jp-MarkdownHeadingCollapsed": true,
    "tags": []
   },
   "source": [
    "***\n",
    "### B. TropiSAGE"
   ]
  },
  {
   "cell_type": "code",
   "execution_count": 6,
   "id": "87d4cf50-8664-4bbe-8fbe-c43e1a41620e",
   "metadata": {
    "tags": []
   },
   "outputs": [],
   "source": [
    "import os \n",
    "import pandas as pd\n",
    "import matplotlib.pyplot as plt\n",
    "import seaborn as sns\n",
    "import numpy as np\n",
    "\n",
    "path_metrics = \"/media/concha-eloko/Linux/PPT_clean/reviewed_models\"\n",
    "\n",
    "path_tropisage_uf = f\"{path_metrics}/TropiSAGE_ensemble_ultraF_27_11_2024_log\"\n",
    "path_tropisage = f\"{path_metrics}/TropiSAGE_ensemble_27_11_2024_log\""
   ]
  },
  {
   "cell_type": "markdown",
   "id": "88cde1cc-6bc3-41da-839a-d9af57622daf",
   "metadata": {},
   "source": [
    "> Regular filtration: "
   ]
  },
  {
   "cell_type": "code",
   "execution_count": 15,
   "id": "9b5fb6c6-1dd7-4078-9e11-036b331050a6",
   "metadata": {
    "collapsed": true,
    "jupyter": {
     "outputs_hidden": true,
     "source_hidden": true
    },
    "tags": []
   },
   "outputs": [
    {
     "data": {
      "text/html": [
       "<div>\n",
       "<style scoped>\n",
       "    .dataframe tbody tr th:only-of-type {\n",
       "        vertical-align: middle;\n",
       "    }\n",
       "\n",
       "    .dataframe tbody tr th {\n",
       "        vertical-align: top;\n",
       "    }\n",
       "\n",
       "    .dataframe thead th {\n",
       "        text-align: right;\n",
       "    }\n",
       "</style>\n",
       "<table border=\"1\" class=\"dataframe\">\n",
       "  <thead>\n",
       "    <tr style=\"text-align: right;\">\n",
       "      <th></th>\n",
       "      <th>KL_type</th>\n",
       "      <th>model_version</th>\n",
       "      <th>n_prophages</th>\n",
       "      <th>precision</th>\n",
       "      <th>recall</th>\n",
       "      <th>Accuracy</th>\n",
       "      <th>F1_score</th>\n",
       "      <th>AUC</th>\n",
       "      <th>MCC</th>\n",
       "    </tr>\n",
       "  </thead>\n",
       "  <tbody>\n",
       "    <tr>\n",
       "      <th>0</th>\n",
       "      <td>KL1</td>\n",
       "      <td>KL1__4</td>\n",
       "      <td>190</td>\n",
       "      <td>0.8853</td>\n",
       "      <td>0.7895</td>\n",
       "      <td>0.9474</td>\n",
       "      <td>0.8338</td>\n",
       "      <td>0.8871</td>\n",
       "      <td>0.8051</td>\n",
       "    </tr>\n",
       "    <tr>\n",
       "      <th>1</th>\n",
       "      <td>KL2</td>\n",
       "      <td>KL2__4</td>\n",
       "      <td>351</td>\n",
       "      <td>0.9162</td>\n",
       "      <td>0.8743</td>\n",
       "      <td>0.9657</td>\n",
       "      <td>0.8946</td>\n",
       "      <td>0.9616</td>\n",
       "      <td>0.8746</td>\n",
       "    </tr>\n",
       "    <tr>\n",
       "      <th>2</th>\n",
       "      <td>KL3</td>\n",
       "      <td>KL3__5</td>\n",
       "      <td>145</td>\n",
       "      <td>0.9349</td>\n",
       "      <td>0.9572</td>\n",
       "      <td>0.9814</td>\n",
       "      <td>0.9448</td>\n",
       "      <td>0.9974</td>\n",
       "      <td>0.9345</td>\n",
       "    </tr>\n",
       "    <tr>\n",
       "      <th>3</th>\n",
       "      <td>KL4</td>\n",
       "      <td>KL4__5</td>\n",
       "      <td>13</td>\n",
       "      <td>0.2000</td>\n",
       "      <td>0.4000</td>\n",
       "      <td>0.8571</td>\n",
       "      <td>0.2667</td>\n",
       "      <td>0.8666</td>\n",
       "      <td>0.2582</td>\n",
       "    </tr>\n",
       "    <tr>\n",
       "      <th>4</th>\n",
       "      <td>KL5</td>\n",
       "      <td>KL5__4</td>\n",
       "      <td>28</td>\n",
       "      <td>0.6000</td>\n",
       "      <td>0.8000</td>\n",
       "      <td>0.8875</td>\n",
       "      <td>0.6334</td>\n",
       "      <td>0.8572</td>\n",
       "      <td>0.6152</td>\n",
       "    </tr>\n",
       "    <tr>\n",
       "      <th>...</th>\n",
       "      <td>...</td>\n",
       "      <td>...</td>\n",
       "      <td>...</td>\n",
       "      <td>...</td>\n",
       "      <td>...</td>\n",
       "      <td>...</td>\n",
       "      <td>...</td>\n",
       "      <td>...</td>\n",
       "      <td>...</td>\n",
       "    </tr>\n",
       "    <tr>\n",
       "      <th>87</th>\n",
       "      <td>KL153</td>\n",
       "      <td>KL153__4</td>\n",
       "      <td>18</td>\n",
       "      <td>0.1167</td>\n",
       "      <td>0.4000</td>\n",
       "      <td>0.7200</td>\n",
       "      <td>0.1800</td>\n",
       "      <td>0.4444</td>\n",
       "      <td>0.0843</td>\n",
       "    </tr>\n",
       "    <tr>\n",
       "      <th>88</th>\n",
       "      <td>KL155</td>\n",
       "      <td>KL155__2</td>\n",
       "      <td>13</td>\n",
       "      <td>0.7000</td>\n",
       "      <td>0.8000</td>\n",
       "      <td>0.9143</td>\n",
       "      <td>0.7333</td>\n",
       "      <td>0.9000</td>\n",
       "      <td>0.6958</td>\n",
       "    </tr>\n",
       "    <tr>\n",
       "      <th>89</th>\n",
       "      <td>KL157</td>\n",
       "      <td>KL157__4</td>\n",
       "      <td>13</td>\n",
       "      <td>0.5000</td>\n",
       "      <td>0.8000</td>\n",
       "      <td>0.8571</td>\n",
       "      <td>0.6000</td>\n",
       "      <td>0.8000</td>\n",
       "      <td>0.5540</td>\n",
       "    </tr>\n",
       "    <tr>\n",
       "      <th>90</th>\n",
       "      <td>KL166</td>\n",
       "      <td>KL166__3</td>\n",
       "      <td>10</td>\n",
       "      <td>0.2333</td>\n",
       "      <td>0.6000</td>\n",
       "      <td>0.6667</td>\n",
       "      <td>0.3333</td>\n",
       "      <td>0.6400</td>\n",
       "      <td>0.2021</td>\n",
       "    </tr>\n",
       "    <tr>\n",
       "      <th>91</th>\n",
       "      <td>KL169</td>\n",
       "      <td>KL169__3</td>\n",
       "      <td>27</td>\n",
       "      <td>0.4238</td>\n",
       "      <td>0.6000</td>\n",
       "      <td>0.8000</td>\n",
       "      <td>0.4356</td>\n",
       "      <td>0.7846</td>\n",
       "      <td>0.3783</td>\n",
       "    </tr>\n",
       "  </tbody>\n",
       "</table>\n",
       "<p>92 rows × 9 columns</p>\n",
       "</div>"
      ],
      "text/plain": [
       "   KL_type model_version  n_prophages  precision  recall  Accuracy  F1_score  \\\n",
       "0      KL1        KL1__4          190     0.8853  0.7895    0.9474    0.8338   \n",
       "1      KL2        KL2__4          351     0.9162  0.8743    0.9657    0.8946   \n",
       "2      KL3        KL3__5          145     0.9349  0.9572    0.9814    0.9448   \n",
       "3      KL4        KL4__5           13     0.2000  0.4000    0.8571    0.2667   \n",
       "4      KL5        KL5__4           28     0.6000  0.8000    0.8875    0.6334   \n",
       "..     ...           ...          ...        ...     ...       ...       ...   \n",
       "87   KL153      KL153__4           18     0.1167  0.4000    0.7200    0.1800   \n",
       "88   KL155      KL155__2           13     0.7000  0.8000    0.9143    0.7333   \n",
       "89   KL157      KL157__4           13     0.5000  0.8000    0.8571    0.6000   \n",
       "90   KL166      KL166__3           10     0.2333  0.6000    0.6667    0.3333   \n",
       "91   KL169      KL169__3           27     0.4238  0.6000    0.8000    0.4356   \n",
       "\n",
       "       AUC     MCC  \n",
       "0   0.8871  0.8051  \n",
       "1   0.9616  0.8746  \n",
       "2   0.9974  0.9345  \n",
       "3   0.8666  0.2582  \n",
       "4   0.8572  0.6152  \n",
       "..     ...     ...  \n",
       "87  0.4444  0.0843  \n",
       "88  0.9000  0.6958  \n",
       "89  0.8000  0.5540  \n",
       "90  0.6400  0.2021  \n",
       "91  0.7846  0.3783  \n",
       "\n",
       "[92 rows x 9 columns]"
      ]
     },
     "execution_count": 15,
     "metadata": {},
     "output_type": "execute_result"
    }
   ],
   "source": [
    "# Open the data frame\n",
    "metrics_names = [\"KL_type\" , \"n_prophages\", \"F1_score\", \"precision\" , \"recall\", \"MCC\", \"Accuracy\", \"AUC\"]\n",
    "df_metrics = pd.read_csv(f\"{path_tropisage}/Metric_Report.27_11_2024.tsv\", sep = \"\\t\", names = metrics_names)\n",
    "df_metrics = df_metrics.drop_duplicates(subset = [\"KL_type\"], keep = \"last\")\n",
    "df_metrics_sorted = df_metrics.sort_values(by='KL_type', key=lambda x: x.str.split(\"KL\").str[1].str.split(\"__\").str[0].astype(int))\n",
    "df_metrics_sorted.reset_index(drop=True, inplace=True)\n",
    "\n",
    "# Add the KL_clean column : \n",
    "df_metrics_sorted[\"KL_clean\"] = df_metrics_sorted[\"KL_type\"].apply(lambda x : x.split(\"__\")[0])\n",
    "df_metrics_sorted['F1_score'] = df_metrics_sorted['F1_score'].astype(float)\n",
    "\n",
    "average_metrics = []\n",
    "\n",
    "for kltype in df_metrics_sorted[\"KL_clean\"].unique().tolist() :\n",
    "    df_kl = df_metrics_sorted[df_metrics_sorted[\"KL_clean\"] == kltype]\n",
    "    # get the optimum version :  \n",
    "    max_mcc_index = df_kl['MCC'].idxmax()\n",
    "    v_model = df_kl.loc[max_mcc_index, 'KL_type']\n",
    "    # get the average metrics :\n",
    "    av_f1 = np.round(np.mean(df_kl[\"F1_score\"].values), 4)\n",
    "    av_preci = np.round(np.mean(df_kl[\"precision\"].values), 4)\n",
    "    av_recall = np.round(np.mean(df_kl[\"recall\"].values), 4)\n",
    "    av_mcc = np.round(np.mean(df_kl[\"MCC\"].values), 4)\n",
    "    av_acc = np.round(np.mean(df_kl[\"Accuracy\"].values), 4)\n",
    "    av_auc = np.round(np.mean(df_kl[\"AUC\"].values), 4)\n",
    "    # make the line :\n",
    "    line = [kltype, v_model ,df_kl[\"n_prophages\"].values[0], av_preci, av_recall, av_acc, av_f1, av_auc, av_mcc]\n",
    "    average_metrics.append(line)\n",
    "\n",
    "names_col = [\"KL_type\",\"model_version\",\"n_prophages\",\"precision\",\"recall\",\"Accuracy\",\"F1_score\",\"AUC\",\"MCC\"]\n",
    "average_metric_df = pd.DataFrame(average_metrics, columns = names_col)\n",
    "average_metric_df.to_csv(f\"/media/concha-eloko/Linux/PPT_clean/ficheros_28032023/Metric_Report.review.SAGE.F.tsv\", sep = \"\\t\", index = False, header = True)\n",
    "\n",
    "average_metric_df"
   ]
  },
  {
   "cell_type": "markdown",
   "id": "de609b56-1128-44ca-870b-40a3b7f73c50",
   "metadata": {},
   "source": [
    "> Ultrafiltration:"
   ]
  },
  {
   "cell_type": "code",
   "execution_count": 7,
   "id": "ed2c7211-210f-48a8-84d4-584431bfc513",
   "metadata": {
    "tags": []
   },
   "outputs": [],
   "source": [
    "# Open the data frame\n",
    "metrics_names = [\"KL_type\" , \"n_prophages\", \"F1_score\", \"precision\" , \"recall\", \"MCC\", \"Accuracy\", \"AUC\"]\n",
    "df_metrics = pd.read_csv(f\"{path_tropisage_uf}/Metric_Report.27_11_2024.tsv\", sep = \"\\t\", names = metrics_names)\n",
    "df_metrics = df_metrics.drop_duplicates(subset = [\"KL_type\"], keep = \"last\")\n",
    "df_metrics_sorted = df_metrics.sort_values(by='KL_type', key=lambda x: x.str.split(\"KL\").str[1].str.split(\"__\").str[0].astype(int))\n",
    "df_metrics_sorted.reset_index(drop=True, inplace=True)\n",
    "\n",
    "# Add the KL_clean column : \n",
    "df_metrics_sorted[\"KL_clean\"] = df_metrics_sorted[\"KL_type\"].apply(lambda x : x.split(\"__\")[0])\n",
    "df_metrics_sorted['F1_score'] = df_metrics_sorted['F1_score'].astype(float)\n",
    "\n",
    "average_metrics = []\n",
    "\n",
    "for kltype in df_metrics_sorted[\"KL_clean\"].unique().tolist() :\n",
    "    df_kl = df_metrics_sorted[df_metrics_sorted[\"KL_clean\"] == kltype]\n",
    "    # get the optimum version :  \n",
    "    max_mcc_index = df_kl['MCC'].idxmax()\n",
    "    v_model = df_kl.loc[max_mcc_index, 'KL_type']\n",
    "    # get the average metrics :\n",
    "    av_f1 = np.round(np.mean(df_kl[\"F1_score\"].values), 4)\n",
    "    av_preci = np.round(np.mean(df_kl[\"precision\"].values), 4)\n",
    "    av_recall = np.round(np.mean(df_kl[\"recall\"].values), 4)\n",
    "    av_mcc = np.round(np.mean(df_kl[\"MCC\"].values), 4)\n",
    "    av_acc = np.round(np.mean(df_kl[\"Accuracy\"].values), 4)\n",
    "    av_auc = np.round(np.mean(df_kl[\"AUC\"].values), 4)\n",
    "    # make the line :\n",
    "    line = [kltype, v_model ,df_kl[\"n_prophages\"].values[0], av_preci, av_recall, av_acc, av_f1, av_auc, av_mcc]\n",
    "    average_metrics.append(line)\n",
    "\n",
    "names_col = [\"KL_type\",\"model_version\",\"n_prophages\",\"precision\",\"recall\",\"Accuracy\",\"F1_score\",\"AUC\",\"MCC\"]\n",
    "average_metric_df = pd.DataFrame(average_metrics, columns = names_col)\n",
    "average_metric_df.to_csv(f\"/media/concha-eloko/Linux/PPT_clean/ficheros_28032023/Metric_Report.review.SAGE.UF.tsv\", sep = \"\\t\", index = False, header = True)\n",
    "\n",
    "UF_tropisage = average_metric_df"
   ]
  },
  {
   "cell_type": "code",
   "execution_count": 13,
   "id": "e53a4e99-ebf0-458d-bb62-7849869b58ef",
   "metadata": {
    "tags": []
   },
   "outputs": [
    {
     "data": {
      "text/plain": [
       "0.5277113783783783"
      ]
     },
     "execution_count": 13,
     "metadata": {},
     "output_type": "execute_result"
    }
   ],
   "source": [
    "n_uf = sum(UF_tropisage[\"n_prophages\"])\n",
    "weighted_mcc_tropisage = [] \n",
    "for _, row in UF_tropisage.iterrows() : \n",
    "    w_mcc = row[\"MCC\"] * row[\"n_prophages\"] / n_uf\n",
    "    weighted_mcc_tropisage.append(w_mcc)\n",
    "\n",
    "MCC_weigth_tropisage = sum(weighted_mcc_tropisage)\n",
    "MCC_weigth_tropisage"
   ]
  },
  {
   "cell_type": "markdown",
   "id": "f5aeeb0a-7aaf-4fbc-ad55-756d03451d36",
   "metadata": {
    "jp-MarkdownHeadingCollapsed": true,
    "tags": []
   },
   "source": [
    "***\n",
    "### Weighted MCC and P-value:  "
   ]
  },
  {
   "cell_type": "code",
   "execution_count": null,
   "id": "09fbb8eb-047f-43e3-a9b5-be6be8d509ef",
   "metadata": {},
   "outputs": [],
   "source": [
    "# TropiGAT : \n",
    "n_uf = sum(UF_tropigat[\"n_prophages\"])\n",
    "weighted_mcc_tropigat = [] \n",
    "for _, row in UF_tropigat.iterrows() : \n",
    "    w_mcc = row[\"MCC\"] * row[\"n_prophages\"] / n_uf\n",
    "    weighted_mcc_tropigat.append(w_mcc)\n",
    "\n",
    "MCC_weigth_tropigat = sum(weighted_mcc_tropigat)\n",
    "MCC_weigth_tropigat\n",
    "\n",
    "# TropiSAGE : \n",
    "n_uf = sum(UF_tropisage[\"n_prophages\"])\n",
    "weighted_mcc_tropisage = [] \n",
    "for _, row in UF_tropisage.iterrows() : \n",
    "    w_mcc = row[\"MCC\"] * row[\"n_prophages\"] / n_uf\n",
    "    weighted_mcc_tropisage.append(w_mcc)\n",
    "\n",
    "MCC_weigth_tropisage = sum(weighted_mcc_tropisage)\n",
    "MCC_weigth_tropisage\n",
    "\n"
   ]
  },
  {
   "cell_type": "code",
   "execution_count": 14,
   "id": "74b58e3f-2dd2-4db3-ae24-767d4bceed96",
   "metadata": {
    "tags": []
   },
   "outputs": [
    {
     "name": "stdout",
     "output_type": "stream",
     "text": [
      "F-statistic: 1.0911656291380998\n",
      "Degrees of Freedom: df1 = 84, df2 = 84\n",
      "P-value: 0.6902155166323276\n",
      "The variances are not significantly different (fail to reject H0).\n"
     ]
    }
   ],
   "source": [
    "import numpy as np\n",
    "import scipy.stats as stats\n",
    "\n",
    "# Assuming you already have the following lists of weighted MCC values:\n",
    "# weighted_mcc_tropigat and weighted_mcc_tropisage\n",
    "\n",
    "# Compute the variances of the two groups\n",
    "var_tropigat = np.var(weighted_mcc_tropigat, ddof=1)  # ddof=1 for sample variance\n",
    "var_tropisage = np.var(weighted_mcc_tropisage, ddof=1)\n",
    "\n",
    "# Perform the F-test\n",
    "f_stat = var_tropigat / var_tropisage\n",
    "df1 = len(weighted_mcc_tropigat) - 1  # Degrees of freedom for TropiGAT\n",
    "df2 = len(weighted_mcc_tropisage) - 1  # Degrees of freedom for TropiSAGE\n",
    "\n",
    "# Two-tailed p-value from the F-distribution\n",
    "p_value = 2 * min(\n",
    "    stats.f.cdf(f_stat, df1, df2), \n",
    "    1 - stats.f.cdf(f_stat, df1, df2)\n",
    ")\n",
    "\n",
    "# Display the results\n",
    "print(f\"F-statistic: {f_stat}\")\n",
    "print(f\"Degrees of Freedom: df1 = {df1}, df2 = {df2}\")\n",
    "print(f\"P-value: {p_value}\")\n",
    "\n",
    "# Interpretation\n",
    "if p_value < 0.05:\n",
    "    print(\"The variances are significantly different (reject H0).\")\n",
    "else:\n",
    "    print(\"The variances are not significantly different (fail to reject H0).\")"
   ]
  },
  {
   "cell_type": "code",
   "execution_count": 15,
   "id": "71f8625a-da55-46dd-b2b7-fc0e1dc05cdc",
   "metadata": {
    "tags": []
   },
   "outputs": [
    {
     "name": "stdout",
     "output_type": "stream",
     "text": [
      "T-statistic: 2.0090322708830795\n",
      "P-value: 0.04774511095121014\n",
      "There is a significant difference between the two ensembles (reject H0).\n"
     ]
    }
   ],
   "source": [
    "if len(weighted_mcc_tropigat) != len(weighted_mcc_tropisage):\n",
    "    raise ValueError(\"The two groups must have the same number of models for a paired t-test.\")\n",
    "\n",
    "# Compute the paired t-test\n",
    "t_stat, p_value = stats.ttest_rel(weighted_mcc_tropigat, weighted_mcc_tropisage)\n",
    "\n",
    "# Display the results\n",
    "print(f\"T-statistic: {t_stat}\")\n",
    "print(f\"P-value: {p_value}\")\n",
    "\n",
    "# Interpretation\n",
    "alpha = 0.05\n",
    "if p_value < alpha:\n",
    "    print(\"There is a significant difference between the two ensembles (reject H0).\")\n",
    "else:\n",
    "    print(\"There is no significant difference between the two ensembles (fail to reject H0).\")\n"
   ]
  },
  {
   "cell_type": "markdown",
   "id": "7b413299-c8fe-4b34-ad6e-e313b09380e0",
   "metadata": {},
   "source": [
    "***\n",
    "### Compare metrics between each: "
   ]
  },
  {
   "cell_type": "code",
   "execution_count": 16,
   "id": "bf3d938e-14e1-4b57-b5d9-5d6e45f34c8e",
   "metadata": {
    "tags": []
   },
   "outputs": [],
   "source": [
    "def clean_print(dico) :\n",
    "\t\"\"\" \n",
    "\tInputs : a dico\n",
    "\tOutputs : pretty printed dico\n",
    "\t\"\"\"\n",
    "\timport pprint\n",
    "\tpp = pprint.PrettyPrinter(width = 150, sort_dicts = True, compact = True)\n",
    "\tout = pp.pprint(dico)\n",
    "\treturn out \n",
    "        "
   ]
  },
  {
   "cell_type": "code",
   "execution_count": 10,
   "id": "f2d2e5fe-c636-43ab-8ae8-dfbdac4bc52c",
   "metadata": {
    "tags": []
   },
   "outputs": [],
   "source": [
    "UF_tropigat = pd.read_csv(f\"/media/concha-eloko/Linux/PPT_clean/ficheros_28032023/Metric_Report.review.GAT.UF.tsv\", sep = \"\\t\", header = 0)\n",
    "UF_tropisage = pd.read_csv(f\"/media/concha-eloko/Linux/PPT_clean/ficheros_28032023/Metric_Report.review.SAGE.UF.tsv\", sep = \"\\t\", header = 0)"
   ]
  },
  {
   "cell_type": "code",
   "execution_count": 29,
   "id": "63ac693d-9961-468e-a89d-e958a57f0ae4",
   "metadata": {
    "tags": []
   },
   "outputs": [],
   "source": [
    "dico_compare_dag = {}\n",
    "kltypes = UF_tropigat[\"KL_type\"].tolist()\n",
    "tropigat_mcc_list = UF_tropigat[\"MCC\"].tolist()\n",
    "tropisage_mcc_list = UF_tropisage[\"MCC\"].tolist()\n",
    "\n",
    "\n",
    "for kltype, tropigat_mcc, tropisage_mcc in zip(kltypes, tropigat_mcc_list, tropisage_mcc_list): \n",
    "    diff = tropigat_mcc - tropisage_mcc\n",
    "    diff_litt = round(diff, 3)\n",
    "    if diff > 0 :\n",
    "        a = {\"best_agg\" : \"TropiGAT\", \"best_value\" : tropigat_mcc, \"difference\" : diff_litt}\n",
    "    else :\n",
    "        a = {\"best_agg\" : \"TropiSAGE\", \"best_value\" : tropigat_mcc, \"difference\" : -diff_litt}\n",
    "    dico_compare_dag[kltype] = a"
   ]
  },
  {
   "cell_type": "code",
   "execution_count": 30,
   "id": "bc876e1d-58e1-48ee-acf0-c6a384d3b1c3",
   "metadata": {
    "tags": []
   },
   "outputs": [
    {
     "data": {
      "text/plain": [
       "{'KL3': {'best_agg': 'TropiSAGE', 'best_value': 0.8019, 'difference': 0.027},\n",
       " 'KL5': {'best_agg': 'TropiSAGE', 'best_value': 0.4898, 'difference': 0.072},\n",
       " 'KL6': {'best_agg': 'TropiSAGE', 'best_value': -0.1032, 'difference': 0.077},\n",
       " 'KL7': {'best_agg': 'TropiSAGE', 'best_value': 0.6914, 'difference': 0.05},\n",
       " 'KL8': {'best_agg': 'TropiSAGE', 'best_value': 0.1564, 'difference': 0.193},\n",
       " 'KL9': {'best_agg': 'TropiSAGE', 'best_value': -0.0436, 'difference': 0.181},\n",
       " 'KL13': {'best_agg': 'TropiSAGE', 'best_value': 0.7663, 'difference': 0.009},\n",
       " 'KL16': {'best_agg': 'TropiSAGE', 'best_value': 0.237, 'difference': 0.072},\n",
       " 'KL18': {'best_agg': 'TropiSAGE', 'best_value': 0.3588, 'difference': 0.217},\n",
       " 'KL19': {'best_agg': 'TropiSAGE', 'best_value': 0.2435, 'difference': 0.166},\n",
       " 'KL20': {'best_agg': 'TropiSAGE', 'best_value': 0.1291, 'difference': 0.115},\n",
       " 'KL21': {'best_agg': 'TropiSAGE', 'best_value': 0.2599, 'difference': 0.017},\n",
       " 'KL25': {'best_agg': 'TropiSAGE', 'best_value': 0.6166, 'difference': 0.021},\n",
       " 'KL26': {'best_agg': 'TropiSAGE', 'best_value': 0.213, 'difference': 0.066},\n",
       " 'KL27': {'best_agg': 'TropiSAGE', 'best_value': 0.5146, 'difference': 0.097},\n",
       " 'KL31': {'best_agg': 'TropiSAGE', 'best_value': -0.1832, 'difference': 0.183},\n",
       " 'KL35': {'best_agg': 'TropiSAGE', 'best_value': 0.1372, 'difference': 0.132},\n",
       " 'KL36': {'best_agg': 'TropiSAGE', 'best_value': 0.2766, 'difference': 0.128},\n",
       " 'KL39': {'best_agg': 'TropiSAGE', 'best_value': 0.1265, 'difference': 0.004},\n",
       " 'KL45': {'best_agg': 'TropiSAGE', 'best_value': 0.5164, 'difference': 0.034},\n",
       " 'KL48': {'best_agg': 'TropiSAGE', 'best_value': 0.1333, 'difference': 0.211},\n",
       " 'KL51': {'best_agg': 'TropiSAGE', 'best_value': 0.3445, 'difference': 0.029},\n",
       " 'KL52': {'best_agg': 'TropiSAGE', 'best_value': 0.068, 'difference': 0.288},\n",
       " 'KL55': {'best_agg': 'TropiSAGE', 'best_value': 0.0122, 'difference': 0.207},\n",
       " 'KL62': {'best_agg': 'TropiSAGE', 'best_value': 0.6961, 'difference': 0.04},\n",
       " 'KL103': {'best_agg': 'TropiSAGE', 'best_value': -0.04, 'difference': 0.709},\n",
       " 'KL108': {'best_agg': 'TropiSAGE', 'best_value': 0.4249, 'difference': 0.094},\n",
       " 'KL111': {'best_agg': 'TropiSAGE', 'best_value': 0.5784, 'difference': 0.006},\n",
       " 'KL112': {'best_agg': 'TropiSAGE', 'best_value': 0.175, 'difference': 0.175},\n",
       " 'KL114': {'best_agg': 'TropiSAGE', 'best_value': 0.5778, 'difference': 0.093},\n",
       " 'KL118': {'best_agg': 'TropiSAGE', 'best_value': 0.1613, 'difference': -0.0},\n",
       " 'KL122': {'best_agg': 'TropiSAGE', 'best_value': 0.2195, 'difference': 0.007},\n",
       " 'KL125': {'best_agg': 'TropiSAGE', 'best_value': 0.1202, 'difference': 0.047},\n",
       " 'KL128': {'best_agg': 'TropiSAGE', 'best_value': 0.4796, 'difference': -0.0},\n",
       " 'KL149': {'best_agg': 'TropiSAGE', 'best_value': 0.5291, 'difference': 0.045},\n",
       " 'KL151': {'best_agg': 'TropiSAGE', 'best_value': 0.5144, 'difference': 0.004},\n",
       " 'KL157': {'best_agg': 'TropiSAGE', 'best_value': 0.4943, 'difference': 0.035},\n",
       " 'KL169': {'best_agg': 'TropiSAGE', 'best_value': 0.5197, 'difference': 0.01}}"
      ]
     },
     "execution_count": 30,
     "metadata": {},
     "output_type": "execute_result"
    }
   ],
   "source": [
    "sage_best = {kltype: data for kltype,data in dico_compare_dag.items() if data[\"best_agg\"] == \"TropiSAGE\"}\n",
    "gat_best = {kltype: data for kltype,data in dico_compare_dag.items() if data[\"best_agg\"] == \"TropiGAT\"}\n",
    "sage_best"
   ]
  },
  {
   "cell_type": "code",
   "execution_count": 31,
   "id": "d65eeb75-c164-4c93-96c6-808586459f49",
   "metadata": {
    "tags": []
   },
   "outputs": [
    {
     "data": {
      "text/plain": [
       "{'KL1': {'best_agg': 'TropiGAT', 'best_value': 0.1946, 'difference': 0.0},\n",
       " 'KL2': {'best_agg': 'TropiGAT', 'best_value': 0.5109, 'difference': 0.05},\n",
       " 'KL4': {'best_agg': 'TropiGAT', 'best_value': 0.5884, 'difference': 0.211},\n",
       " 'KL10': {'best_agg': 'TropiGAT', 'best_value': 0.3997, 'difference': 0.034},\n",
       " 'KL12': {'best_agg': 'TropiGAT', 'best_value': 0.5935, 'difference': 0.043},\n",
       " 'KL14': {'best_agg': 'TropiGAT', 'best_value': 0.6545, 'difference': 0.009},\n",
       " 'KL15': {'best_agg': 'TropiGAT', 'best_value': 0.3505, 'difference': 0.005},\n",
       " 'KL17': {'best_agg': 'TropiGAT', 'best_value': 0.8245, 'difference': 0.004},\n",
       " 'KL22': {'best_agg': 'TropiGAT', 'best_value': 0.8156, 'difference': 0.074},\n",
       " 'KL23': {'best_agg': 'TropiGAT', 'best_value': 0.569, 'difference': 0.067},\n",
       " 'KL24': {'best_agg': 'TropiGAT', 'best_value': 0.4749, 'difference': 0.089},\n",
       " 'KL28': {'best_agg': 'TropiGAT', 'best_value': 0.6756, 'difference': 0.039},\n",
       " 'KL29': {'best_agg': 'TropiGAT', 'best_value': 0.6961, 'difference': 0.224},\n",
       " 'KL30': {'best_agg': 'TropiGAT', 'best_value': 0.332, 'difference': 0.053},\n",
       " 'KL34': {'best_agg': 'TropiGAT', 'best_value': 0.6945, 'difference': 0.321},\n",
       " 'KL38': {'best_agg': 'TropiGAT', 'best_value': 0.4615, 'difference': 0.086},\n",
       " 'KL43': {'best_agg': 'TropiGAT', 'best_value': 0.5551, 'difference': 0.019},\n",
       " 'KL46': {'best_agg': 'TropiGAT', 'best_value': 0.6651, 'difference': 0.041},\n",
       " 'KL47': {'best_agg': 'TropiGAT', 'best_value': 0.6122, 'difference': 0.065},\n",
       " 'KL53': {'best_agg': 'TropiGAT', 'best_value': 0.7003, 'difference': 0.155},\n",
       " 'KL56': {'best_agg': 'TropiGAT', 'best_value': 0.7873, 'difference': 0.021},\n",
       " 'KL57': {'best_agg': 'TropiGAT', 'best_value': 0.6372, 'difference': 0.115},\n",
       " 'KL60': {'best_agg': 'TropiGAT', 'best_value': 0.6495, 'difference': 0.041},\n",
       " 'KL63': {'best_agg': 'TropiGAT', 'best_value': 0.6899, 'difference': 0.068},\n",
       " 'KL64': {'best_agg': 'TropiGAT', 'best_value': 0.6469, 'difference': 0.074},\n",
       " 'KL67': {'best_agg': 'TropiGAT', 'best_value': 0.6159, 'difference': 0.063},\n",
       " 'KL70': {'best_agg': 'TropiGAT', 'best_value': 0.6661, 'difference': 0.183},\n",
       " 'KL71': {'best_agg': 'TropiGAT', 'best_value': 0.6904, 'difference': 0.126},\n",
       " 'KL74': {'best_agg': 'TropiGAT', 'best_value': 0.7345, 'difference': 0.027},\n",
       " 'KL81': {'best_agg': 'TropiGAT', 'best_value': 0.675, 'difference': 0.183},\n",
       " 'KL102': {'best_agg': 'TropiGAT', 'best_value': 0.8034, 'difference': 0.007},\n",
       " 'KL105': {'best_agg': 'TropiGAT', 'best_value': 0.4739, 'difference': 0.02},\n",
       " 'KL106': {'best_agg': 'TropiGAT', 'best_value': 0.5872, 'difference': 0.102},\n",
       " 'KL107': {'best_agg': 'TropiGAT', 'best_value': 0.6267, 'difference': 0.008},\n",
       " 'KL109': {'best_agg': 'TropiGAT', 'best_value': 0.3089, 'difference': 0.186},\n",
       " 'KL110': {'best_agg': 'TropiGAT', 'best_value': 0.4018, 'difference': 0.109},\n",
       " 'KL116': {'best_agg': 'TropiGAT', 'best_value': 0.6362, 'difference': 0.127},\n",
       " 'KL117': {'best_agg': 'TropiGAT', 'best_value': 0.7667, 'difference': 0.179},\n",
       " 'KL123': {'best_agg': 'TropiGAT', 'best_value': 0.3211, 'difference': 0.101},\n",
       " 'KL124': {'best_agg': 'TropiGAT', 'best_value': 0.5177, 'difference': 0.118},\n",
       " 'KL127': {'best_agg': 'TropiGAT', 'best_value': 0.5707, 'difference': 0.114},\n",
       " 'KL136': {'best_agg': 'TropiGAT', 'best_value': 0.5247, 'difference': 0.023},\n",
       " 'KL140': {'best_agg': 'TropiGAT', 'best_value': 0.0967, 'difference': 0.072},\n",
       " 'KL142': {'best_agg': 'TropiGAT', 'best_value': 0.469, 'difference': 0.267},\n",
       " 'KL145': {'best_agg': 'TropiGAT', 'best_value': 0.7695, 'difference': 0.046},\n",
       " 'KL153': {'best_agg': 'TropiGAT', 'best_value': 0.3622, 'difference': 0.223},\n",
       " 'KL155': {'best_agg': 'TropiGAT', 'best_value': 0.5291, 'difference': 0.216}}"
      ]
     },
     "execution_count": 31,
     "metadata": {},
     "output_type": "execute_result"
    }
   ],
   "source": [
    "gat_best"
   ]
  },
  {
   "cell_type": "markdown",
   "id": "67ab23f5-17cd-4788-aaef-d48b34d32bf7",
   "metadata": {},
   "source": [
    "> See how many (absolute and proportion) the number of prophages with multiple depolymerases:"
   ]
  },
  {
   "cell_type": "code",
   "execution_count": 38,
   "id": "95f727a5-4527-4fff-8990-d21b73a451f0",
   "metadata": {
    "tags": []
   },
   "outputs": [],
   "source": [
    "from tqdm import tqdm\n",
    "\n",
    "path_work = \"/media/concha-eloko/Linux/PPT_clean\"\n",
    "\n",
    "df_info = pd.read_csv(f\"{path_work}/TropiGATv2.final_df_v2.tsv\", sep = \"\\t\" ,  header = 0)\n",
    "df_prophages = DF_info.drop_duplicates(subset = [\"Phage\"], keep = \"first\")\n",
    "dico_prophage_info = {row[\"Phage\"] : {\"prophage_strain\" : row[\"prophage_id\"] , \"ancestor\" : row[\"Infected_ancestor\"]} for _,row in df_prophages.iterrows()}\n"
   ]
  },
  {
   "cell_type": "code",
   "execution_count": 36,
   "id": "d55a7ef4-0aa3-4e02-9ee7-50b1a7e378d1",
   "metadata": {
    "jupyter": {
     "source_hidden": true
    },
    "tags": []
   },
   "outputs": [],
   "source": [
    "def filter_prophages(df_info, dico_prophage_info):\n",
    "    \"\"\"Filter prophages to remove duplicates and ensure diversity.\"\"\"\n",
    "    def get_filtered_prophages(prophage):\n",
    "        combinations = []\n",
    "        to_exclude = set()\n",
    "        to_keep = set()\n",
    "        to_keep.add(prophage)\n",
    "        df_prophage_group = df_info[\n",
    "            (df_info[\"prophage_id\"] == dico_prophage_info[prophage][\"prophage_strain\"]) & \n",
    "            (df_info[\"Infected_ancestor\"] == dico_prophage_info[prophage][\"ancestor\"])\n",
    "        ]\n",
    "        if len(df_prophage_group) == 1:\n",
    "            return df_prophage_group, to_exclude, to_keep\n",
    "        \n",
    "        depo_set = set(df_prophage_group[df_prophage_group[\"Phage\"] == prophage][\"domain_seq\"].values)\n",
    "        for prophage_tmp in df_prophage_group[\"Phage\"].unique():\n",
    "            if prophage_tmp != prophage:\n",
    "                tmp_depo_set = set(df_prophage_group[df_prophage_group[\"Phage\"] == prophage_tmp][\"domain_seq\"].values)\n",
    "                if depo_set == tmp_depo_set:\n",
    "                    to_exclude.add(prophage_tmp)\n",
    "                elif tmp_depo_set not in combinations:\n",
    "                    to_keep.add(prophage_tmp)\n",
    "                    combinations.append(tmp_depo_set)\n",
    "                else:\n",
    "                    to_exclude.add(prophage_tmp)\n",
    "        return df_prophage_group, to_exclude, to_keep\n",
    "\n",
    "    good_prophages = set()\n",
    "    excluded_prophages = set()\n",
    "\n",
    "    for prophage in tqdm(dico_prophage_info.keys()):\n",
    "        if prophage not in excluded_prophages and prophage not in good_prophages:\n",
    "            _, excluded_members, kept_members = get_filtered_prophages(prophage)\n",
    "            good_prophages.update(kept_members)\n",
    "            excluded_prophages.update(excluded_members)\n",
    "\n",
    "    df_info_filtered = df_info[df_info[\"Phage\"].isin(good_prophages)]\n",
    "    df_info_final = df_info_filtered[~df_info_filtered[\"KL_type_LCA\"].str.contains(\"\\\\|\")]\n",
    "\n",
    "    return df_info_final\n",
    "\n",
    "\n",
    "def ultrafilter_prophages(df_info):\n",
    "    \"\"\"Perform ultra-filtration to remove duplicate prophages within KL types.\"\"\"\n",
    "    duplicate_prophage = []\n",
    "    dico_kltype_duplica = {}\n",
    "\n",
    "    for kltype in df_info[\"KL_type_LCA\"].unique():\n",
    "        df_kl = df_info[df_info[\"KL_type_LCA\"] == kltype][[\"Phage\", \"Protein_name\", \"KL_type_LCA\", \"Infected_ancestor\", \"index\", \"seq\", \"domain_seq\"]]\n",
    "        prophages_tmp_list = df_kl[\"Phage\"].unique().tolist()\n",
    "        set_sets_depo = []\n",
    "        duplicated = {}  \n",
    "        for prophage_tmp in prophages_tmp_list: \n",
    "            set_depo = frozenset(df_kl[df_kl[\"Phage\"] == prophage_tmp][\"domain_seq\"].values)\n",
    "            for past_set in set_sets_depo:\n",
    "                if past_set == set_depo:\n",
    "                    duplicated[past_set] = duplicated.get(past_set, 0) + 1\n",
    "                    duplicate_prophage.append(prophage_tmp)\n",
    "                    break\n",
    "            else:\n",
    "                set_sets_depo.append(set_depo)\n",
    "                duplicated[set_depo] = 1\n",
    "        dico_kltype_duplica[kltype] = duplicated\n",
    "\n",
    "    df_info_ultrafiltered = df_info[~df_info[\"Phage\"].isin(duplicate_prophage)]\n",
    "    return df_info_ultrafiltered"
   ]
  },
  {
   "cell_type": "code",
   "execution_count": 39,
   "id": "01b0e109-ca88-4842-9cde-68d97b0f1bc2",
   "metadata": {
    "tags": []
   },
   "outputs": [
    {
     "name": "stderr",
     "output_type": "stream",
     "text": [
      "100%|████████████████████████████████████████████████████████████████████████████████████████████████████████████████████████████████████████████| 15981/15981 [00:18<00:00, 857.09it/s]\n"
     ]
    }
   ],
   "source": [
    "df_info_final = ultrafilter_prophages(filter_prophages(df_info, dico_prophage_info))"
   ]
  },
  {
   "cell_type": "code",
   "execution_count": 91,
   "id": "a12ffc8e-ceda-4be3-9c0e-aac38e59d960",
   "metadata": {
    "tags": []
   },
   "outputs": [],
   "source": [
    "def get_data_dpo(df_info_final, kltype) :\n",
    "    df_interest = df_info_final[df_info_final[\"KL_type_LCA\"] == kltype]\n",
    "    n_depo = len(df_interest)\n",
    "    n_diverse = len(df_interest[\"Phage\"].unique())\n",
    "    n_prophages = len(df_interest[\"Phage\"].unique())\n",
    "    ratio = n_depo / n_prophages\n",
    "    \n",
    "    return df_interest.sort_values(by='Phage', ascending=True), [ratio, n_depo,n_prophages] , f\"{ratio=}, {n_depo=}, {n_prophages=}\"\n",
    "\n",
    "    "
   ]
  },
  {
   "cell_type": "code",
   "execution_count": 100,
   "id": "d4c6a519-8b12-4d40-9400-66ed94e6c8e9",
   "metadata": {
    "tags": []
   },
   "outputs": [
    {
     "name": "stdout",
     "output_type": "stream",
     "text": [
      "KL5\t1.0\t20\t0.072\n",
      "KL6\t1.0909\t11\t0.077\n",
      "KL7\t1.2581\t31\t0.05\n",
      "KL8\t1.0667\t15\t0.193\n",
      "KL9\t1.1667\t18\t0.181\n",
      "KL16\t1.0833\t24\t0.072\n",
      "KL18\t1.8095\t21\t0.217\n",
      "KL19\t1.4792\t48\t0.166\n",
      "KL20\t1.0833\t12\t0.115\n",
      "KL26\t1.5\t10\t0.066\n",
      "KL27\t1.3793\t87\t0.097\n",
      "KL31\t1.2727\t11\t0.183\n",
      "KL35\t1.375\t16\t0.132\n",
      "KL36\t1.5\t32\t0.128\n",
      "KL48\t1.1053\t19\t0.211\n",
      "KL52\t1.25\t24\t0.288\n",
      "KL55\t1.0556\t18\t0.207\n",
      "KL103\t1.0\t11\t0.709\n",
      "KL108\t1.0\t12\t0.094\n",
      "KL112\t1.0588\t17\t0.175\n",
      "KL114\t1.1111\t18\t0.093\n"
     ]
    }
   ],
   "source": [
    "for kltype in sage_best :\n",
    "    if sage_best[kltype][\"difference\"] >= 0.05 :\n",
    "        df , ratio, text = get_data_dpo(df_info_final, kltype)\n",
    "        p_ratio = ratio[0] * ratio[2]\n",
    "        print(kltype, round(ratio[0], 4), ratio[2], sage_best[kltype][\"difference\"] , sep = \"\\t\")"
   ]
  },
  {
   "cell_type": "code",
   "execution_count": 99,
   "id": "b4aa88bd-5ee1-4c4f-beac-1cc78b529a83",
   "metadata": {
    "tags": []
   },
   "outputs": [
    {
     "name": "stdout",
     "output_type": "stream",
     "text": [
      "KL2\t1.5408\t98\t0.05\n",
      "KL4\t1.4167\t12\t0.211\n",
      "KL22\t1.1628\t43\t0.074\n",
      "KL23\t1.6832\t101\t0.067\n",
      "KL24\t1.4917\t120\t0.089\n",
      "KL29\t1.5556\t36\t0.224\n",
      "KL30\t1.2222\t63\t0.053\n",
      "KL34\t1.0\t16\t0.321\n",
      "KL38\t1.5\t52\t0.086\n",
      "KL47\t1.6809\t94\t0.065\n",
      "KL53\t1.3714\t35\t0.155\n",
      "KL57\t1.5\t36\t0.115\n",
      "KL63\t1.2791\t43\t0.068\n",
      "KL64\t1.672\t189\t0.074\n",
      "KL67\t1.5455\t11\t0.063\n",
      "KL70\t1.6333\t30\t0.183\n",
      "KL71\t1.2143\t14\t0.126\n",
      "KL81\t1.5312\t32\t0.183\n",
      "KL106\t1.5957\t94\t0.102\n",
      "KL109\t1.2857\t14\t0.186\n",
      "KL110\t1.413\t46\t0.109\n",
      "KL116\t1.5\t22\t0.127\n",
      "KL117\t1.5385\t13\t0.179\n",
      "KL123\t1.6429\t28\t0.101\n",
      "KL124\t1.5\t12\t0.118\n",
      "KL127\t1.5312\t32\t0.114\n",
      "KL140\t1.6923\t13\t0.072\n",
      "KL142\t1.2857\t14\t0.267\n",
      "KL153\t1.375\t16\t0.223\n",
      "KL155\t1.3333\t12\t0.216\n"
     ]
    }
   ],
   "source": [
    "for kltype in gat_best :\n",
    "    if gat_best[kltype][\"difference\"] >= 0.05 :\n",
    "        df , ratio, text = get_data_dpo(df_info_final, kltype)\n",
    "        p_ratio = ratio[0] * ratio[2]\n",
    "        print(kltype, round(ratio[0], 4), ratio[2], gat_best[kltype][\"difference\"] , sep = \"\\t\")"
   ]
  },
  {
   "cell_type": "code",
   "execution_count": 105,
   "id": "04c054ef-3dff-4240-911c-afcb094ba9d7",
   "metadata": {
    "tags": []
   },
   "outputs": [
    {
     "name": "stdout",
     "output_type": "stream",
     "text": [
      "KL3 ratio=1.651685393258427, n_depo=147, n_prophages=89\n",
      "KL5 ratio=1.0, n_depo=20, n_prophages=20\n",
      "KL6 ratio=1.0909090909090908, n_depo=12, n_prophages=11\n",
      "KL7 ratio=1.2580645161290323, n_depo=39, n_prophages=31\n",
      "KL8 ratio=1.0666666666666667, n_depo=16, n_prophages=15\n",
      "KL9 ratio=1.1666666666666667, n_depo=21, n_prophages=18\n",
      "KL13 ratio=1.2881355932203389, n_depo=76, n_prophages=59\n",
      "KL16 ratio=1.0833333333333333, n_depo=26, n_prophages=24\n",
      "KL18 ratio=1.8095238095238095, n_depo=38, n_prophages=21\n",
      "KL19 ratio=1.4791666666666667, n_depo=71, n_prophages=48\n",
      "KL20 ratio=1.0833333333333333, n_depo=13, n_prophages=12\n",
      "KL21 ratio=1.394736842105263, n_depo=53, n_prophages=38\n",
      "KL25 ratio=1.6524822695035462, n_depo=233, n_prophages=141\n",
      "KL26 ratio=1.5, n_depo=15, n_prophages=10\n",
      "KL27 ratio=1.3793103448275863, n_depo=120, n_prophages=87\n",
      "KL31 ratio=1.2727272727272727, n_depo=14, n_prophages=11\n",
      "KL35 ratio=1.375, n_depo=22, n_prophages=16\n",
      "KL36 ratio=1.5, n_depo=48, n_prophages=32\n",
      "KL39 ratio=1.1904761904761905, n_depo=25, n_prophages=21\n",
      "KL45 ratio=1.6285714285714286, n_depo=57, n_prophages=35\n",
      "KL48 ratio=1.105263157894737, n_depo=21, n_prophages=19\n",
      "KL51 ratio=1.28125, n_depo=41, n_prophages=32\n",
      "KL52 ratio=1.25, n_depo=30, n_prophages=24\n",
      "KL55 ratio=1.0555555555555556, n_depo=19, n_prophages=18\n",
      "KL62 ratio=1.5897435897435896, n_depo=124, n_prophages=78\n",
      "KL103 ratio=1.0, n_depo=11, n_prophages=11\n",
      "KL108 ratio=1.0, n_depo=12, n_prophages=12\n",
      "KL111 ratio=1.5471698113207548, n_depo=82, n_prophages=53\n",
      "KL112 ratio=1.0588235294117647, n_depo=18, n_prophages=17\n",
      "KL114 ratio=1.1111111111111112, n_depo=20, n_prophages=18\n",
      "KL118 ratio=1.25, n_depo=20, n_prophages=16\n",
      "KL122 ratio=1.3, n_depo=26, n_prophages=20\n",
      "KL125 ratio=1.3636363636363635, n_depo=30, n_prophages=22\n",
      "KL128 ratio=1.9473684210526316, n_depo=37, n_prophages=19\n",
      "KL149 ratio=1.1627906976744187, n_depo=50, n_prophages=43\n",
      "KL151 ratio=1.380952380952381, n_depo=29, n_prophages=21\n",
      "KL157 ratio=1.3846153846153846, n_depo=18, n_prophages=13\n",
      "KL169 ratio=1.2380952380952381, n_depo=26, n_prophages=21\n"
     ]
    }
   ],
   "source": [
    "for kltype in sage_best :\n",
    "    df , ratio, _ = get_data_dpo(df_info_final, kltype)\n",
    "    print(kltype, _)"
   ]
  },
  {
   "cell_type": "code",
   "execution_count": 102,
   "id": "dcd2de24-6b25-467d-b84a-d0dff8fc616e",
   "metadata": {
    "tags": []
   },
   "outputs": [
    {
     "data": {
      "text/plain": [
       "Index(['Phage', 'Protein_name', 'KL_type_LCA', 'Infected_ancestor', 'index',\n",
       "       'Dataset', 'seq', 'domain_seq', '1', '2',\n",
       "       ...\n",
       "       '1272', '1273', '1274', '1275', '1276', '1277', '1278', '1279', '1280',\n",
       "       'prophage_id'],\n",
       "      dtype='object', length=1289)"
      ]
     },
     "execution_count": 102,
     "metadata": {},
     "output_type": "execute_result"
    }
   ],
   "source": [
    "sage_n_depo = []\n",
    "gat_n_depo = []\n"
   ]
  },
  {
   "cell_type": "markdown",
   "id": "42db28bb-3cd2-4bbd-9222-118ad1dacad5",
   "metadata": {},
   "source": [
    "***\n",
    "# Plots "
   ]
  },
  {
   "cell_type": "markdown",
   "id": "ddcbfeb4-3ea0-4b8e-b37f-e74e4da299c6",
   "metadata": {},
   "source": [
    "### Plot MCC scores : "
   ]
  },
  {
   "cell_type": "code",
   "execution_count": 16,
   "id": "d2e179d3-98b7-45f8-8cfa-04ddd7178414",
   "metadata": {
    "tags": []
   },
   "outputs": [],
   "source": [
    "UF_tropigat\n",
    "\n",
    "data = list(zip(UF_tropigat[\"MCC\"].tolist(), UF_tropigat[\"n_prophages\"].tolist()))\n",
    "data_scatter_tropigat = pd.DataFrame(data, columns=[\"MCC\", \"n_prophages\"])\n"
   ]
  },
  {
   "cell_type": "code",
   "execution_count": 28,
   "id": "a2b4338b-28c7-4866-90d9-7136d7e7e4c0",
   "metadata": {
    "tags": []
   },
   "outputs": [
    {
     "data": {
      "image/png": "[encoded data removed]",
      "text/plain": [
       "<Figure size 432x288 with 1 Axes>"
      ]
     },
     "metadata": {
      "needs_background": "light"
     },
     "output_type": "display_data"
    },
    {
     "name": "stdout",
     "output_type": "stream",
     "text": [
      "Pearson's r: 0.4626990164443726\n",
      "P-value: 8.253858940779505e-06\n"
     ]
    }
   ],
   "source": [
    "import os\n",
    "import pandas as pd\n",
    "import matplotlib.pyplot as plt\n",
    "import seaborn as sns\n",
    "import numpy as np\n",
    "from scipy.stats import pearsonr  # Import for Pearson correlation\n",
    "\n",
    "path_panels = \"/media/concha-eloko/Linux/papers/PPT/reviewed_new_figures/panels\"\n",
    "\n",
    "df = pd.DataFrame(data_scatter_tropigat, columns=['n_prophages', 'MCC'])\n",
    "df['log_Number of prophages'] = np.log(df['n_prophages'])\n",
    "\n",
    "# Calculate Pearson correlation\n",
    "correlation, p_value = pearsonr(df['log_Number of prophages'], df['MCC'])\n",
    "\n",
    "\n",
    "# Draw the regression plot\n",
    "ax = sns.regplot(x=\"log_Number of prophages\", y=\"MCC\", data=df, color=\"#3A5A40\", scatter_kws={'alpha': 0.5}, line_kws={'linewidth': 2, 'linestyle': '--'})\n",
    "\n",
    "# Add correlation and p-value to the plot\n",
    "correlation_str = f\"Pearson's r = {correlation:.2f}\"\n",
    "p_value_str = f\"p-value = {p_value:.3f}\"\n",
    "\n",
    "#ax.text(0.05, 0.9, equation, transform=ax.transAxes, fontsize=10, color=\"black\")\n",
    "#ax.text(0.05, 0.85, r_squared, transform=ax.transAxes, fontsize=10, color=\"black\")\n",
    "#ax.text(0.05, 0.8, p_value_str, transform=ax.transAxes, fontsize=10, color=\"black\")\n",
    "\n",
    "# Set the desired x-axis ticks and labels\n",
    "desired_ticks = [np.log(10), np.log(50), np.log(100), np.log(150)]\n",
    "desired_labels = [\"log(10)\", \"log(50)\", \"log(100)\", \"log(150)\"]\n",
    "\n",
    "plt.xticks(desired_ticks, desired_labels, rotation=90)  # Set ticks and labels\n",
    "\n",
    "plt.grid(True, alpha=0.2, linestyle='-')\n",
    "\n",
    "plt.xlabel('Number of prophages')\n",
    "plt.ylabel('MCC score')\n",
    "plt.title('Influence of the prophage count on the MCC score under TropiGAT')\n",
    "\n",
    "plt.savefig(f'{path_panels}/scatter_plot.TropiGAT.review.svg', format=\"svg\", transparent=True)\n",
    "\n",
    "plt.show()\n",
    "\n",
    "\n",
    "print(f\"Pearson's r: {correlation}\")\n",
    "print(f\"P-value: {p_value}\")"
   ]
  },
  {
   "cell_type": "code",
   "execution_count": 27,
   "id": "8f0204ea-b8e2-42b7-807d-e531c9157775",
   "metadata": {
    "tags": []
   },
   "outputs": [
    {
     "data": {
      "image/png": "[encoded data removed]",
      "text/plain": [
       "<Figure size 432x288 with 1 Axes>"
      ]
     },
     "metadata": {
      "needs_background": "light"
     },
     "output_type": "display_data"
    },
    {
     "name": "stdout",
     "output_type": "stream",
     "text": [
      "Pearson's r: 0.41458077796216297\n",
      "P-value: 7.989564610645013e-05\n"
     ]
    }
   ],
   "source": [
    "import os\n",
    "import pandas as pd\n",
    "import matplotlib.pyplot as plt\n",
    "import seaborn as sns\n",
    "import numpy as np\n",
    "from scipy.stats import pearsonr\n",
    "\n",
    "path_panels = \"/media/concha-eloko/Linux/papers/PPT/reviewed_new_figures/panels\"\n",
    "\n",
    "df = pd.DataFrame(data_scatter_tropigat, columns=['n_prophages', 'MCC'])\n",
    "\n",
    "# Calculate Pearson correlation (using the original n_prophages)\n",
    "correlation, p_value = pearsonr(df['n_prophages'], df['MCC'])\n",
    "\n",
    "# Draw the regression plot (using the original n_prophages)\n",
    "ax = sns.regplot(x=\"n_prophages\", y=\"MCC\", data=df, color=\"#3A5A40\", scatter_kws={'alpha': 0.5}, line_kws={'linewidth': 2, 'linestyle': '--'})\n",
    "\n",
    "# Add correlation and p-value to the plot\n",
    "correlation_str = f\"Pearson's r = {correlation:.2f}\"\n",
    "p_value_str = f\"p-value = {p_value:.3f}\"\n",
    "\n",
    "ax.text(0.05, 0.9, correlation_str, transform=ax.transAxes, fontsize=10, color=\"black\")\n",
    "ax.text(0.05, 0.85, p_value_str, transform=ax.transAxes, fontsize=10, color=\"black\")\n",
    "\n",
    "\n",
    "# Set the desired x-axis ticks and labels (using original values, but you can customize)\n",
    "# If you want to show actual values on the x-axis rather than log, you don't need log here\n",
    "# However, if the values are too large or too small, the plot might be unreadable.\n",
    "# You can customize the ticks and labels, for example, by choosing a subset of values.\n",
    "\n",
    "# Example of setting ticks at specific values (adapt as needed):\n",
    "# desired_ticks = [10, 50, 100, 150]  # Example: Set ticks at 10, 50, 100, 150\n",
    "# plt.xticks(desired_ticks, [str(tick) for tick in desired_ticks], rotation=90) # Convert to strings\n",
    "\n",
    "plt.grid(True, alpha=0.2, linestyle='-')\n",
    "\n",
    "plt.xlabel('Number of prophages')\n",
    "plt.ylabel('MCC score')\n",
    "plt.title('Influence of the prophage count on the MCC score under TropiGAT')\n",
    "plt.figure(figsize=(6, 4)) \n",
    "\n",
    "plt.savefig(f'{path_panels}/scatter_plot.TropiGAT.review_nolog.svg', format=\"svg\", transparent=True)\n",
    "\n",
    "plt.show()\n",
    "\n",
    "print(f\"Pearson's r: {correlation}\")\n",
    "print(f\"P-value: {p_value}\")"
   ]
  },
  {
   "cell_type": "markdown",
   "id": "2ac1355c-fdb9-4f0d-bbd0-5edb21f2dac2",
   "metadata": {},
   "source": [
    "### Plot training loss: "
   ]
  },
  {
   "cell_type": "code",
   "execution_count": null,
   "id": "47b783a7-b457-4113-a3a7-5fa44da939e2",
   "metadata": {},
   "outputs": [],
   "source": [
    "import os\n",
    "\n",
    "path_metrics = \"/media/concha-eloko/Linux/PPT_clean/ficheros_28032023/ensemble_0702_log_files/\"\n",
    "average_metric_df = pd.read_csv(f\"/media/concha-eloko/Linux/PPT_clean/ficheros_28032023/Metric_Report.0702.clean.tsv\", sep = \"\\t\", header = 0)\n",
    "\n",
    "def make_table(KL_type) :\n",
    "    version = average_metric_df[average_metric_df[\"KL_type\"] == KL_type][\"model_version\"].values[0]\n",
    "    log_file = f\"{path_metrics}/{version}__node_classification.0702.log\"\n",
    "    import pandas as pd\n",
    "    lines_data = [line for line in open(log_file).read().split(\"\\n\") if line[0:6] == \"Epoch:\" if len(line.split(\"\\t\")) == 6] # if len(line.split(\"\\t\")) == 6*\n",
    "    lines_split = [line.split(\"\\t\") for line in lines_data]\n",
    "    df_raw = pd.DataFrame(lines_split , columns = [\"Epoch\",\"Train_loss\",\"Test_loss\",\"MCC\",\"AUC\",\"Acc\"])\n",
    "    df = df_raw.applymap(lambda x: float(x.split(\":\")[1]))\n",
    "    df.set_index(\"Epoch\", inplace = True)\n",
    "    return df\n",
    "    \n",
    "def plot_loss(df) : \n",
    "    import matplotlib.pyplot as plt\n",
    "    import seaborn as sns\n",
    "    sns.set(style=\"whitegrid\")\n",
    "    plt.figure(figsize=(10, 6))\n",
    "    plt.plot(df.index, df['Train_loss'], label='train loss', marker='o', linestyle='-', color =\"red\")\n",
    "    plt.plot(df.index, df['Test_loss'], label='test loss', marker='s', linestyle='--', color = \"blue\")\n",
    "    plt.title('Loss over epochs')\n",
    "    plt.xlabel('Epochs')\n",
    "    plt.ylabel('Loss')\n",
    "    plt.legend()\n",
    "    plt.grid(True)   \n",
    "    plt.show()  \n",
    "\n",
    "def plot_and_save(KL_type) :\n",
    "    df = make_table(KL_type)\n",
    "    import matplotlib.pyplot as plt\n",
    "    import seaborn as sns\n",
    "    sns.set(style=\"whitegrid\")\n",
    "    plt.figure(figsize=(10, 6))\n",
    "    plt.plot(df.index, df['Train_loss'], label='train loss', marker='o', linestyle='-', color =\"#8d0801ff\")\n",
    "    plt.plot(df.index, df['Test_loss'], label='test loss', marker='s', linestyle='--', color = \"#c6aa58ff\")\n",
    "    plt.title(f'Loss during the training of TropiGAT for {KL_type}')\n",
    "    plt.xlabel('Epochs')\n",
    "    plt.ylabel('Loss')\n",
    "    plt.legend()\n",
    "    plt.grid(True)   \n",
    "    path_folder = \"/media/concha-eloko/Linux/papers/PPT/loss_plots\"\n",
    "    plt.savefig(f'{path_folder}/{KL_type}.losses_plot.TorpiGAT.svg',format = \"svg\", transparent = True)  "
   ]
  }
 ],
 "metadata": {
  "kernelspec": {
   "display_name": "Python [conda env:torch_geometric]",
   "language": "python",
   "name": "conda-env-torch_geometric-py"
  },
  "language_info": {
   "codemirror_mode": {
    "name": "ipython",
    "version": 3
   },
   "file_extension": ".py",
   "mimetype": "text/x-python",
   "name": "python",
   "nbconvert_exporter": "python",
   "pygments_lexer": "ipython3",
   "version": "3.11.4"
  }
 },
 "nbformat": 4,
 "nbformat_minor": 5
}
