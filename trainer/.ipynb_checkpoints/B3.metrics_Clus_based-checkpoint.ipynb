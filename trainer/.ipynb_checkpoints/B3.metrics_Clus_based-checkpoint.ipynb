{
 "cells": [
  {
   "cell_type": "code",
   "execution_count": 1,
   "id": "3c99dec6-0c46-4eac-b5ed-40171726323e",
   "metadata": {},
   "outputs": [],
   "source": [
    "import os\n",
    "import pandas as pd\n",
    "import numpy as np\n",
    "from tqdm import tqdm\n",
    "from itertools import product\n",
    "import random\n",
    "from collections import Counter, defaultdict\n",
    "import warnings\n",
    "import logging\n",
    "import subprocess\n",
    "from multiprocessing.pool import ThreadPool\n",
    "import joblib\n",
    "\n",
    "# SCikitlearn modules :\n",
    "from sklearn.ensemble import RandomForestClassifier\n",
    "from sklearn.preprocessing import LabelEncoder\n",
    "from sklearn.model_selection import train_test_split, RandomizedSearchCV, StratifiedKFold\n",
    "from sklearn.metrics import classification_report , roc_auc_score, matthews_corrcoef\n",
    "from sklearn.metrics import roc_auc_score\n",
    "\n",
    "# Scipy modules : \n",
    "from scipy.stats import fisher_exact\n",
    "from statistics import mean\n",
    "\n",
    "\n",
    "PATH_WORK = \"/home/conchae/prediction_depolymerase_tropism/prophage_prediction/depolymerase_decipher/ficheros_28032023/Seqbased_model\"\n",
    "path_metrics = f\"{PATH_WORK}/metric_files\""
   ]
  },
  {
   "cell_type": "markdown",
   "id": "ec8cfd76-cc76-4a12-96ea-aefe724bd875",
   "metadata": {
    "tags": []
   },
   "source": [
    "### Make the metrics files : "
   ]
  },
  {
   "cell_type": "code",
   "execution_count": 4,
   "id": "8cc98749-c904-4d70-ac77-17e662966a09",
   "metadata": {},
   "outputs": [],
   "source": [
    "def load_data():\n",
    "    df_info = pd.read_csv(f\"{PATH_WORK}/TropiGATv2.final_df_v2.tsv\", sep=\"\\t\", header=0)\n",
    "    df_prophages = df_info.drop_duplicates(subset=[\"Phage\"], keep=\"first\")\n",
    "    dico_prophage_info = {row[\"Phage\"]: {\"prophage_strain\": row[\"prophage_id\"], \"ancestor\": row[\"Infected_ancestor\"]} for _, row in df_prophages.iterrows()}\n",
    "    return df_info, dico_prophage_info\n",
    "\n",
    "def get_filtered_prophages(prophage, df_info, dico_prophage_info):\n",
    "    to_exclude = set()\n",
    "    to_keep = {prophage}\n",
    "    df_prophage_group = df_info[(df_info[\"prophage_id\"] == dico_prophage_info[prophage][\"prophage_strain\"]) & \n",
    "                                (df_info[\"Infected_ancestor\"] == dico_prophage_info[prophage][\"ancestor\"])]\n",
    "    \n",
    "    if len(df_prophage_group) > 1:\n",
    "        depo_set = set(df_prophage_group[df_prophage_group[\"Phage\"] == prophage][\"domain_seq\"].values)\n",
    "        combinations = [depo_set]\n",
    "        \n",
    "        for prophage_tmp in df_prophage_group[\"Phage\"].unique():\n",
    "            if prophage_tmp != prophage:\n",
    "                tmp_depo_set = set(df_prophage_group[df_prophage_group[\"Phage\"] == prophage_tmp][\"domain_seq\"].values)\n",
    "                if tmp_depo_set in combinations:\n",
    "                    to_exclude.add(prophage_tmp)\n",
    "                else:\n",
    "                    to_keep.add(prophage_tmp)\n",
    "                    combinations.append(tmp_depo_set)\n",
    "    \n",
    "    return df_prophage_group, to_exclude, to_keep\n",
    "\n",
    "def filter_prophages(df_info, dico_prophage_info):\n",
    "    good_prophages = set()\n",
    "    excluded_prophages = set()\n",
    "    for prophage in tqdm(dico_prophage_info.keys()):\n",
    "        if prophage not in excluded_prophages and prophage not in good_prophages:\n",
    "            _, excluded_members, kept_members = get_filtered_prophages(prophage, df_info, dico_prophage_info)\n",
    "            good_prophages.update(kept_members)\n",
    "            excluded_prophages.update(excluded_members)\n",
    "    df_info_filtered = df_info[df_info[\"Phage\"].isin(good_prophages)]\n",
    "    return df_info_filtered[~df_info_filtered[\"KL_type_LCA\"].str.contains(\"\\\\|\")]\n",
    "\n",
    "def ultrafilter_prophages(df_info):\n",
    "    duplicate_prophage = []\n",
    "    for kltype in df_info[\"KL_type_LCA\"].unique():\n",
    "        df_kl = df_info[df_info[\"KL_type_LCA\"] == kltype][[\"Phage\", \"domain_seq\"]]\n",
    "        set_sets_depo = []\n",
    "        for _, group in df_kl.groupby(\"Phage\"):\n",
    "            set_depo = frozenset(group[\"domain_seq\"].values)\n",
    "            if set_depo in set_sets_depo:\n",
    "                duplicate_prophage.extend(group[\"Phage\"])\n",
    "            else:\n",
    "                set_sets_depo.append(set_depo)\n",
    "    \n",
    "    return df_info[~df_info[\"Phage\"].isin(duplicate_prophage)]\n",
    "\n",
    "\n",
    "def get_mean_MCC(path_data_object):\n",
    "    try:\n",
    "        assert os.path.isfile(path_data_object)\n",
    "        data_object = joblib.load(path_data_object)\n",
    "        mcc_values = []\n",
    "        for i in data_object:\n",
    "            y_test = data_object[i][\"test_data\"][0].values\n",
    "            predictions = data_object[i][\"test_data\"][1]\n",
    "            mcc = matthews_corrcoef(y_test, predictions)\n",
    "            mcc_values.append(mcc)\n",
    "        del data_object \n",
    "        mean_mcc = mean(mcc_values)\n",
    "        return mean_mcc\n",
    "    except AssertionError:\n",
    "        raise FileNotFoundError(f\"File not found: {path_data_object}\")\n",
    "        \n"
   ]
  },
  {
   "cell_type": "markdown",
   "id": "bfad3987-cda4-4876-884f-a862392cd6f4",
   "metadata": {},
   "source": [
    "> TropiSEQ (unique depolymerase sets)"
   ]
  },
  {
   "cell_type": "code",
   "execution_count": 5,
   "id": "0d504e06-c43e-48c2-94cd-dee813459dc9",
   "metadata": {},
   "outputs": [
    {
     "ename": "FileNotFoundError",
     "evalue": "[Errno 2] No such file or directory: '/home/conchae/prediction_depolymerase_tropism/prophage_prediction/depolymerase_decipher/ficheros_28032023/Seqbased_model/RF_21122024_models_ultraF'",
     "output_type": "error",
     "traceback": [
      "\u001b[0;31m---------------------------------------------------------------------------\u001b[0m",
      "\u001b[0;31mFileNotFoundError\u001b[0m                         Traceback (most recent call last)",
      "Cell \u001b[0;32mIn[5], line 3\u001b[0m\n\u001b[1;32m      1\u001b[0m path_jobs \u001b[38;5;241m=\u001b[39m \u001b[38;5;124mf\u001b[39m\u001b[38;5;124m\"\u001b[39m\u001b[38;5;132;01m{\u001b[39;00mPATH_WORK\u001b[38;5;132;01m}\u001b[39;00m\u001b[38;5;124m/RF_21122024_models_ultraF\u001b[39m\u001b[38;5;124m\"\u001b[39m\n\u001b[0;32m----> 3\u001b[0m cluster_values \u001b[38;5;241m=\u001b[39m \u001b[38;5;28mset\u001b[39m([file\u001b[38;5;241m.\u001b[39msplit(\u001b[38;5;124m\"\u001b[39m\u001b[38;5;124m_\u001b[39m\u001b[38;5;124m\"\u001b[39m)[\u001b[38;5;241m0\u001b[39m] \u001b[38;5;28;01mfor\u001b[39;00m file \u001b[38;5;129;01min\u001b[39;00m os\u001b[38;5;241m.\u001b[39mlistdir(path_jobs)])\n\u001b[1;32m      4\u001b[0m KLtypes \u001b[38;5;241m=\u001b[39m \u001b[38;5;28mset\u001b[39m([file\u001b[38;5;241m.\u001b[39msplit(\u001b[38;5;124m\"\u001b[39m\u001b[38;5;124m_RF_\u001b[39m\u001b[38;5;124m\"\u001b[39m)[\u001b[38;5;241m1\u001b[39m]\u001b[38;5;241m.\u001b[39msplit(\u001b[38;5;124m\"\u001b[39m\u001b[38;5;124m.full_data\u001b[39m\u001b[38;5;124m\"\u001b[39m)[\u001b[38;5;241m0\u001b[39m] \u001b[38;5;28;01mfor\u001b[39;00m file \u001b[38;5;129;01min\u001b[39;00m os\u001b[38;5;241m.\u001b[39mlistdir(path_jobs)])\n\u001b[1;32m      6\u001b[0m KLtypes_paths \u001b[38;5;241m=\u001b[39m {kltype : [\u001b[38;5;124mf\u001b[39m\u001b[38;5;124m\"\u001b[39m\u001b[38;5;132;01m{\u001b[39;00mpath_jobs\u001b[38;5;132;01m}\u001b[39;00m\u001b[38;5;124m/\u001b[39m\u001b[38;5;132;01m{\u001b[39;00mfile\u001b[38;5;132;01m}\u001b[39;00m\u001b[38;5;124m\"\u001b[39m \u001b[38;5;28;01mfor\u001b[39;00m file \u001b[38;5;129;01min\u001b[39;00m os\u001b[38;5;241m.\u001b[39mlistdir(path_jobs) \u001b[38;5;28;01mif\u001b[39;00m file\u001b[38;5;241m.\u001b[39msplit(\u001b[38;5;124m\"\u001b[39m\u001b[38;5;124m_RF_\u001b[39m\u001b[38;5;124m\"\u001b[39m)[\u001b[38;5;241m1\u001b[39m]\u001b[38;5;241m.\u001b[39msplit(\u001b[38;5;124m\"\u001b[39m\u001b[38;5;124m.full_data\u001b[39m\u001b[38;5;124m\"\u001b[39m)[\u001b[38;5;241m0\u001b[39m]\u001b[38;5;241m==\u001b[39mkltype]\n\u001b[1;32m      7\u001b[0m                 \u001b[38;5;28;01mfor\u001b[39;00m kltype \u001b[38;5;129;01min\u001b[39;00m KLtypes}\n",
      "\u001b[0;31mFileNotFoundError\u001b[0m: [Errno 2] No such file or directory: '/home/conchae/prediction_depolymerase_tropism/prophage_prediction/depolymerase_decipher/ficheros_28032023/Seqbased_model/RF_21122024_models_ultraF'"
     ]
    }
   ],
   "source": [
    "path_jobs = f\"{PATH_WORK}/RF_21122024_models_ultraF\"\n",
    "\n",
    "cluster_values = set([file.split(\"_\")[0] for file in os.listdir(path_jobs)])\n",
    "KLtypes = set([file.split(\"_RF_\")[1].split(\".full_data\")[0] for file in os.listdir(path_jobs)])\n",
    "\n",
    "KLtypes_paths = {kltype : [f\"{path_jobs}/{file}\" for file in os.listdir(path_jobs) if file.split(\"_RF_\")[1].split(\".full_data\")[0]==kltype]\n",
    "                for kltype in KLtypes}\n",
    "\n",
    "DF_info, dico_prophage_info = load_data()\n",
    "# UF or not ?\n",
    "DF_info_lvl_0 = ultrafilter_prophages(filter_prophages(DF_info, dico_prophage_info))\n",
    "#DF_info_lvl_0 = filter_prophages(DF_info, dico_prophage_info)\n",
    "\n",
    "dico_prophage_count = Counter(DF_info_lvl_0[\"KL_type_LCA\"])\n",
    "\n",
    "with open(f\"{path_metrics}/SEQ_based.RF__UF.prophages_metrics.tsv\", \"w\") as outfile :\n",
    "    for KLtype in tqdm(KLtypes_paths) : \n",
    "        for path in KLtypes_paths[KLtype] :\n",
    "            cl_value = path.split(\"/\")[-1].split(\"_RF\")[0]\n",
    "            mean_mcc = get_mean_MCC(path)\n",
    "            count_kltype = dico_prophage_count[KLtype]\n",
    "            outfile.write(f\"{KLtype}\\t{count_kltype}\\t{cl_value}\\t{mean_mcc}\\n\")\n"
   ]
  },
  {
   "cell_type": "markdown",
   "id": "813ba1b6-a290-41c3-98b3-0ab83ee09b22",
   "metadata": {},
   "source": [
    "> TropiSEQ (single infectious events)"
   ]
  },
  {
   "cell_type": "code",
   "execution_count": null,
   "id": "e45a0df6-79ba-4c37-979c-1502663717c7",
   "metadata": {},
   "outputs": [],
   "source": [
    "path_jobs = f\"{PATH_WORK}/RF_1302_models\"\n",
    "\n",
    "cluster_values = set([file.split(\"_\")[0] for file in os.listdir(path_jobs)])\n",
    "KLtypes = set([file.split(\"_RF_\")[1].split(\".full_data\")[0] for file in os.listdir(path_jobs)])\n",
    "\n",
    "KLtypes_paths = {kltype : [f\"{path_jobs}/{file}\" for file in os.listdir(path_jobs) if file.split(\"_RF_\")[1].split(\".full_data\")[0]==kltype]\n",
    "                for kltype in KLtypes}\n",
    "\n",
    "DF_info, dico_prophage_info = load_data()\n",
    "# UF or not ?\n",
    "#DF_info_lvl_0 = ultrafilter_prophages(filter_prophages(DF_info, dico_prophage_info))\n",
    "DF_info_lvl_0 = filter_prophages(DF_info, dico_prophage_info)\n",
    "\n",
    "dico_prophage_count = Counter(DF_info_lvl_0[\"KL_type_LCA\"])\n",
    "\n",
    "with open(f\"{path_metrics}/SEQ_based.RF.prophages_metrics.tsv\", \"w\") as outfile :\n",
    "    for KLtype in tqdm(KLtypes_paths) : \n",
    "        for path in KLtypes_paths[KLtype] :\n",
    "            cl_value = path.split(\"/\")[-1].split(\"_RF\")[0]\n",
    "            mean_mcc = get_mean_MCC(path)\n",
    "            count_kltype = dico_prophage_count[KLtype]\n",
    "            outfile.write(f\"{KLtype}\\t{count_kltype}\\t{cl_value}\\t{mean_mcc}\\n\")\n"
   ]
  },
  {
   "cell_type": "markdown",
   "id": "e4fd7315-cb7b-49dc-9538-ed045247e3ca",
   "metadata": {},
   "source": [
    "> Logistic regression (single infectious events)"
   ]
  },
  {
   "cell_type": "code",
   "execution_count": null,
   "id": "76c57510-c558-45c9-858e-1b8399b965f8",
   "metadata": {},
   "outputs": [],
   "source": [
    "path_jobs = f\"{PATH_WORK}/LR_21122024_models\"\n",
    "\n",
    "cluster_values = set([file.split(\"_\")[0] for file in os.listdir(path_jobs)])\n",
    "KLtypes = set([file.split(\"_LogReg_\")[1].split(\".full_data\")[0] for file in os.listdir(path_jobs)])\n",
    "\n",
    "KLtypes_paths = {kltype : [f\"{path_jobs}/{file}\" for file in os.listdir(path_jobs) if file.split(\"_LogReg_\")[1].split(\".full_data\")[0]==kltype]\n",
    "                for kltype in KLtypes}\n",
    "\n",
    "DF_info, dico_prophage_info = load_data()\n",
    "# UF or not ?\n",
    "#DF_info_lvl_0 = ultrafilter_prophages(filter_prophages(DF_info, dico_prophage_info))\n",
    "DF_info_lvl_0 = filter_prophages(DF_info, dico_prophage_info)\n",
    "\n",
    "dico_prophage_count = Counter(DF_info_lvl_0[\"KL_type_LCA\"])\n",
    "\n",
    "with open(f\"{path_metrics}/SEQ_based.LogReg.prophages_metrics.tsv\", \"w\") as outfile :\n",
    "    for KLtype in tqdm(KLtypes_paths) : \n",
    "        for path in KLtypes_paths[KLtype] :\n",
    "            cl_value = path.split(\"/\")[-1].split(\"_RF\")[0]\n",
    "            mean_mcc = get_mean_MCC(path)\n",
    "            count_kltype = dico_prophage_count[KLtype]\n",
    "            outfile.write(f\"{KLtype}\\t{count_kltype}\\t{cl_value}\\t{mean_mcc}\\n\")"
   ]
  },
  {
   "cell_type": "markdown",
   "id": "50fb2a28-eb39-4ac8-9f55-76650134c690",
   "metadata": {},
   "source": [
    "> Logistic regressino (unique depolymerase sets)"
   ]
  },
  {
   "cell_type": "code",
   "execution_count": null,
   "id": "d6a83c37-6950-4874-83c6-844fbd7eb477",
   "metadata": {},
   "outputs": [],
   "source": [
    "path_jobs = f\"{PATH_WORK}/LR_21122024_models_ultraF\"\n",
    "\n",
    "cluster_values = set([file.split(\"_\")[0] for file in os.listdir(path_jobs)])\n",
    "KLtypes = set([file.split(\"_LogReg_\")[1].split(\".full_data\")[0] for file in os.listdir(path_jobs)])\n",
    "\n",
    "KLtypes_paths = {kltype : [f\"{path_jobs}/{file}\" for file in os.listdir(path_jobs) if file.split(\"_LogReg_\")[1].split(\".full_data\")[0]==kltype]\n",
    "                for kltype in KLtypes}\n",
    "\n",
    "DF_info, dico_prophage_info = load_data()\n",
    "# UF or not ?\n",
    "DF_info_lvl_0 = ultrafilter_prophages(filter_prophages(DF_info, dico_prophage_info))\n",
    "#DF_info_lvl_0 = filter_prophages(DF_info, dico_prophage_info)\n",
    "\n",
    "dico_prophage_count = Counter(DF_info_lvl_0[\"KL_type_LCA\"])\n",
    "\n",
    "with open(f\"{path_metrics}/SEQ_based.LogReg__UF.prophages_metrics.tsv\", \"w\") as outfile :\n",
    "    for KLtype in tqdm(KLtypes_paths) : \n",
    "        for path in KLtypes_paths[KLtype] :\n",
    "            cl_value = path.split(\"/\")[-1].split(\"_RF\")[0]\n",
    "            mean_mcc = get_mean_MCC(path)\n",
    "            count_kltype = dico_prophage_count[KLtype]\n",
    "            outfile.write(f\"{KLtype}\\t{count_kltype}\\t{cl_value}\\t{mean_mcc}\\n\")"
   ]
  },
  {
   "cell_type": "markdown",
   "id": "1bb56fc1-2197-4767-82d2-15d3792d0a07",
   "metadata": {},
   "source": [
    "***\n",
    "### Compute the weighted MCC:"
   ]
  },
  {
   "cell_type": "code",
   "execution_count": null,
   "id": "768a0b70-b2d3-4fef-b4ab-a90656ac957c",
   "metadata": {},
   "outputs": [],
   "source": [
    "rsync -avzhe ssh \\\n",
    "conchae@garnatxa.srv.cpd:/home/conchae/prediction_depolymerase_tropism/prophage_prediction/depolymerase_decipher/ficheros_28032023/Seqbased_model/metric_files \\\n",
    "/media/concha-eloko/Linux/PPT_clean/ficheros_28032023/review_work/SeqBased_model\n"
   ]
  },
  {
   "cell_type": "code",
   "execution_count": 6,
   "id": "dd02ee6a-4764-4877-8824-50300ea3e8ca",
   "metadata": {
    "tags": []
   },
   "outputs": [
    {
     "name": "stderr",
     "output_type": "stream",
     "text": [
      "/tmp/ipykernel_2145028/2213569197.py:10: SettingWithCopyWarning: \n",
      "A value is trying to be set on a copy of a slice from a DataFrame.\n",
      "Try using .loc[row_indexer,col_indexer] = value instead\n",
      "\n",
      "See the caveats in the documentation: https://pandas.pydata.org/pandas-docs/stable/user_guide/indexing.html#returning-a-view-versus-a-copy\n",
      "  metric_eval_df[\"c_value\"] = metric_eval_df[\"file_name\"].astype(str).apply(lambda x: x.split(\"_\")[0])\n",
      "/tmp/ipykernel_2145028/2213569197.py:10: SettingWithCopyWarning: \n",
      "A value is trying to be set on a copy of a slice from a DataFrame.\n",
      "Try using .loc[row_indexer,col_indexer] = value instead\n",
      "\n",
      "See the caveats in the documentation: https://pandas.pydata.org/pandas-docs/stable/user_guide/indexing.html#returning-a-view-versus-a-copy\n",
      "  metric_eval_df[\"c_value\"] = metric_eval_df[\"file_name\"].astype(str).apply(lambda x: x.split(\"_\")[0])\n",
      "/tmp/ipykernel_2145028/2213569197.py:10: SettingWithCopyWarning: \n",
      "A value is trying to be set on a copy of a slice from a DataFrame.\n",
      "Try using .loc[row_indexer,col_indexer] = value instead\n",
      "\n",
      "See the caveats in the documentation: https://pandas.pydata.org/pandas-docs/stable/user_guide/indexing.html#returning-a-view-versus-a-copy\n",
      "  metric_eval_df[\"c_value\"] = metric_eval_df[\"file_name\"].astype(str).apply(lambda x: x.split(\"_\")[0])\n"
     ]
    }
   ],
   "source": [
    "path_metrics = \"/media/concha-eloko/Linux/PPT_clean/ficheros_28032023/review_work/SeqBased_model/metric_files\"\n",
    "\n",
    "threshold = 5\n",
    "names_metric_col = [\"KL_type\", \"Count\", \"file_name\",\"mean_mcc\"]\n",
    "final_weighted_dico = {}\n",
    "\n",
    "for file in os.listdir(path_metrics):\n",
    "    metric_df = pd.read_csv(f\"{path_metrics}/{file}\", sep = \"\\t\", names = names_metric_col)\n",
    "    metric_eval_df = metric_df[metric_df[\"Count\"] > threshold]\n",
    "    metric_eval_df[\"c_value\"] = metric_eval_df[\"file_name\"].astype(str).apply(lambda x: x.split(\"_\")[0])\n",
    "    weighted_mcc_dico = {}\n",
    "    for cluster in metric_eval_df[\"c_value\"].unique().tolist() :\n",
    "        mcc_sum = 0\n",
    "        cl_df = metric_eval_df[metric_eval_df[\"c_value\"] == cluster]\n",
    "        for _,row in cl_df.iterrows() : \n",
    "            mcc_sum = mcc_sum + row[\"mean_mcc\"] * row[\"Count\"]\n",
    "        weighted_mcc = mcc_sum / (sum(cl_df[\"Count\"]))\n",
    "        weighted_mcc_dico[cluster] = weighted_mcc\n",
    "    final_weighted_dico[file] = weighted_mcc_dico\n",
    "\n"
   ]
  },
  {
   "cell_type": "code",
   "execution_count": 7,
   "id": "a3421131-3b7b-493c-9eae-7c1608f2073d",
   "metadata": {
    "tags": []
   },
   "outputs": [
    {
     "data": {
      "text/plain": [
       "{'SEQ_based.LogReg__UF.prophages_metrics.tsv': {'0.85': 0.3151602636210511,\n",
       "  '0.9': 0.32933361394227706,\n",
       "  '0.8': 0.34091186979267774,\n",
       "  '0.7': 0.36446002765094077,\n",
       "  '0.95': 0.27893023121060845,\n",
       "  '0.75': 0.3463067872443405,\n",
       "  '0.65': 0.36193177410601585,\n",
       "  '0.975': 0.25498957852463594},\n",
       " 'SEQ_based.LogReg.prophages_metrics.tsv': {'0.85': 0.3722464784487348,\n",
       "  '0.9': 0.33694270698415413,\n",
       "  '0.8': 0.3659430012749742,\n",
       "  '0.7': 0.36964008602380943,\n",
       "  '0.95': 0.3319429903096709,\n",
       "  '0.75': 0.374760037337778,\n",
       "  '0.65': 0.39023597272237615,\n",
       "  '0.975': 0.27913217655865474},\n",
       " 'SEQ_based.RF.prophages_metrics.tsv': {'0.95': 0.7505887697037068,\n",
       "  '0.9': 0.7665851018307361,\n",
       "  '0.85': 0.7677152879518742,\n",
       "  '0.75': 0.7576805724196833,\n",
       "  '0.975': 0.7326524783190056,\n",
       "  '0.8': 0.7651531836408012,\n",
       "  '0.7': 0.7564513341443188,\n",
       "  '0.65': 0.7666988914668954},\n",
       " 'SEQ_based.RF__UF.prophages_metrics.tsv': {'0.95': 0.3093359009354269,\n",
       "  '0.9': 0.3353644615409259,\n",
       "  '0.85': 0.35113786424314536,\n",
       "  '0.75': 0.34352863293229235,\n",
       "  '0.975': 0.2615872360477367,\n",
       "  '0.8': 0.3427715092677617,\n",
       "  '0.7': 0.3590017290690274,\n",
       "  '0.65': 0.3669266262836219}}"
      ]
     },
     "execution_count": 7,
     "metadata": {},
     "output_type": "execute_result"
    }
   ],
   "source": [
    "final_weighted_dico"
   ]
  },
  {
   "cell_type": "code",
   "execution_count": null,
   "id": "fd418cc8-d317-4ff8-b567-91bab1d59208",
   "metadata": {},
   "outputs": [],
   "source": [
    "SEQ_based.LogReg__UF.prophages_metrics.tsv : '0.7': 0.36446002765094077\n",
    "SEQ_based.LogReg.prophages_metrics.tsv : '0.65': 0.39023597272237615 \n",
    "\n",
    "SEQ_based.RF.prophages_metrics.tsv : '0.85': 0.7677152879518742\n",
    "SEQ_based.RF__UF.prophages_metrics.tsv : '0.65': 0.3669266262836219"
   ]
  },
  {
   "cell_type": "code",
   "execution_count": null,
   "id": "b272896e-aa61-4837-9ab5-e86d99897f88",
   "metadata": {},
   "outputs": [],
   "source": [
    "import os \n",
    "\n",
    "path_work = \"/home/conchae/prediction_depolymerase_tropism/prophage_prediction/depolymerase_decipher/ficheros_28032023/Seqbased_model\"\n",
    "\n",
    "dico_models = {\"LR_21122024_models\" : {\"c_value\" : \"0.65\", \"destination\" : \"LogReg\"}, \n",
    "               #\"LR_21122024_models_ultraF\" : {\"c_value\" : \"0.7\", \"destination\" : \"LogReg_UF\"} , \n",
    "               #\"RF_21122024_models_ultraF\" : {\"c_value\" : \"0.65\", \"destination\" : \"TropiSEQ_UF\"},\n",
    "               \"RF_21122024_models_ultraF\" : {\"c_value\" : \"0.7\", \"destination\" : \"TropiSEQ_UF_70\"},\n",
    "               #\"RF_21122024_models_ultraF\" : {\"c_value\" : \"0.85\", \"destination\" : \"TropiSEQ_UF_85\"},\n",
    "              }\n",
    "\n",
    "os.makedirs(f\"{path_work}/reviewed_models/TropiSEQ_UF_70\", exist_ok=True)\n",
    "\n",
    "for file in os.listdir(path_work) : \n",
    "    if file in dico_models : \n",
    "        if file == \"RF_21122024_models_ultraF\":\n",
    "            for model in os.listdir(f\"{path_work}/{file}\") :\n",
    "                if model.startswith(dico_models[file][\"c_value\"]) :\n",
    "                    os.system(f\"cp {path_work}/{file}/{model} {path_work}/reviewed_models/{dico_models[file]['destination']}\")"
   ]
  },
  {
   "cell_type": "code",
   "execution_count": null,
   "id": "bc100a11-938d-475a-8322-90db29c1abf4",
   "metadata": {},
   "outputs": [],
   "source": [
    "rsync -avzhe ssh \\\n",
    "conchae@garnatxa.srv.cpd:/home/conchae/prediction_depolymerase_tropism/prophage_prediction/depolymerase_decipher/ficheros_28032023/Seqbased_model/reviewed_models \\\n",
    "/media/concha-eloko/Linux/PPT_clean/ficheros_28032023/review_work/SeqBased_model\n"
   ]
  },
  {
   "cell_type": "markdown",
   "id": "f3f7e3ed-c92d-466a-aafe-983987ee2127",
   "metadata": {},
   "source": [
    "***\n",
    "### Write the Metrics file: "
   ]
  },
  {
   "cell_type": "code",
   "execution_count": 8,
   "id": "f352e1af-ea31-4e8c-b7e8-09c6d0511e5b",
   "metadata": {
    "tags": []
   },
   "outputs": [],
   "source": [
    "import os \n",
    "import pandas as pd\n",
    "import json \n",
    "\n",
    "path_metrics = \"/media/concha-eloko/Linux/PPT_clean/ficheros_28032023/review_work/SeqBased_model/metric_files\"\n",
    "\n",
    "df_rf_uf = pd.read_csv(f\"{path_metrics}/SEQ_based.RF__UF.prophages_metrics.tsv\", sep = \"\\t\", names = [\"KL_types\", \"number_prophages\", \"c_value\", \"MCC\"])\n",
    "df_rf_uf = df_rf_uf[df_rf_uf[\"c_value\"] == 0.65]"
   ]
  },
  {
   "cell_type": "code",
   "execution_count": 9,
   "id": "be3fa800-51c7-4eec-bc39-814ff0c3fac2",
   "metadata": {},
   "outputs": [],
   "source": [
    "path_seqbased = \"/media/concha-eloko/Linux/PPT_clean/Seqbased_model\"\n",
    "\n",
    "dico_cluster = json.load(open(f\"{path_seqbased}/dico_cluster.cdhit__0.65.json\"))\n",
    "dico_cluster_r = {ref_dpo : key_dpo for key_dpo,list_dpo in dico_cluster.items() for ref_dpo in list_dpo}"
   ]
  },
  {
   "cell_type": "markdown",
   "id": "bb518875-599f-4dc1-9f49-ab010169762c",
   "metadata": {},
   "source": [
    "> DataFrame :"
   ]
  },
  {
   "cell_type": "code",
   "execution_count": 10,
   "id": "668a107a-bcf1-4a8e-bebb-2ec37eb5d413",
   "metadata": {
    "tags": []
   },
   "outputs": [
    {
     "name": "stderr",
     "output_type": "stream",
     "text": [
      "100%|████████████████████████████████████████████████████████████████████████████████████████████████████████████████████████████████████████████| 15981/15981 [00:18<00:00, 883.47it/s]\n"
     ]
    }
   ],
   "source": [
    "from tqdm import tqdm\n",
    "\n",
    "path_work = \"/media/concha-eloko/Linux/PPT_clean\"\n",
    "\n",
    "df_info = pd.read_csv(f\"{path_work}/TropiGATv2.final_df_v2.tsv\", sep = \"\\t\" ,  header = 0)\n",
    "df_prophages = df_info.drop_duplicates(subset = [\"Phage\"], keep = \"first\")\n",
    "dico_prophage_info = {row[\"Phage\"] : {\"prophage_strain\" : row[\"prophage_id\"] , \"ancestor\" : row[\"Infected_ancestor\"]} for _,row in df_prophages.iterrows()}\n",
    "\n",
    "df_info_final = ultrafilter_prophages(filter_prophages(df_info, dico_prophage_info))\n",
    "df_info_final[\"dpo_cluster\"] = df_info_final[\"index\"].apply(lambda x : dico_cluster_r[x])"
   ]
  },
  {
   "cell_type": "code",
   "execution_count": 12,
   "id": "59566499-61f7-41bb-8786-01209290b141",
   "metadata": {
    "tags": []
   },
   "outputs": [],
   "source": [
    "def get_number_dpocluster(df, kltype) :\n",
    "    relevant_df = df[df[\"KL_type_LCA\"] == kltype]\n",
    "    n_cluster = relevant_df[\"dpo_cluster\"].unique()\n",
    "    return len(n_cluster)"
   ]
  },
  {
   "cell_type": "code",
   "execution_count": 13,
   "id": "4e7d35b8-4909-4b03-a75a-cb365e37d812",
   "metadata": {
    "tags": []
   },
   "outputs": [
    {
     "data": {
      "text/plain": [
       "51"
      ]
     },
     "execution_count": 13,
     "metadata": {},
     "output_type": "execute_result"
    }
   ],
   "source": [
    "get_number_dpocluster(df_info_final, \"KL24\")"
   ]
  },
  {
   "cell_type": "code",
   "execution_count": 14,
   "id": "c0188fa3-1d8d-4fb8-89db-b9f319170a96",
   "metadata": {
    "tags": []
   },
   "outputs": [
    {
     "name": "stdout",
     "output_type": "stream",
     "text": [
      "KL53\t0.526\t0.479\t23\t48\n",
      "KL24\t0.0\t0.285\t51\t179\n",
      "KL42\t0.0\t1.0\t7\t7\n",
      "KL34\t0.0\t0.562\t9\t16\n",
      "KL107\t0.354\t0.224\t50\t223\n",
      "KL116\t0.0\t0.515\t17\t33\n",
      "KL140\t0.341\t0.545\t12\t22\n",
      "KL82\t0.16\t0.857\t6\t7\n",
      "KL55\t0.183\t0.632\t12\t19\n",
      "KL48\t0.0\t0.762\t16\t21\n",
      "KL30\t0.0\t0.532\t41\t77\n",
      "KL35\t0.168\t0.682\t15\t22\n",
      "KL8\t0.0\t1.0\t16\t16\n",
      "KL142\t0.0\t0.824\t14\t17\n",
      "KL81\t0.579\t0.51\t25\t49\n",
      "KL153\t0.403\t0.636\t14\t22\n",
      "KL28\t0.5\t0.213\t32\t150\n",
      "KL39\t0.0\t0.68\t17\t25\n",
      "KL16\t0.0\t0.731\t19\t26\n",
      "KL155\t0.802\t0.562\t9\t16\n",
      "KL52\t0.0\t0.6\t18\t30\n",
      "KL127\t0.411\t0.408\t20\t49\n",
      "KL143\t0.0\t0.5\t5\t10\n",
      "KL26\t0.0\t0.733\t11\t15\n",
      "KL109\t0.461\t0.722\t13\t18\n",
      "KL146\t0.0\t1.0\t5\t5\n",
      "KL122\t0.0\t0.654\t17\t26\n",
      "KL112\t0.0\t0.833\t15\t18\n",
      "KL13\t0.0\t0.263\t20\t76\n",
      "KL166\t0.0\t0.9\t9\t10\n",
      "KL4\t0.0\t0.706\t12\t17\n",
      "KL114\t0.377\t0.5\t10\t20\n",
      "KL145\t0.868\t0.396\t19\t48\n",
      "KL43\t0.284\t0.6\t33\t55\n",
      "KL63\t0.287\t0.236\t13\t55\n",
      "KL164\t0.531\t0.778\t7\t9\n",
      "KL119\t0.0\t0.667\t6\t9\n",
      "KL103\t0.0\t0.727\t8\t11\n",
      "KL36\t0.323\t0.438\t21\t48\n",
      "KL105\t0.286\t0.369\t24\t65\n",
      "KL25\t0.384\t0.249\t58\t233\n",
      "KL61\t0.0\t0.75\t9\t12\n",
      "KL15\t0.0\t0.439\t47\t107\n",
      "KL74\t0.596\t0.39\t39\t100\n",
      "KL141\t0.0\t0.556\t5\t9\n",
      "KL21\t0.379\t0.509\t27\t53\n",
      "KL126\t0.531\t0.625\t5\t8\n",
      "KL58\t0.0\t0.6\t6\t10\n",
      "KL51\t0.0\t0.659\t27\t41\n",
      "KL1\t0.0\t0.607\t37\t61\n",
      "KL139\t0.605\t0.75\t12\t16\n",
      "KL62\t0.353\t0.298\t37\t124\n",
      "KL60\t0.657\t0.326\t45\t138\n",
      "KL102\t0.464\t0.227\t29\t128\n",
      "KL54\t0.0\t0.625\t5\t8\n",
      "KL113\t0.0\t0.833\t5\t6\n",
      "KL71\t0.0\t0.706\t12\t17\n",
      "KL20\t0.0\t0.923\t12\t13\n",
      "KL6\t0.0\t0.833\t10\t12\n",
      "KL110\t0.44\t0.415\t27\t65\n",
      "KL67\t0.133\t0.647\t11\t17\n",
      "KL117\t0.0\t0.55\t11\t20\n",
      "KL64\t0.5\t0.332\t105\t316\n",
      "KL56\t0.685\t0.571\t12\t21\n",
      "KL118\t0.69\t0.45\t9\t20\n",
      "KL3\t0.654\t0.177\t26\t147\n",
      "KL169\t0.0\t0.769\t20\t26\n",
      "KL7\t0.573\t0.333\t13\t39\n",
      "KL27\t0.557\t0.303\t36\t119\n",
      "KL14\t0.357\t0.292\t38\t130\n",
      "KL159\t0.47\t0.571\t8\t14\n",
      "KL125\t0.0\t0.567\t17\t30\n",
      "KL12\t0.605\t0.298\t17\t57\n",
      "KL136\t0.0\t0.5\t12\t24\n",
      "KL9\t0.0\t0.762\t16\t21\n",
      "KL124\t0.0\t0.556\t10\t18\n",
      "KL19\t0.467\t0.429\t30\t70\n",
      "KL137\t0.0\t1.0\t7\t7\n",
      "KL45\t0.673\t0.333\t19\t57\n",
      "KL10\t0.0\t0.53\t44\t83\n",
      "KL123\t0.482\t0.522\t24\t46\n",
      "KL46\t0.511\t0.378\t34\t90\n",
      "KL47\t0.504\t0.266\t42\t158\n",
      "KL111\t0.0\t0.268\t22\t82\n",
      "KL70\t0.801\t0.49\t24\t49\n",
      "KL128\t0.787\t0.405\t15\t37\n",
      "KL38\t0.529\t0.423\t33\t78\n",
      "KL18\t0.827\t0.447\t17\t38\n",
      "KL17\t0.503\t0.184\t41\t223\n",
      "KL37\t0.0\t0.833\t5\t6\n",
      "KL2\t0.299\t0.364\t55\t151\n",
      "KL108\t0.0\t0.667\t8\t12\n",
      "KL147\t0.2\t0.8\t4\t5\n",
      "KL163\t0.0\t0.8\t4\t5\n",
      "KL106\t0.454\t0.247\t37\t150\n",
      "KL152\t0.0\t0.9\t9\t10\n",
      "KL157\t0.736\t0.444\t8\t18\n",
      "KL151\t0.234\t0.655\t19\t29\n",
      "KL149\t0.302\t0.471\t24\t51\n",
      "KL5\t0.0\t0.667\t14\t21\n",
      "KL57\t0.429\t0.463\t25\t54\n",
      "KL31\t0.0\t0.714\t10\t14\n",
      "KL66\t0.0\t0.667\t6\t9\n",
      "KL41\t0.0\t1.0\t13\t13\n",
      "KL11\t0.0\t0.714\t5\t7\n",
      "KL22\t0.518\t0.38\t19\t50\n",
      "KL23\t0.536\t0.253\t43\t170\n",
      "KL29\t0.643\t0.464\t26\t56\n"
     ]
    }
   ],
   "source": [
    "for _, row in df_rf_uf.iterrows() :\n",
    "    n_clusters = get_number_dpocluster(df_info_final, row[\"KL_types\"])\n",
    "    ratio = n_clusters / row[\"number_prophages\"]\n",
    "    print(row[\"KL_types\"], round(row[\"MCC\"], 3), round(ratio, 3), n_clusters , row[\"number_prophages\"], sep = \"\\t\")"
   ]
  },
  {
   "cell_type": "code",
   "execution_count": 15,
   "id": "43c5928b-cfa6-439d-a33c-e7b7c93d0811",
   "metadata": {},
   "outputs": [
    {
     "data": {
      "text/html": [
       "<div>\n",
       "<style scoped>\n",
       "    .dataframe tbody tr th:only-of-type {\n",
       "        vertical-align: middle;\n",
       "    }\n",
       "\n",
       "    .dataframe tbody tr th {\n",
       "        vertical-align: top;\n",
       "    }\n",
       "\n",
       "    .dataframe thead th {\n",
       "        text-align: right;\n",
       "    }\n",
       "</style>\n",
       "<table border=\"1\" class=\"dataframe\">\n",
       "  <thead>\n",
       "    <tr style=\"text-align: right;\">\n",
       "      <th></th>\n",
       "      <th>KL_types</th>\n",
       "      <th>number_prophages</th>\n",
       "      <th>c_value</th>\n",
       "      <th>MCC</th>\n",
       "    </tr>\n",
       "  </thead>\n",
       "  <tbody>\n",
       "    <tr>\n",
       "      <th>7</th>\n",
       "      <td>KL53</td>\n",
       "      <td>48</td>\n",
       "      <td>0.65</td>\n",
       "      <td>0.525543</td>\n",
       "    </tr>\n",
       "    <tr>\n",
       "      <th>10</th>\n",
       "      <td>KL24</td>\n",
       "      <td>179</td>\n",
       "      <td>0.65</td>\n",
       "      <td>0.000000</td>\n",
       "    </tr>\n",
       "    <tr>\n",
       "      <th>17</th>\n",
       "      <td>KL42</td>\n",
       "      <td>7</td>\n",
       "      <td>0.65</td>\n",
       "      <td>0.000000</td>\n",
       "    </tr>\n",
       "    <tr>\n",
       "      <th>25</th>\n",
       "      <td>KL34</td>\n",
       "      <td>16</td>\n",
       "      <td>0.65</td>\n",
       "      <td>0.000000</td>\n",
       "    </tr>\n",
       "    <tr>\n",
       "      <th>35</th>\n",
       "      <td>KL107</td>\n",
       "      <td>223</td>\n",
       "      <td>0.65</td>\n",
       "      <td>0.353817</td>\n",
       "    </tr>\n",
       "    <tr>\n",
       "      <th>...</th>\n",
       "      <td>...</td>\n",
       "      <td>...</td>\n",
       "      <td>...</td>\n",
       "      <td>...</td>\n",
       "    </tr>\n",
       "    <tr>\n",
       "      <th>824</th>\n",
       "      <td>KL41</td>\n",
       "      <td>13</td>\n",
       "      <td>0.65</td>\n",
       "      <td>0.000000</td>\n",
       "    </tr>\n",
       "    <tr>\n",
       "      <th>838</th>\n",
       "      <td>KL11</td>\n",
       "      <td>7</td>\n",
       "      <td>0.65</td>\n",
       "      <td>0.000000</td>\n",
       "    </tr>\n",
       "    <tr>\n",
       "      <th>843</th>\n",
       "      <td>KL22</td>\n",
       "      <td>50</td>\n",
       "      <td>0.65</td>\n",
       "      <td>0.517659</td>\n",
       "    </tr>\n",
       "    <tr>\n",
       "      <th>851</th>\n",
       "      <td>KL23</td>\n",
       "      <td>170</td>\n",
       "      <td>0.65</td>\n",
       "      <td>0.535506</td>\n",
       "    </tr>\n",
       "    <tr>\n",
       "      <th>856</th>\n",
       "      <td>KL29</td>\n",
       "      <td>56</td>\n",
       "      <td>0.65</td>\n",
       "      <td>0.642501</td>\n",
       "    </tr>\n",
       "  </tbody>\n",
       "</table>\n",
       "<p>108 rows × 4 columns</p>\n",
       "</div>"
      ],
      "text/plain": [
       "    KL_types  number_prophages  c_value       MCC\n",
       "7       KL53                48     0.65  0.525543\n",
       "10      KL24               179     0.65  0.000000\n",
       "17      KL42                 7     0.65  0.000000\n",
       "25      KL34                16     0.65  0.000000\n",
       "35     KL107               223     0.65  0.353817\n",
       "..       ...               ...      ...       ...\n",
       "824     KL41                13     0.65  0.000000\n",
       "838     KL11                 7     0.65  0.000000\n",
       "843     KL22                50     0.65  0.517659\n",
       "851     KL23               170     0.65  0.535506\n",
       "856     KL29                56     0.65  0.642501\n",
       "\n",
       "[108 rows x 4 columns]"
      ]
     },
     "execution_count": 15,
     "metadata": {},
     "output_type": "execute_result"
    }
   ],
   "source": [
    "df_rf_uf"
   ]
  },
  {
   "cell_type": "markdown",
   "id": "1a750efa-9556-4865-83da-469447436bec",
   "metadata": {},
   "source": [
    "***\n",
    "# Plot MCC scores: "
   ]
  },
  {
   "cell_type": "code",
   "execution_count": null,
   "id": "038741db-5204-4173-a972-3339dfa4e707",
   "metadata": {},
   "outputs": [],
   "source": [
    "import os \n",
    "import pandas as pd\n",
    "import matplotlib.pyplot as plt\n",
    "import seaborn as sns\n",
    "import numpy as np\n",
    "\n",
    "path_panels = \"/media/concha-eloko/Linux/papers/PPT/reviewed_new_figures/panels\"\n",
    "\n",
    "\n",
    "df = pd.DataFrame(data_scatter_tropiseq, columns=['Number of prophages', 'MCC score'])\n",
    "df['log_Number of prophages'] = np.log(df['Number of prophages'])\n",
    "\n",
    "# Draw the regression plot with adjusted line appearance\n",
    "sns.regplot(x=\"log_Number of prophages\", y=\"MCC score\", data=df, color=\"#3A5A40\", scatter_kws={'alpha': 0.5}, line_kws={'linewidth': 2, 'linestyle': '--'})\n",
    "\n",
    "# Get the current x-tick labels\n",
    "current_labels = plt.gca().get_xticks()\n",
    "\n",
    "# Create new labels as \"log(exponential(value))\" strings\n",
    "new_labels = [f\"log({np.exp(label):.0f})\" for label in current_labels]\n",
    "\n",
    "# Set the new x-tick labels\n",
    "plt.gca().set_xticklabels(new_labels, rotation=90)\n",
    "plt.grid(True, alpha=0.2, linestyle='-')\n",
    "\n",
    "# Setting labels and title\n",
    "plt.xlabel('Number of prophages')\n",
    "plt.ylabel('MCC score')\n",
    "plt.title('Influence of the prophage count on the MCC score under TropiSeq')\n",
    "\n",
    "plt.savefig(f'{path_panels}/scatter_plot.TropiSeq.review.svg',format = \"svg\", transparent = True)  # You can change the file extension as needed\n",
    "\n",
    "# Show the plot\n",
    "plt.show()"
   ]
  },
  {
   "cell_type": "code",
   "execution_count": null,
   "id": "c5f4b17c-a04b-4e1a-b795-ac6afb1dcc42",
   "metadata": {},
   "outputs": [],
   "source": []
  }
 ],
 "metadata": {
  "kernelspec": {
   "display_name": "Python [conda env:torch_geometric]",
   "language": "python",
   "name": "conda-env-torch_geometric-py"
  },
  "language_info": {
   "codemirror_mode": {
    "name": "ipython",
    "version": 3
   },
   "file_extension": ".py",
   "mimetype": "text/x-python",
   "name": "python",
   "nbconvert_exporter": "python",
   "pygments_lexer": "ipython3",
   "version": "3.11.4"
  }
 },
 "nbformat": 4,
 "nbformat_minor": 5
}
