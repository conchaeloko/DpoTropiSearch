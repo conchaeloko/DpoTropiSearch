{
 "cells": [
  {
   "cell_type": "code",
   "execution_count": 49,
   "id": "ae6d487f-5abe-49cd-b5c7-901b6a485ba8",
   "metadata": {
    "tags": []
   },
   "outputs": [],
   "source": [
    "import os \n",
    "import pandas as pd \n",
    "from Bio import SeqIO"
   ]
  },
  {
   "cell_type": "markdown",
   "id": "5f9fffd5-1693-44ad-9aec-dc733a2885a7",
   "metadata": {},
   "source": [
    "> Embeddings file : "
   ]
  },
  {
   "cell_type": "code",
   "execution_count": 35,
   "id": "4091656c-aa90-46eb-9577-a76c3c00ce92",
   "metadata": {
    "tags": []
   },
   "outputs": [],
   "source": [
    "path_project = \"/media/concha-eloko/Linux/PPT_clean/in_vitro\"\n",
    "\n",
    "others_embeddings = pd.read_csv(f\"{path_project}/Others_all.esm2.embedding.csv\", sep = \",\" , header = None)\n",
    "others_embeddings.set_index([0], inplace = True)\n",
    "others_embeddings = others_embeddings[~others_embeddings.index.duplicated(keep='first')]\n"
   ]
  },
  {
   "cell_type": "code",
   "execution_count": 36,
   "id": "27b0c91f-cbad-40bf-9b66-217e5e11e414",
   "metadata": {
    "tags": []
   },
   "outputs": [],
   "source": [
    "path_other = \"/media/concha-eloko/Linux/PPT_clean/in_vitro/Others_bea\"\n",
    "\n",
    "other_bea_embeddings = pd.read_csv(f\"{path_other}/depo_other_bea.esm2.embedding.csv\", header = None, sep = \",\", index_col = 0)\n"
   ]
  },
  {
   "cell_type": "code",
   "execution_count": 44,
   "id": "3d8489a6-ed29-41d1-af1e-e3d8eb3c3d06",
   "metadata": {
    "tags": []
   },
   "outputs": [],
   "source": [
    "other_complete = pd.concat([others_embeddings, other_bea_embeddings], axis=0, ignore_index=False)\n",
    "other_complete.to_csv(f\"{path_project}/exp_validated.esm2.embedding.csv\", sep = \",\" , header = None, index = True)"
   ]
  },
  {
   "cell_type": "markdown",
   "id": "bf51bdcd-8311-46e7-86ab-1a1805bac2ce",
   "metadata": {},
   "source": [
    "> Fasta file: "
   ]
  },
  {
   "cell_type": "code",
   "execution_count": 45,
   "id": "0036dc5e-5cb7-43a1-9b30-f894f8c33b75",
   "metadata": {
    "tags": []
   },
   "outputs": [],
   "source": [
    "exp_validated_winners = []\n",
    "path_seq = \"/media/concha-eloko/Linux/PPT_clean/in_vitro\"\n",
    "\n",
    "dico_seq = {record.description : record.seq for record in SeqIO.parse(f\"{path_seq}/Others_all.dpos_domains.multi.fasta\", \"fasta\") if len(record.seq) >0}\n"
   ]
  },
  {
   "cell_type": "code",
   "execution_count": 46,
   "id": "dab595e8-dc8a-4641-aee9-058eb6197aec",
   "metadata": {
    "tags": []
   },
   "outputs": [],
   "source": [
    "path_other = \"/media/concha-eloko/Linux/PPT_clean/in_vitro/Others_bea\"\n",
    "\n",
    "dico_seq_bea = {record.description : record.seq for record in SeqIO.parse(f\"{path_other}/depo_other_bea.multi.fasta\", \"fasta\") if len(record.seq) >0}"
   ]
  },
  {
   "cell_type": "code",
   "execution_count": 47,
   "id": "60c99aad-49ea-445f-8194-5844dc5909d2",
   "metadata": {
    "tags": []
   },
   "outputs": [],
   "source": [
    "dicos = [dico_seq, dico_seq_bea]\n",
    "\n",
    "with open(f\"{path_seq}/exp_validated.multi.fasta\", \"w\") as fasta :\n",
    "    for dico in dicos : \n",
    "        for description, seq in dico.items() :\n",
    "            fasta.write(f\">{description}\\n{seq}\\n\")"
   ]
  },
  {
   "cell_type": "markdown",
   "id": "bea69936-7b00-49c6-b1a9-1d53b21110d7",
   "metadata": {},
   "source": [
    "> Info file :"
   ]
  },
  {
   "cell_type": "code",
   "execution_count": 48,
   "id": "72560e02-a8a6-4378-b014-c5c24c1190f9",
   "metadata": {
    "tags": []
   },
   "outputs": [
    {
     "data": {
      "text/plain": [
       "dict_keys(['AUV61507__305_917', 'BAN78446__304_1003', 'AZF89844__294_571', 'ALT58497__333_657', 'ALT58498__59_596', 'APZ82768__116_426', 'QTP95996__300_648', 'YP_003347555__334_765', 'YP_003347556__53_359', 'YP_003347556__53_487'])"
      ]
     },
     "execution_count": 48,
     "metadata": {},
     "output_type": "execute_result"
    }
   ],
   "source": [
    "dico_seq_bea.keys()"
   ]
  },
  {
   "cell_type": "code",
   "execution_count": 50,
   "id": "293a93cd-a786-4f94-8884-4212edcdc1f6",
   "metadata": {},
   "outputs": [
    {
     "data": {
      "text/plain": [
       "[{'MZ322895.1_prot_QWY13631.1_35': Seq('AYTTMREFTPADSFINEKFAKNNRDYVDFNDDVIMASLMVEDFVYSPLYSDVSQ...QER'),\n",
       "  'ON146449.1_prot_UPW35138.1_1': Seq('KPAVAAAYAYAASVNTDLYIGVATYKFKGSTPINVDPSRAGIIGYQGKVRIDCS...LHP'),\n",
       "  'ON146449.1_prot_UPW35150.1_13': Seq('AYGSITKITNMPRELAADDNIIARDWEGRLAGNDDNNSNPGFIENGYITGIAAF...PRE'),\n",
       "  'MZ571831.1_prot_UEW68236.1_80': Seq('VGTRILRTRGITEEDPMTTEFELRGQGSNTTILTHSATVGAGDWIYTDYMHNSR...NAP'),\n",
       "  'MZ612130.1_prot_QYC51043.1_10': Seq('RTFLVYSNGLLYLFERFQNMAKVSNDKGQTWYYYKALNDRVGNPVSRTVAYQSA...KVS'),\n",
       "  'MT197175.1_prot_QIW86415.1_45': Seq('AYGSITKITNMPRELAADDNIIARDWEGRLAGNDDNNSNPGFVENGYITGIAAF...MDP'),\n",
       "  'MT197175.1_prot_QIW86419.1_49': Seq('VEVLVDYALAAAVAAGVTELYFPPAPGIYVVGQTPVTLPAGFSITGVAAKPYTA...GIP'),\n",
       "  'MT197175.1_prot_QIW86428.1_58': Seq('VYVPGGQYLITGELNLGGTSFTSGEGARDYWRGITQGVHLYGDGPYSSILVFDA...REH'),\n",
       "  'MZ571832.1_prot_UEP19662.1_17': Seq('NAGRDLRGREFVMPHGTFSATRIMRTRGIPAAEPKYTSFTWRGQGSSFTKLVHP...NCQ'),\n",
       "  'MZ571832.1_prot_UEP19667.1_22': Seq('GWNISIGLDYTTMPWTLVRAADGNFDLGYHDWKDRRAGDEDTNPQPSFVNSTIT...DFK'),\n",
       "  'MZ571834.1_prot_UEP19705.1_4': Seq('YEAKIENPGFDKGYVLQGGLRFYCGDKPFYILSYSLGTLRGPNLWHTGDNIGIT...SSM'),\n",
       "  'ON881905.1_prot_UTN90143.1_15': Seq('PQAISVPSGNATLTLNGCVVRANDRNAIVCSIPKSGQGMYFRPNGDMNSAKQVV...WKE'),\n",
       "  'MT197176.1_prot_QJI52618.1_44': Seq('AYGSITKITNMPRELAADDNIIARDWEGRLAGNDDNNSNPGFVENGYITGIAAF...WRA'),\n",
       "  'MT197176.1_prot_QJI52623.1_49': Seq('IGTEVLVDYALAAAVAAGVTELYFPPAPGIYVVGQTPVTLPAGFSITGVAAKPY...NFG'),\n",
       "  'MT197176.1_prot_QJI52632.1_58': Seq('TYKFKGSTPINVDPSRAGIIGYQGKVRIDCSEFTGSVVFSINSSYSYTPAAYYN...NGA'),\n",
       "  'MZ571827.1_prot_UEW68146.1_56': Seq('GIYVVGQTPVTLPAGFSITGVAAKPYTASSNASFNSRGTVIRLASGATAPFILT...TRL'),\n",
       "  'MZ571827.1_prot_UEW68150.1_60': Seq('AYGSITKITNMPRELAADDNIIARDWEGRLAGNDDNNSNPGFVENGYITGIAAF...MDP'),\n",
       "  'OM032871.1_prot_UKL59188.1_41': Seq('YEAKIENPGFDKGYVLQGGLRFYCGDKPFYILSYSLGTLRGPNLWHTGDNIGIT...TFY'),\n",
       "  'MZ571833.1_prot_UEW68243.1_1': Seq('EAKIENPGFDKGYVLQGGLRFYCGDKPFYILSYSLGTLRGPNLWHTGDNIGITF...MTF'),\n",
       "  'NC_029099.1_prot_YP_009226011.1_50': Seq('DAVSLYGRSYYIGSPIYMPSRTVFDGMGGKLTSIAPSTAGFMAGSIFAPGNYHP...NYA'),\n",
       "  'MW655991.1_prot_QUU29414.1_2': Seq('FKLNLSTGTYYFESSDTLRITGPIHIEGRPGTVFYHNPSNKANPKTDAFMNISG...SSL'),\n",
       "  'AB897757.1_prot_BAQ02835.1_55': Seq('LDAVPYLQAAIDYGKTNNLPVVLSQRYPCITFPQTYELPRDDGTVYPGWITAGT...SYA'),\n",
       "  'AB897757.1_prot_BAQ02836.1_56': Seq('KKAILAGTESLYIPPREIYKDVMIGELDITSTLRLWGDSGSNINTGGSTIKKIA...AHN'),\n",
       "  'AB897757.1_prot_BAQ02837.1_57': Seq('VGFYGRKAIYLKAGTYKPSRQLDIPSYVSVVAIGNVTIDGSGMPDNSYVIRIIN...DPY'),\n",
       "  'AB897757.1_prot_BAQ02838.1_58': Seq('TSGMTYITPTGTILITTVVIPTLKGMTFKFDGTIFKLPDGATPLDSDMIRFNSL...TST'),\n",
       "  'AB897757.1_prot_BAQ02839.1_59': Seq('MSIYYPPSKGIYVHSNVCTLPSGFNMYGQSRKPYTVSNDASFNNCGTVIRLASG...RGA'),\n",
       "  'AB897757.1_prot_BAQ02840.1_60': Seq('NSQMYGVMPIVFPPGVFQYSTEMKFTKYLNSTGSLSTCYTLIGSGMTSTVLQPI...DEN'),\n",
       "  'AB897757.1_prot_BAQ02841.1_61': Seq('VSLRFDSNLTLTKALTIKSNTNLYFNKDVFLFPSGPTIQGLICSGSVSTTITTT...NTL'),\n",
       "  'AB897757.1_prot_BAQ02842.1_62': Seq('INNIFSLANQLNIPIKQHDGTYLVSGSTIFTINTDCDLSGVTILPSSNFTGYFL...YLQ'),\n",
       "  'AB897757.1_prot_BAQ02843.1_63': Seq('GLGRRQDGAIIPYGNVSSESFIHTGTLILLTTSSTVTFYDLTVDARGITLSFVD...SLT'),\n",
       "  'AB897757.1_prot_BAQ02844.1_64': Seq('NTPTFSNIELSSLTPYIDFHFNNSSSDYTTRLIENSSGELTLVGSLRLNNNLVV...SYT'),\n",
       "  'AB716666.1_prot_BAP15736.1_24': Seq('AYGSITKITNMPRELAADDNIIARDWEGRLAGNDDNNSNPGFVENGYITGIAAF...MDP'),\n",
       "  'AB716666.1_prot_BAP15746.1_34': Seq('LVVDTVLQATSVLNIKSNSTLEFTDTGRILPDAAVARQVLNITGSAPSVFVPLA...VAN'),\n",
       "  'NC_013649.2_prot_YP_003347651.1_57': Seq('GVDSVAAIEAALAAGDVDLGGEHWFISRPIYCVSGRTIQNGKISTLAAQGSGFM...VLS'),\n",
       "  'MH844531.1_prot_AYP28213.1_32': Seq('LNLSAGTYYFESSDTLRITGPIHIEGRPGTVFYHNPSNKANPKTDAFMNISGCS...NKL'),\n",
       "  'MT966873.1_prot_QOV05496.1_37': Seq('GWNISVGLEYHTMPWTLVRAADGNFDLGYHDWKDRRAGDDDTNPQPSFVNSTIT...DFK'),\n",
       "  'MT966873.1_prot_QOV05501.1_42': Seq('IVLTRMYSLPMRTFSIPSGTTLIGLGAKTGFKAAGGTELFVNLLEVGGTDVLLS...FAS'),\n",
       "  'MT966873.1_prot_QOV05502.1_43': Seq('GHYTNQGQPFEVDFPLNLDVPVGTFLDFPIIIRGKTVKMVRSVTTNLTAAQCPA...DAA'),\n",
       "  'NC_025418.1_prot_YP_009098375.1_24': Seq('AYGSITKITNMPRELAADDNIIARDWEGRLAGNDDNNSNPGFVENGYITGIAAF...MDP'),\n",
       "  'NC_025418.1_prot_YP_009098385.1_34': Seq('RHLVVDTVLQATSVLNIKSNSTLEFTDTGRILPDAAVARQVLNITGSAPSVFVP...LDD'),\n",
       "  'MN781108.1_prot_QGZ15323.1_262': Seq('YTFEQMSQFMLMKPFIEEKFIKNRMNYVNFNTAALQASLMAENFPISTEYKDLS...PTE'),\n",
       "  'MT966872.1_prot_QOV05454.1_38': Seq('KDVTADIMAACVVANDLGLDIKQNDGTYLVSGNPVWPVYNSLDLNGVTLKLAAG...AGT'),\n",
       "  'MK903728.1_prot_QDF14639.1_37': Seq('GWNISIGLDYTTMPWTLVRAADGNFDLGYHDWKDRRAGDEDTNPQPSFVNSTIT...DFK'),\n",
       "  'MK903728.1_prot_QDF14644.1_42': Seq('DRVALQRSLDVAYENALNGTGPSTVRWSGDYMVSLNPNSLGVSGELAAGRSALC...GIP'),\n",
       "  'MK903728.1_prot_QDF14645.1_43': Seq('TPSALLAVAVEAARLGRTVEFGPGHYTNQGQPFEVDFPLNLDVPVGTFLDFPII...IGP'),\n",
       "  'NC_031246.1_prot_YP_009302745.1_41': Seq('AYGSITKITNMPRELAADDNIIARDWEGRLAGNDDNNSNPGFVENGYITGIAAF...MDP'),\n",
       "  'NC_031246.1_prot_YP_009302756.1_52': Seq('LVVDTVLQATSVLNIKSNSTLEFTDTGRILPDAAVARQVLNIIGSAPSVFVPLA...SVA'),\n",
       "  'MT542697.1_prot_QKY78347.1_38': Seq('GWNISIGLEYHTMPWTLVRAADGNFDLGYHEWTNRRAGDEDTNPQPSFVNSTIT...QFD'),\n",
       "  'MT542697.1_prot_QKY78353.1_44': Seq('VTADIMAACVVANDLGLDIKQNDGTYLVSGNPVWPVYNSLDLNGVTLKLAAGFT...SGT'),\n",
       "  'MZ826764.1_prot_UCR74082.1_30': Seq('VKPYIQAAIDTSISINKGKVHLPEANYYTAIGNIELAGTGHNRALGVRVYGVRG...MSN'),\n",
       "  'MZ826764.1_prot_UCR74083.1_31': Seq('TDNFVCLGQVINGIESHLTLGVSTANNIDTYDGGKRTNIIVPTDSYRIGKEAAK...EGF'),\n",
       "  'MZ826764.1_prot_UCR74084.1_32': Seq('SVRFPHGVKGIYALNGSVTLPGGFTIYGECSKPYTITDDSSFVGKGTVIRKASG...NGR'),\n",
       "  'MZ826764.1_prot_UCR74085.1_33': Seq('GAGQDLRKRKFVVPNGSYSAARTYRTRGLPSADPNSTKFELLGQGSTTTILNQE...ILR')},\n",
       " {'AUV61507__305_917': Seq('DIKQNDGTYLVSGNPVWPVYNSLDLNGVTLKLAAGFTGYFALTQKDSTTVYGPT...TYI'),\n",
       "  'BAN78446__304_1003': Seq('MVNDEDLKTYLKVIIPSEYPLRIGKTSIKAYSRLKLDFQQASIYDRPSPSNRQE...RSG'),\n",
       "  'AZF89844__294_571': Seq('YEAKIENPGFDKGYVLQGGLRFYCGDKPFYILSYSLGTLRGPNLWHTGDNIGIT...AGG'),\n",
       "  'ALT58497__333_657': Seq('TVRWSGDYMVSLNPNSLGVSGELAAGRSALCIRPGVSIEGKGTVRLDPSFTGSQ...AQV'),\n",
       "  'ALT58498__59_596': Seq('VEFGPGHYTNQGQPFEVDFPLNLDVPVGTFLDFPIIIRGKTVKTVRSVATNLTA...GIW'),\n",
       "  'APZ82768__116_426': Seq('DLYIGVATYKFKGSTPINIDPSRAGIIGYQGKVRIDCSEFTGSIVFSINSSYSY...SLS'),\n",
       "  'QTP95996__300_648': Seq('NTAMMQAAFNLAISKSFKLNLSTGTYYFESSDTLRITGPIHIEGRPGTVFYHNP...VNS'),\n",
       "  'YP_003347555__334_765': Seq('TEVYVPAGSYLITRELNLNGGNRNTRLGARIRGAGWASSVLVFKAPAPETPCIS...ANS'),\n",
       "  'YP_003347556__53_359': Seq('EVAIGPVEGNGGRPYEFGDVVIPYPLRIVGCGSQGINVTKGTVLKRSAGASFMF...SVG'),\n",
       "  'YP_003347556__53_487': Seq('EVAIGPVEGNGGRPYEFGDVVIPYPLRIVGCGSQGINVTKGTVLKRSAGASFMF...GKV')}]"
      ]
     },
     "execution_count": 50,
     "metadata": {},
     "output_type": "execute_result"
    }
   ],
   "source": [
    "dicos"
   ]
  },
  {
   "cell_type": "code",
   "execution_count": null,
   "id": "75bb2783-66bf-4577-87f1-a1b48ee84fba",
   "metadata": {},
   "outputs": [],
   "source": []
  }
 ],
 "metadata": {
  "kernelspec": {
   "display_name": "Python [conda env:torch_geometric]",
   "language": "python",
   "name": "conda-env-torch_geometric-py"
  },
  "language_info": {
   "codemirror_mode": {
    "name": "ipython",
    "version": 3
   },
   "file_extension": ".py",
   "mimetype": "text/x-python",
   "name": "python",
   "nbconvert_exporter": "python",
   "pygments_lexer": "ipython3",
   "version": "3.11.4"
  }
 },
 "nbformat": 4,
 "nbformat_minor": 5
}
