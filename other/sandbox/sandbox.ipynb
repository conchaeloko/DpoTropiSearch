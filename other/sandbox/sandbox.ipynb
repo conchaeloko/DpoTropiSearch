{
 "cells": [
  {
   "cell_type": "markdown",
   "id": "d6701f28-a804-4b7d-bb6c-2cfe3f352777",
   "metadata": {
    "jp-MarkdownHeadingCollapsed": true,
    "tags": []
   },
   "source": [
    "# Make best_parameters dico file : "
   ]
  },
  {
   "cell_type": "code",
   "execution_count": null,
   "id": "44f2f2b2-fffd-4f6e-b14f-52fb11e0001c",
   "metadata": {},
   "outputs": [],
   "source": [
    "import os \n",
    "import json\n",
    "from tqdm import tqdm\n",
    "\n",
    "path_work = \"/media/concha-eloko/Linux/PPT_clean/trainer_best_parameters\""
   ]
  },
  {
   "cell_type": "code",
   "execution_count": null,
   "id": "549957e9-fb55-434a-8cec-71902a2ec0e3",
   "metadata": {
    "tags": []
   },
   "outputs": [],
   "source": [
    "def make_json(OPTUNA_PATH) : \n",
    "    DICO_OPTUNA = {}\n",
    "    for file in os.listdir(OPTUNA_PATH):\n",
    "        if file.endswith(\"json\"):\n",
    "            kl_type = file.split(\"_\")[0]\n",
    "            with open(f\"{OPTUNA_PATH}/{file}\", \"r\") as f:\n",
    "                best_parameters = json.load(f)\n",
    "            DICO_OPTUNA[kl_type] = best_parameters\n",
    "    return DICO_OPTUNA"
   ]
  },
  {
   "cell_type": "code",
   "execution_count": null,
   "id": "4bbbf641-edc0-4377-9046-ef050af02046",
   "metadata": {},
   "outputs": [],
   "source": [
    "model_name = { \n",
    "\"ensemble_20112024_log_optimized_SAGE_ultraF\" : \"SAGE_uf\",\n",
    "\"ensemble_20112024_log_optimized_TropiGAT\" : \"TropiGAT\",\n",
    "\"ensemble_20112024_log_optimized_TropiGAT_ultraF\" : \"TropiGAT_uf\",\n",
    "\"ensemble_20112024_log_optimized_SAGE\" : \"SAGE\"\n",
    "}\n",
    "\n",
    "best_para_dico = {}\n",
    "for rep in tqdm(os.listdir(path_work)) : \n",
    "    dico_rep = make_json(f\"{path_work}/{rep}\")\n",
    "    best_para_dico[model_name[rep]] = dico_rep\n",
    "    \n",
    "with open(f\"{path_work}/DAG_models_best_para.json\", \"w\") as fp:\n",
    "    json.dump(best_para_dico, fp)"
   ]
  },
  {
   "cell_type": "code",
   "execution_count": null,
   "id": "49cd071e-00c4-44dd-90b6-ef80965c163f",
   "metadata": {
    "tags": []
   },
   "outputs": [],
   "source": [
    "best_para_dico[\"TropiGAT\"]"
   ]
  },
  {
   "cell_type": "markdown",
   "id": "1f676e3d-9743-493d-abdc-5fb114b63c88",
   "metadata": {
    "tags": []
   },
   "source": [
    "# Fixing the ultrafiltration process: "
   ]
  },
  {
   "cell_type": "code",
   "execution_count": 3,
   "id": "29912073-9f57-45dd-be52-9276c53b2004",
   "metadata": {},
   "outputs": [],
   "source": [
    "import os\n",
    "import json\n",
    "import random\n",
    "import warnings\n",
    "from collections import Counter\n",
    "from itertools import product\n",
    "from multiprocessing.pool import ThreadPool\n",
    "\n",
    "import numpy as np\n",
    "import pandas as pd\n",
    "import torch\n",
    "import torch.nn.functional as F\n",
    "import torch.optim as optim\n",
    "from sklearn.metrics import (accuracy_score, f1_score, matthews_corrcoef,\n",
    "                             precision_score, recall_score, roc_auc_score)\n",
    "from sklearn.model_selection import StratifiedKFold, train_test_split\n",
    "from sklearn.preprocessing import LabelEncoder, OneHotEncoder, label_binarize\n",
    "from torch import nn\n",
    "from torch.optim.lr_scheduler import ReduceLROnPlateau\n",
    "from torch_geometric.data import DataLoader, HeteroData\n",
    "from torch_geometric.loader import LinkNeighborLoader\n",
    "from torch_geometric.nn import GATv2Conv, HeteroConv, to_hetero\n",
    "from torch_geometric.utils import negative_sampling\n",
    "from tqdm import tqdm\n",
    "\n",
    "import TropiGAT_graph\n",
    "import TropiGAT_models\n",
    "\n",
    "warnings.filterwarnings(\"ignore\")\n",
    "\n",
    "# Constants\n",
    "# **************************************************\n",
    "ultrafiltration = True\n",
    "# **************************************************\n",
    "\n",
    "path_work = \"/media/concha-eloko/Linux/PPT_clean\"\n",
    "\n",
    "bacteria_data_df = pd.read_csv(f\"{path_work}/results_kleborate_count.tsv\", sep = \"\\t\", header = 0)\n",
    "DF_info = pd.read_csv(f\"{path_work}/TropiGATv2.final_df_v2.tsv\", sep = \"\\t\" ,  header = 0)\n",
    "\n",
    "\n",
    "def load_and_preprocess_data():\n",
    "    \"\"\"Load and preprocess the prophage data.\"\"\"\n",
    "    df_info = pd.read_csv(f\"{path_work}/TropiGATv2.final_df_v2.tsv\", sep=\"\\t\", header=0)\n",
    "    df_info = df_info.drop_duplicates(subset=[\"Protein_name\"])\n",
    "    \n",
    "    df_prophages = df_info.drop_duplicates(subset=[\"Phage\"], keep=\"first\")\n",
    "    dico_prophage_info = {row[\"Phage\"]: {\"prophage_strain\": row[\"prophage_id\"], \"ancestor\": row[\"Infected_ancestor\"]} \n",
    "                          for _, row in df_prophages.iterrows()}\n",
    "    \n",
    "    return df_info, dico_prophage_info\n",
    "\n",
    "def filter_prophages(df_info, dico_prophage_info):\n",
    "    \"\"\"Filter prophages to remove duplicates and ensure diversity.\"\"\"\n",
    "    def get_filtered_prophages(prophage):\n",
    "        combinations = []\n",
    "        to_exclude = set()\n",
    "        to_keep = set()\n",
    "        to_keep.add(prophage)\n",
    "        df_prophage_group = df_info[\n",
    "            (df_info[\"prophage_id\"] == dico_prophage_info[prophage][\"prophage_strain\"]) & \n",
    "            (df_info[\"Infected_ancestor\"] == dico_prophage_info[prophage][\"ancestor\"])\n",
    "        ]\n",
    "        if len(df_prophage_group) == 1:\n",
    "            return df_prophage_group, to_exclude, to_keep\n",
    "        \n",
    "        depo_set = set(df_prophage_group[df_prophage_group[\"Phage\"] == prophage][\"domain_seq\"].values)\n",
    "        for prophage_tmp in df_prophage_group[\"Phage\"].unique():\n",
    "            if prophage_tmp != prophage:\n",
    "                tmp_depo_set = set(df_prophage_group[df_prophage_group[\"Phage\"] == prophage_tmp][\"domain_seq\"].values)\n",
    "                if depo_set == tmp_depo_set:\n",
    "                    to_exclude.add(prophage_tmp)\n",
    "                elif tmp_depo_set not in combinations:\n",
    "                    to_keep.add(prophage_tmp)\n",
    "                    combinations.append(tmp_depo_set)\n",
    "                else:\n",
    "                    to_exclude.add(prophage_tmp)\n",
    "        return df_prophage_group, to_exclude, to_keep\n",
    "\n",
    "    good_prophages = set()\n",
    "    excluded_prophages = set()\n",
    "\n",
    "    for prophage in tqdm(dico_prophage_info.keys()):\n",
    "        if prophage not in excluded_prophages and prophage not in good_prophages:\n",
    "            _, excluded_members, kept_members = get_filtered_prophages(prophage)\n",
    "            good_prophages.update(kept_members)\n",
    "            excluded_prophages.update(excluded_members)\n",
    "\n",
    "    df_info_filtered = df_info[df_info[\"Phage\"].isin(good_prophages)]\n",
    "    df_info_final = df_info_filtered[~df_info_filtered[\"KL_type_LCA\"].str.contains(\"\\\\|\")]\n",
    "\n",
    "    return df_info_final\n",
    "\n",
    "\n",
    "def ultrafilter_prophages(df_info):\n",
    "    \"\"\"Perform ultra-filtration to remove duplicate prophages within KL types.\"\"\"\n",
    "    duplicate_prophage = []\n",
    "    dico_kltype_duplica = {}\n",
    "\n",
    "    for kltype in df_info[\"KL_type_LCA\"].unique():\n",
    "        df_kl = df_info[df_info[\"KL_type_LCA\"] == kltype][[\"Phage\", \"Protein_name\", \"KL_type_LCA\", \"Infected_ancestor\", \"index\", \"seq\", \"domain_seq\"]]\n",
    "        prophages_tmp_list = df_kl[\"Phage\"].unique().tolist()\n",
    "        set_sets_depo = []\n",
    "        duplicated = {}  \n",
    "        for prophage_tmp in prophages_tmp_list: \n",
    "            set_depo = frozenset(df_kl[df_kl[\"Phage\"] == prophage_tmp][\"domain_seq\"].values)\n",
    "            for past_set in set_sets_depo:\n",
    "                if past_set == set_depo:\n",
    "                    duplicated[past_set] = duplicated.get(past_set, 0) + 1\n",
    "                    duplicate_prophage.append(prophage_tmp)\n",
    "                    break\n",
    "            else:\n",
    "                set_sets_depo.append(set_depo)\n",
    "                duplicated[set_depo] = 1\n",
    "        dico_kltype_duplica[kltype] = duplicated\n",
    "\n",
    "    df_info_ultrafiltered = df_info[~df_info[\"Phage\"].isin(duplicate_prophage)]\n",
    "    return df_info_ultrafiltered\n",
    "\n",
    "\n",
    "def prepare_kltypes(df_info):\n",
    "    \"\"\"Prepare KL types for training.\"\"\"\n",
    "    df_prophages = df_info.drop_duplicates(subset=[\"Phage\"])\n",
    "    dico_prophage_count = dict(Counter(df_prophages[\"KL_type_LCA\"]))\n",
    "    kltypes = [kltype for kltype, count in dico_prophage_count.items() if count >= 10]\n",
    "    return kltypes, dico_prophage_count\n",
    "\n"
   ]
  },
  {
   "cell_type": "code",
   "execution_count": null,
   "id": "f80c8206-47f5-4cb1-9ecd-72cb6d5820b4",
   "metadata": {},
   "outputs": [],
   "source": []
  },
  {
   "cell_type": "code",
   "execution_count": 4,
   "id": "2f4bfaaa-fea2-4369-98eb-bbe56776faef",
   "metadata": {},
   "outputs": [],
   "source": [
    "df_info, dico_prophage_info = load_and_preprocess_data()"
   ]
  },
  {
   "cell_type": "code",
   "execution_count": 8,
   "id": "d808cd85-5b17-468c-b14e-71e8356ae1f4",
   "metadata": {},
   "outputs": [
    {
     "name": "stderr",
     "output_type": "stream",
     "text": [
      "100%|████████████████████████████████████████████████████████████████████████████████████████████████████████████████████████████████████████████| 15981/15981 [00:17<00:00, 894.50it/s]\n"
     ]
    }
   ],
   "source": [
    "df_info_final = filter_prophages(df_info, dico_prophage_info)"
   ]
  },
  {
   "cell_type": "code",
   "execution_count": 9,
   "id": "118f8136-593b-4357-8e5c-31eb7bc8370a",
   "metadata": {
    "tags": []
   },
   "outputs": [
    {
     "data": {
      "text/plain": [
       "8871"
      ]
     },
     "execution_count": 9,
     "metadata": {},
     "output_type": "execute_result"
    }
   ],
   "source": [
    "len(df_info_final[\"Phage\"].unique())"
   ]
  },
  {
   "cell_type": "code",
   "execution_count": null,
   "id": "874954b6-df7b-460a-92b2-1ff9527cdf09",
   "metadata": {},
   "outputs": [],
   "source": []
  },
  {
   "cell_type": "code",
   "execution_count": 11,
   "id": "93aa2086-440a-4151-a282-2243c816ea7f",
   "metadata": {},
   "outputs": [],
   "source": [
    "df_info_final_uf = ultrafilter_prophages(df_info)"
   ]
  },
  {
   "cell_type": "code",
   "execution_count": 12,
   "id": "5d17e10f-3fb6-4016-bd58-8badd9e5b2dd",
   "metadata": {
    "tags": []
   },
   "outputs": [
    {
     "data": {
      "text/plain": [
       "4271"
      ]
     },
     "execution_count": 12,
     "metadata": {},
     "output_type": "execute_result"
    }
   ],
   "source": [
    "len(df_info_final_uf[\"Phage\"].unique())"
   ]
  },
  {
   "cell_type": "markdown",
   "id": "21cdb156-ab60-473d-ae79-31d59a7ca81c",
   "metadata": {
    "jp-MarkdownHeadingCollapsed": true,
    "tags": []
   },
   "source": [
    "# Get the log files with the best parameters : \n"
   ]
  },
  {
   "cell_type": "code",
   "execution_count": null,
   "id": "4fcacf57-7f4a-44e1-b7b9-f4f259a34476",
   "metadata": {},
   "outputs": [],
   "source": []
  },
  {
   "cell_type": "code",
   "execution_count": null,
   "id": "09975e37-eab4-4a5c-a85c-507980561931",
   "metadata": {},
   "outputs": [],
   "source": [
    "rsync -avzhe ssh \\\n",
    "conchae@garnatxa.srv.cpd:/home/conchae/prediction_depolymerase_tropism/prophage_prediction/depolymerase_decipher/ficheros_28032023/train_nn/ensemble_20112024_log_optimized_TropiGAT \\\n",
    "/media/concha-eloko/Linux/PPT_clean/trainer_best_parameters\n",
    "\n",
    "\n",
    "rsync -avzhe ssh \\\n",
    "conchae@garnatxa.srv.cpd:/home/conchae/prediction_depolymerase_tropism/prophage_prediction/depolymerase_decipher/ficheros_28032023/train_nn/ensemble_20112024_log_optimized_TropiGAT_ultraF \\\n",
    "/media/concha-eloko/Linux/PPT_clean/trainer_best_parameters\n",
    "\n",
    "\n",
    "rsync -avzhe ssh \\\n",
    "conchae@garnatxa.srv.cpd:/home/conchae/prediction_depolymerase_tropism/prophage_prediction/depolymerase_decipher/ficheros_28032023/train_nn/ensemble_20112024_log_optimized_SAGE \\\n",
    "/media/concha-eloko/Linux/PPT_clean/trainer_best_parameters\n",
    "\n",
    "\n",
    "rsync -avzhe ssh \\\n",
    "conchae@garnatxa.srv.cpd:/home/conchae/prediction_depolymerase_tropism/prophage_prediction/depolymerase_decipher/ficheros_28032023/train_nn/ensemble_20112024_log_optimized_SAGE_ultraF \\\n",
    "/media/concha-eloko/Linux/PPT_clean/trainer_best_parameters\n"
   ]
  },
  {
   "cell_type": "code",
   "execution_count": null,
   "id": "8da2e8ef-54cf-4a17-83a9-ddc24210938e",
   "metadata": {
    "tags": []
   },
   "outputs": [],
   "source": [
    "import os\n",
    "import json\n",
    "\n",
    "path_json = \"/media/concha-eloko/Linux/PPT_clean/trainer_best_parameters/ensemble_20112024_log_optimized_TropiGAT\"\n",
    "OPTUNA_PATH = path_json\n",
    "\n",
    "\n",
    "with open(f\"{path_json}/KL136_optuna_best_params.json\", \"r\") as f:  # Use context manager to open the file\n",
    "    best_parameters = json.load(f)"
   ]
  },
  {
   "cell_type": "code",
   "execution_count": null,
   "id": "a98d16c8-a16e-4f49-8898-4cc61ee274e7",
   "metadata": {
    "tags": []
   },
   "outputs": [],
   "source": [
    "DICO_OPTUNA = {}\n",
    "for file in os.listdir(OPTUNA_PATH):\n",
    "    if file.endswith(\"json\"):\n",
    "        kl_type = file.split(\"_\")[0]\n",
    "        with open(f\"{OPTUNA_PATH}/{file}\", \"r\") as f:\n",
    "            best_parameters = json.load(f)\n",
    "        DICO_OPTUNA[kl_type] = best_parameters\n"
   ]
  },
  {
   "cell_type": "code",
   "execution_count": null,
   "id": "4fb48537-b4f0-4e7b-bded-557b6c023436",
   "metadata": {},
   "outputs": [],
   "source": []
  },
  {
   "cell_type": "markdown",
   "id": "63148aa5-c73d-4a7b-aa09-b3e757999d08",
   "metadata": {
    "jp-MarkdownHeadingCollapsed": true,
    "tags": []
   },
   "source": [
    "# Other"
   ]
  },
  {
   "cell_type": "code",
   "execution_count": null,
   "id": "1742ad3b-f224-46e1-8fd3-4ac89e7cabdd",
   "metadata": {
    "tags": []
   },
   "outputs": [],
   "source": [
    "import os \n",
    "import pandas as pd\n",
    "from collections import Counter\n",
    "\n",
    "\n",
    "path_work = \"/media/concha-eloko/Linux/PPT_clean\"\n",
    "\n",
    "bacteria_data_df = pd.read_csv(f\"{path_work}/results_kleborate_count.tsv\", sep = \"\\t\", header = 0)\n",
    "\n",
    "DF_info = pd.read_csv(f\"{path_work}/TropiGATv2.final_df_v2.tsv\", sep = \"\\t\" ,  header = 0)\n",
    "\n",
    "DF_info_lvl_0 = DF_info[~DF_info[\"KL_type_LCA\"].str.contains(\"\\\\|\")]\n",
    "DF_info_amb = DF_info[DF_info[\"KL_type_LCA\"].str.contains(\"\\\\|\")]\n",
    "\n",
    "#DF_info_lvl_0_filter1 = DF_info_lvl_0.drop_duplicates(subset = [\"Infected_ancestor\",\"index\",\"prophage_id\"] , keep = \"first\").reset_index(drop=True)"
   ]
  },
  {
   "cell_type": "code",
   "execution_count": null,
   "id": "dd14a00e-1b54-4cf2-afcf-2e6764b7d91a",
   "metadata": {
    "tags": []
   },
   "outputs": [],
   "source": [
    "import os\n",
    "import random\n",
    "import warnings\n",
    "from collections import Counter\n",
    "from multiprocessing.pool import ThreadPool\n",
    "import json\n",
    "import math\n",
    "import logging\n",
    "\n",
    "import numpy as np\n",
    "import pandas as pd\n",
    "import torch\n",
    "import torch.nn.functional as F\n",
    "import torch.optim as optim\n",
    "from sklearn.metrics import (accuracy_score, f1_score, matthews_corrcoef,\n",
    "                             precision_score, recall_score, roc_auc_score)\n",
    "import optuna\n",
    "from sklearn.model_selection import StratifiedKFold\n",
    "from torch import nn\n",
    "from torch.optim.lr_scheduler import ReduceLROnPlateau\n",
    "from torch_geometric.nn import GATv2Conv, HeteroConv\n",
    "from tqdm import tqdm"
   ]
  },
  {
   "cell_type": "code",
   "execution_count": null,
   "id": "25cd4dbf-63fe-4296-9854-a90ba9de5bf4",
   "metadata": {},
   "outputs": [],
   "source": [
    "import TropiGAT_graph\n",
    "import TropiGAT_models\n",
    "import "
   ]
  },
  {
   "cell_type": "code",
   "execution_count": null,
   "id": "b953766b-ed32-4113-ba8b-b970cd0f8e9e",
   "metadata": {
    "tags": []
   },
   "outputs": [],
   "source": [
    "! python -m pip install optuna\n"
   ]
  },
  {
   "cell_type": "code",
   "execution_count": null,
   "id": "e266290c-7a3f-4e87-9cc3-55f7e289f91a",
   "metadata": {},
   "outputs": [],
   "source": []
  },
  {
   "cell_type": "code",
   "execution_count": null,
   "id": "fa8d9095-ba99-404a-b9bd-e6ec518e822f",
   "metadata": {},
   "outputs": [],
   "source": []
  },
  {
   "cell_type": "code",
   "execution_count": null,
   "id": "90ddd542-8029-4abf-aa58-408ece5f4abb",
   "metadata": {},
   "outputs": [],
   "source": []
  },
  {
   "cell_type": "code",
   "execution_count": null,
   "id": "914bf946-08e6-45cf-b494-78237bf828a2",
   "metadata": {},
   "outputs": [],
   "source": []
  },
  {
   "cell_type": "code",
   "execution_count": null,
   "id": "da6e5890-38b0-4e5c-9f8f-af1b6bb896f8",
   "metadata": {},
   "outputs": [],
   "source": []
  },
  {
   "cell_type": "markdown",
   "id": "a4180112-a457-457a-915c-d180f3cb2ab4",
   "metadata": {
    "jp-MarkdownHeadingCollapsed": true,
    "tags": []
   },
   "source": [
    "# Not sure what happends there :"
   ]
  },
  {
   "cell_type": "code",
   "execution_count": null,
   "id": "6b8be0c7-a2de-4572-9568-b6a8e80d9da5",
   "metadata": {},
   "outputs": [],
   "source": [
    "import os \n",
    "import pandas as pd\n",
    "from collections import Counter\n",
    "\n",
    "\n",
    "path_work = \"/media/concha-eloko/Linux/PPT_clean\"\n",
    "\n",
    "bacteria_data_df = pd.read_csv(f\"{path_work}/results_kleborate_count.tsv\", sep = \"\\t\", header = 0)\n",
    "\n",
    "DF_info = pd.read_csv(f\"{path_work}/TropiGATv2.final_df_v2.tsv\", sep = \"\\t\" ,  header = 0)\n",
    "\n",
    "DF_info_lvl_0 = DF_info[~DF_info[\"KL_type_LCA\"].str.contains(\"\\\\|\")]\n",
    "DF_info_amb = DF_info[DF_info[\"KL_type_LCA\"].str.contains(\"\\\\|\")]\n",
    "\n",
    "#DF_info_lvl_0_filter1 = DF_info_lvl_0.drop_duplicates(subset = [\"Infected_ancestor\",\"index\",\"prophage_id\"] , keep = \"first\").reset_index(drop=True)"
   ]
  },
  {
   "cell_type": "code",
   "execution_count": null,
   "id": "91eda669-32f4-49d5-8c03-94ffb531f347",
   "metadata": {
    "tags": []
   },
   "outputs": [],
   "source": [
    "path_prophage = \"/media/concha-eloko/Linux/prediction_depolymerase_tropism/prophage_work/prophage_prediction\"\n",
    "f_labels=[\"Prophage name\",\"K-serotype monophyletic group\",\"Id monophyletic group\",\"Number of clades\",\"Number of leafs\",\"Number of new ancestors\",\"Number of k-type swap\",\"Nodes k-types\",\"Nodes k-types all\"]\n",
    "\n",
    "df_prophages_1 = pd.read_csv(f\"{path_prophage}/prophage_data.clusters_80.phageboost_70.final.tsv\", sep=\"\\t\", names =f_labels) \n",
    "df_prophages_2 = pd.read_csv(f\"{path_work}/prophage_data.clusters_80.phageboost_70.2504.tsv\", sep=\"\\t\", names =f_labels, skiprows=1) \n",
    "\n"
   ]
  },
  {
   "cell_type": "code",
   "execution_count": null,
   "id": "869a0fe6-89cb-4e28-ac6c-a9610522f058",
   "metadata": {
    "tags": []
   },
   "outputs": [],
   "source": [
    "df_prophages_1"
   ]
  },
  {
   "cell_type": "code",
   "execution_count": null,
   "id": "7124d216-9c6f-4d62-88bd-06d3fd71423a",
   "metadata": {
    "tags": []
   },
   "outputs": [],
   "source": [
    "df_prophages_2_amb = df_prophages_2[df_prophages_2[\"K-serotype monophyletic group\"].str.contains(\"\\\\|\")]\n",
    "df_prophages_2_amb"
   ]
  },
  {
   "cell_type": "code",
   "execution_count": null,
   "id": "91d87277-7cf1-477d-a8d9-259584df6baa",
   "metadata": {
    "tags": []
   },
   "outputs": [],
   "source": [
    "df_prophages_2"
   ]
  },
  {
   "cell_type": "code",
   "execution_count": null,
   "id": "3a56b7bd-7a35-4e7e-a1f3-f1927101c60b",
   "metadata": {
    "tags": []
   },
   "outputs": [],
   "source": [
    "max(df_prophages_2[\"Number of new ancestors\"])"
   ]
  }
 ],
 "metadata": {
  "kernelspec": {
   "display_name": "Python [conda env:torch_geometric]",
   "language": "python",
   "name": "conda-env-torch_geometric-py"
  },
  "language_info": {
   "codemirror_mode": {
    "name": "ipython",
    "version": 3
   },
   "file_extension": ".py",
   "mimetype": "text/x-python",
   "name": "python",
   "nbconvert_exporter": "python",
   "pygments_lexer": "ipython3",
   "version": "3.11.4"
  }
 },
 "nbformat": 4,
 "nbformat_minor": 5
}
