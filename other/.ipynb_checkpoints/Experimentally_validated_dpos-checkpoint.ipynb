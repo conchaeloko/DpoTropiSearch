{
 "cells": [
  {
   "cell_type": "code",
   "execution_count": 42,
   "id": "ae6d487f-5abe-49cd-b5c7-901b6a485ba8",
   "metadata": {
    "tags": []
   },
   "outputs": [],
   "source": [
    "import os \n",
    "import pandas as pd \n",
    "from Bio import SeqIO"
   ]
  },
  {
   "cell_type": "markdown",
   "id": "5f9fffd5-1693-44ad-9aec-dc733a2885a7",
   "metadata": {},
   "source": [
    "> Embeddings file : "
   ]
  },
  {
   "cell_type": "code",
   "execution_count": 35,
   "id": "4091656c-aa90-46eb-9577-a76c3c00ce92",
   "metadata": {
    "tags": []
   },
   "outputs": [],
   "source": [
    "path_project = \"/media/concha-eloko/Linux/PPT_clean/in_vitro\"\n",
    "\n",
    "others_embeddings = pd.read_csv(f\"{path_project}/Others_all.esm2.embedding.csv\", sep = \",\" , header = None)\n",
    "others_embeddings.set_index([0], inplace = True)\n",
    "others_embeddings = others_embeddings[~others_embeddings.index.duplicated(keep='first')]\n"
   ]
  },
  {
   "cell_type": "code",
   "execution_count": 36,
   "id": "27b0c91f-cbad-40bf-9b66-217e5e11e414",
   "metadata": {
    "tags": []
   },
   "outputs": [],
   "source": [
    "path_other = \"/media/concha-eloko/Linux/PPT_clean/in_vitro/Others_bea\"\n",
    "\n",
    "other_bea_embeddings = pd.read_csv(f\"{path_other}/depo_other_bea.esm2.embedding.csv\", header = None, sep = \",\", index_col = 0)\n"
   ]
  },
  {
   "cell_type": "code",
   "execution_count": 44,
   "id": "3d8489a6-ed29-41d1-af1e-e3d8eb3c3d06",
   "metadata": {
    "tags": []
   },
   "outputs": [],
   "source": [
    "other_complete = pd.concat([others_embeddings, other_bea_embeddings], axis=0, ignore_index=False)\n",
    "other_complete.to_csv(f\"{path_project}/exp_validated.esm2.embedding.csv\", sep = \",\" , header = None, index = True)"
   ]
  },
  {
   "cell_type": "markdown",
   "id": "bf51bdcd-8311-46e7-86ab-1a1805bac2ce",
   "metadata": {},
   "source": [
    "> Fasta file: "
   ]
  },
  {
   "cell_type": "code",
   "execution_count": 45,
   "id": "0036dc5e-5cb7-43a1-9b30-f894f8c33b75",
   "metadata": {
    "tags": []
   },
   "outputs": [],
   "source": [
    "exp_validated_winners = []\n",
    "path_seq = \"/media/concha-eloko/Linux/PPT_clean/in_vitro\"\n",
    "\n",
    "dico_seq = {record.description : record.seq for record in SeqIO.parse(f\"{path_seq}/Others_all.dpos_domains.multi.fasta\", \"fasta\") if len(record.seq) >0}\n"
   ]
  },
  {
   "cell_type": "code",
   "execution_count": 46,
   "id": "dab595e8-dc8a-4641-aee9-058eb6197aec",
   "metadata": {
    "tags": []
   },
   "outputs": [],
   "source": [
    "path_other = \"/media/concha-eloko/Linux/PPT_clean/in_vitro/Others_bea\"\n",
    "\n",
    "dico_seq_bea = {record.description : record.seq for record in SeqIO.parse(f\"{path_other}/depo_other_bea.multi.fasta\", \"fasta\") if len(record.seq) >0}"
   ]
  },
  {
   "cell_type": "code",
   "execution_count": 47,
   "id": "60c99aad-49ea-445f-8194-5844dc5909d2",
   "metadata": {
    "tags": []
   },
   "outputs": [],
   "source": [
    "dicos = [dico_seq, dico_seq_bea]\n",
    "\n",
    "with open(f\"{path_seq}/exp_validated.multi.fasta\", \"w\") as fasta :\n",
    "    for dico in dicos : \n",
    "        for description, seq in dico.items() :\n",
    "            fasta.write(f\">{description}\\n{seq}\\n\")"
   ]
  },
  {
   "cell_type": "markdown",
   "id": "bea69936-7b00-49c6-b1a9-1d53b21110d7",
   "metadata": {},
   "source": [
    "> Info file :"
   ]
  },
  {
   "cell_type": "code",
   "execution_count": 48,
   "id": "72560e02-a8a6-4378-b014-c5c24c1190f9",
   "metadata": {
    "tags": []
   },
   "outputs": [
    {
     "data": {
      "text/plain": [
       "dict_keys(['AUV61507__305_917', 'BAN78446__304_1003', 'AZF89844__294_571', 'ALT58497__333_657', 'ALT58498__59_596', 'APZ82768__116_426', 'QTP95996__300_648', 'YP_003347555__334_765', 'YP_003347556__53_359', 'YP_003347556__53_487'])"
      ]
     },
     "execution_count": 48,
     "metadata": {},
     "output_type": "execute_result"
    }
   ],
   "source": [
    "dico_seq_bea.keys()"
   ]
  },
  {
   "cell_type": "code",
   "execution_count": null,
   "id": "293a93cd-a786-4f94-8884-4212edcdc1f6",
   "metadata": {},
   "outputs": [],
   "source": []
  },
  {
   "cell_type": "code",
   "execution_count": null,
   "id": "75bb2783-66bf-4577-87f1-a1b48ee84fba",
   "metadata": {},
   "outputs": [],
   "source": []
  }
 ],
 "metadata": {
  "kernelspec": {
   "display_name": "Python [conda env:torch_geometric]",
   "language": "python",
   "name": "conda-env-torch_geometric-py"
  },
  "language_info": {
   "codemirror_mode": {
    "name": "ipython",
    "version": 3
   },
   "file_extension": ".py",
   "mimetype": "text/x-python",
   "name": "python",
   "nbconvert_exporter": "python",
   "pygments_lexer": "ipython3",
   "version": "3.11.4"
  }
 },
 "nbformat": 4,
 "nbformat_minor": 5
}
