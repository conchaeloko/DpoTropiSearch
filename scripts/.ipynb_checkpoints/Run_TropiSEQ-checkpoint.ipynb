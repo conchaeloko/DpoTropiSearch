{
 "cells": [
  {
   "cell_type": "markdown",
   "id": "2a55e107-1911-4635-9c75-182380eeb4c9",
   "metadata": {},
   "source": [
    "> Import modules: "
   ]
  },
  {
   "cell_type": "code",
   "execution_count": null,
   "id": "74c4cbc2-665a-425b-b8b3-a3de8f4fb2e3",
   "metadata": {},
   "outputs": [],
   "source": [
    "# Ground modules\n",
    "import os\n",
    "import pandas as pd\n",
    "import numpy as np\n",
    "from tqdm import tqdm\n",
    "from Bio import SeqIO\n",
    "from itertools import product\n",
    "import random\n",
    "from collections import Counter\n",
    "import warnings\n",
    "warnings.filterwarnings(\"ignore\", category=UserWarning)\n",
    "\n",
    "import logging\n",
    "import subprocess\n",
    "from multiprocessing.pool import ThreadPool\n",
    "import joblib\n",
    "import json\n",
    "\n",
    "# SCikitlearn modules :\n",
    "from sklearn.ensemble import RandomForestClassifier\n",
    "from sklearn.preprocessing import LabelEncoder\n",
    "from sklearn.model_selection import train_test_split, RandomizedSearchCV\n",
    "from sklearn.metrics import classification_report , roc_auc_score\n",
    "\n",
    "# Scipy modules : \n",
    "from scipy.stats import fisher_exact"
   ]
  },
  {
   "cell_type": "markdown",
   "id": "398efb8d-b4b0-49e4-af9b-d41145f06653",
   "metadata": {},
   "source": [
    "> Set path: "
   ]
  },
  {
   "cell_type": "code",
   "execution_count": null,
   "id": "2a2c7e21-8c97-4be4-9c8a-22dfde66a54c",
   "metadata": {},
   "outputs": [],
   "source": [
    "path_tropiseq = \"/media/concha-eloko/Linux/PPT_clean/benchmark\"\n",
    "\n",
    "path_db = f\"{path_tropiseq}/TropiSeq_0.85.db\"\n",
    "path_tmp =  f\"{path_tropiseq}/tmp\"\n"
   ]
  },
  {
   "cell_type": "markdown",
   "id": "b0a055b5-cdfc-4f4c-82db-c7ded9a2d6a6",
   "metadata": {},
   "source": [
    "> Set up predictor: "
   ]
  },
  {
   "cell_type": "code",
   "execution_count": null,
   "id": "05a2b7d2-b76d-4106-874d-4f99786ab900",
   "metadata": {},
   "outputs": [],
   "source": [
    "# Unmark if you want to make blastp database : \n",
    "\n",
    "# Run makeblast command :\n",
    "# fasta_file = f\"{path_tropiseq}/0.85.out\"\n",
    "\n",
    "# blast_command = f\"makeblastdb -in {fasta_file} -dbtype prot -out {path_seqbased}/TropiSeq/TropiSeq_0.7.db\"\n",
    "# make_blast_process = subprocess.Popen(blast_command, shell =True, stdout = subprocess.PIPE, stderr=subprocess.STDOUT)\n",
    "# mkblast_out, mkblast_err = make_blast_process.communicate()\n",
    "# print(mkblast_out , mkblast_err)"
   ]
  },
  {
   "cell_type": "code",
   "execution_count": null,
   "id": "7170ba14-a44c-4069-866b-c672d7b5a787",
   "metadata": {},
   "outputs": [],
   "source": [
    "# 5% probability\n",
    "final_annotation = pd.read_csv(f\"{path_tropiseq}/labeling_depo_clusters.pred.p_05.tsv\", sep = \"\\t\", header = 0)\n",
    "final_annotation.columns = ['index', 'seq', 'domain_seq', 'depo_cluster', 'Tropiseq_KLtypes','Tropiseq_scores']\n",
    "\n",
    "# Make the dico: \n",
    "final_annotation_tropiseq = final_annotation[final_annotation[\"Tropiseq_KLtypes\"] != \"None\"]\n",
    "final_annotation_tropiseq = final_annotation_tropiseq.drop_duplicates(subset = [\"depo_cluster\", \"Tropiseq_KLtypes\"])\n",
    "final_annotation_tropiseq = final_annotation_tropiseq[[\"depo_cluster\", \"Tropiseq_KLtypes\", \"Tropiseq_scores\"]]\n",
    "\n",
    "dico_tropiseq_data = {row[\"depo_cluster\"] : {\"KL_types\" : row[\"Tropiseq_KLtypes\"], \"Scores\" : row[\"Tropiseq_scores\"]} for _, row in final_annotation_tropiseq.iterrows()}\n",
    "\n",
    "dico_pred = json.load(open(f\"{path_tropiseq}/prediction_based.labeling.p_05.json\"))\n",
    "dico_cluster = json.load(open(f\"{path_tropiseq}/dico_cluster.cdhit__0.85.json\"))\n",
    "\n",
    "dico_cluster_r = {ref_dpo : key_dpo for key_dpo,list_dpo in dico_cluster.items() for ref_dpo in list_dpo}\n",
    "dico_pred_correct_name = {f\"Dpo_cdhit_{cluster.split('_')[1]}\":hits  for cluster, hits in dico_pred.items()}"
   ]
  },
  {
   "cell_type": "markdown",
   "id": "3150b803-00a3-4155-b4ba-b05b355d0b9c",
   "metadata": {},
   "source": [
    "> Relevant functions: "
   ]
  },
  {
   "cell_type": "code",
   "execution_count": null,
   "id": "9a5612fa-c1db-4ed0-9486-92560814c296",
   "metadata": {},
   "outputs": [],
   "source": [
    "labels_blast=[\"qseqid\", \"sseqid\", \"pident\", \"length\", \"mismatch\", \"gapopen\", \"qstart\", \"qend\", \"sstart\", \"send\", \"evalue\", \"bitscore\"]\n",
    "\n",
    "def tmp_fasta_file(record , path_tmp) :\n",
    "    name_file = \"_\".join(record.description.split(\" \"))\n",
    "    path_fasta = f\"{path_tmp}/{name_file}.fasta\"\n",
    "    length_seq = len(record.seq)\n",
    "    with open(path_fasta, \"w\") as outfile :\n",
    "        outfile.write(f\">{record.description}\\n{str(record.seq)}\")\n",
    "    return path_fasta , length_seq\n",
    "\n",
    "def blast_seq(path_fasta, path_DB, path_tmp) :\n",
    "    file_name = path_fasta.split(\"/\")[-1]\n",
    "    command = f\"blastp -query {path_fasta} -db {path_DB} -out {path_tmp}/{file_name}.blast_out -outfmt 6 -evalue 1e-10\"\n",
    "    blastp_sub = subprocess.Popen(command ,shell = True, stdout = subprocess.PIPE, stderr = subprocess.STDOUT)\n",
    "    out , err = blastp_sub.communicate()\n",
    "    return f\"{path_tmp}/{file_name}.blast_out\"\n",
    "\n",
    "def get_best_candidate(path_blast_out, length_seq, bitscore = 75) : \n",
    "    winner = 0\n",
    "    labels_blast=[\"qseqid\", \"sseqid\", \"pident\", \"length\", \"mismatch\", \"gapopen\", \"qstart\", \"qend\", \"sstart\", \"send\", \"evalue\", \"bitscore\"]\n",
    "    blast_df = pd.read_csv(path_blast_out, sep = \"\\t\", names = labels_blast)\n",
    "    if len(blast_df) > 0 :\n",
    "        row = blast_df.iloc[0] \n",
    "        if row[\"bitscore\"] > bitscore and length_seq/int(row[\"length\"])> 0.8:\n",
    "            winner = dico_cluster_r[row[\"sseqid\"]]\n",
    "        else :\n",
    "            winner = \"No hits\"\n",
    "    else :\n",
    "        winner = \"No hits\"\n",
    "    return winner\n",
    "\n",
    "def get_winner(record , path_tmp) :\n",
    "    path_func , len_func = tmp_fasta_file(record, path_tmp)\n",
    "    path_blast_out_func = blast_seq(path_func , path_db, path_tmp)\n",
    "    winner = get_best_candidate(path_blast_out_func, len_func)\n",
    "    return winner"
   ]
  },
  {
   "cell_type": "markdown",
   "id": "7e9bad74-7434-4979-9bf9-89c4b6b5efe4",
   "metadata": {},
   "source": [
    "> Running test data: "
   ]
  },
  {
   "cell_type": "code",
   "execution_count": null,
   "id": "20f9d309-5e7c-4e47-988a-9de68e70e020",
   "metadata": {},
   "outputs": [],
   "source": [
    "# Ferriol inferences : \n",
    "path_seq = \"/media/concha-eloko/Linux/77_strains_phage_project/rbp_work\"\n",
    "dico_seq = {record.description : record.seq for record in SeqIO.parse(f\"{path_seq}/77_phages_Dpo_domains.2406.multi.fasta\", \"fasta\") if len(record.seq) >0}\n",
    "set_records = [record for record in SeqIO.parse(f\"{path_seq}/77_phages_Dpo_domains.2406.multi.fasta\", \"fasta\") if len(record.seq) > 0]\n",
    "\n",
    "\n",
    "ferriol_winners = []\n",
    "for record in tqdm(set_records) :\n",
    "    winner = get_winner(record, path_tmp)\n",
    "    if winner != \"No hits\" :\n",
    "        hit = int(winner.split(\"_\")[-1])\n",
    "        results = dico_pred_correct_name.get(winner, {})\n",
    "        a = (record.description.split(\",\")[0] , winner, results)\n",
    "    else :\n",
    "        results = \"Null\"\n",
    "    a = (record.description.split(\",\")[0] , winner, results)\n",
    "    ferriol_winners.append(a)"
   ]
  }
 ],
 "metadata": {
  "kernelspec": {
   "display_name": "Python [conda env:ML_work_v2]",
   "language": "python",
   "name": "conda-env-ML_work_v2-py"
  },
  "language_info": {
   "codemirror_mode": {
    "name": "ipython",
    "version": 3
   },
   "file_extension": ".py",
   "mimetype": "text/x-python",
   "name": "python",
   "nbconvert_exporter": "python",
   "pygments_lexer": "ipython3",
   "version": "3.9.18"
  }
 },
 "nbformat": 4,
 "nbformat_minor": 5
}
