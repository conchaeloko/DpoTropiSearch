{
 "cells": [
  {
   "cell_type": "code",
   "execution_count": null,
   "id": "08f206c8-11c6-415b-97e5-02119f4b0805",
   "metadata": {},
   "outputs": [],
   "source": [
    "from torch_geometric.data import HeteroData, DataLoader\n",
    "import torch_geometric.transforms as T\n",
    "from torch_geometric.nn import to_hetero , HeteroConv , GATv2Conv\n",
    "from torch_geometric.utils import negative_sampling\n",
    "from torch_geometric.loader import LinkNeighborLoader\n",
    "import torch\n",
    "from torch import nn\n",
    "import torch.nn.functional as F\n",
    "import torch.optim as optim\n",
    "\n",
    "from sklearn.model_selection import train_test_split, StratifiedKFold\n",
    "from sklearn.preprocessing import LabelEncoder , label_binarize , OneHotEncoder\n",
    "from sklearn.metrics import accuracy_score, precision_score, recall_score, f1_score, roc_auc_score , matthews_corrcoef\n",
    "\n",
    "import TropiGAT_functions \n",
    "import TropiGAT_models\n",
    "#from TropiGAT_functions import get_top_n_kltypes ,clean_print \n",
    "\n",
    "import os\n",
    "import json\n",
    "import pandas as pd\n",
    "import numpy as np\n",
    "from tqdm import tqdm\n",
    "from itertools import product\n",
    "import random\n",
    "from collections import Counter\n",
    "import warnings\n",
    "import logging\n",
    "from multiprocessing.pool import ThreadPool\n",
    "warnings.filterwarnings(\"ignore\")\n",
    "\n",
    "# *****************************************************************************\n",
    "# Load the Dataframes :\n",
    "path_benchmark = \"/media/concha-eloko/Linux/PPT_clean/benchmark\"\n",
    "\n",
    "path_work = \"/media/concha-eloko/Linux/PPT_clean/reviewed_models/best_models\"\n",
    "\n",
    "# Load best parameters : \n",
    "with open(f\"/media/concha-eloko/Linux/PPT_clean/trainer_best_parameters/DAG_models_best_para.json\", \"r\") as f:\n",
    "    best_parameters = json.load(f)"
   ]
  },
  {
   "cell_type": "code",
   "execution_count": null,
   "id": "cd47eaf0-a4af-447f-82a3-51fbb683fe80",
   "metadata": {},
   "outputs": [],
   "source": [
    "path_ensemble = f\"{path_work}/best_models_TropiGAT_UF\"\n",
    "\n",
    "dico_models, errors = TropiGAT_functions.make_ensemble_TropiGAT_r(path_ensemble, best_parameters, UF = True)"
   ]
  },
  {
   "cell_type": "markdown",
   "id": "f6fe1ccf-c0e8-466e-a4b9-c5843db52348",
   "metadata": {},
   "source": [
    "> Use in this cell with your own data"
   ]
  },
  {
   "cell_type": "code",
   "execution_count": null,
   "id": "49f545de-5886-4c4e-93b7-1024b6ca67ff",
   "metadata": {},
   "outputs": [],
   "source": [
    "# ***************************************************************************\n",
    "# Ferriol inferences : \n",
    "path_project = \"/media/concha-eloko/Linux/77_strains_phage_project\"\n",
    "path_Dpo_domain_org = \"/media/concha-eloko/Linux/depolymerase_building/clean_77_phages_depo\"\n",
    "\n",
    "dpo_embeddings = pd.read_csv(f\"{path_project}/rbp_work/Dpo_domains_77.esm2.embedding.2406.csv\", sep = \",\" , header = None, index_col = 0)\n",
    "\n"
   ]
  }
 ],
 "metadata": {
  "kernelspec": {
   "display_name": "Python [conda env:torch_geometric]",
   "language": "python",
   "name": "conda-env-torch_geometric-py"
  },
  "language_info": {
   "codemirror_mode": {
    "name": "ipython",
    "version": 3
   },
   "file_extension": ".py",
   "mimetype": "text/x-python",
   "name": "python",
   "nbconvert_exporter": "python",
   "pygments_lexer": "ipython3",
   "version": "3.11.4"
  }
 },
 "nbformat": 4,
 "nbformat_minor": 5
}
