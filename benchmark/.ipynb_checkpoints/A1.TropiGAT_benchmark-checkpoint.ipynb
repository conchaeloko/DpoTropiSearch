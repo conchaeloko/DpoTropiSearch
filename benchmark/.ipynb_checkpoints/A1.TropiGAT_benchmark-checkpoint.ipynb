{
 "cells": [
  {
   "cell_type": "markdown",
   "id": "0507b22f-4380-4d41-a9a2-09ad3b5eaa97",
   "metadata": {},
   "source": [
    "# Prediction with TropiGAT : \n",
    "### I- Prepare the model\n",
    "### II- Run the predictions on matrices\n",
    "### III- Run the predictions on experimentally validated depolymerases\n",
    "***"
   ]
  },
  {
   "cell_type": "markdown",
   "id": "3161dbda-a67f-41b8-9c9e-1a5dbfa4ec3a",
   "metadata": {},
   "source": [
    "### Prepare the model: "
   ]
  },
  {
   "cell_type": "code",
   "execution_count": 5,
   "id": "dd8385e0-05a1-420f-991a-d464d9b13b99",
   "metadata": {
    "tags": []
   },
   "outputs": [],
   "source": [
    "from torch_geometric.data import HeteroData, DataLoader\n",
    "import torch_geometric.transforms as T\n",
    "from torch_geometric.nn import to_hetero , HeteroConv , GATv2Conv\n",
    "from torch_geometric.utils import negative_sampling\n",
    "from torch_geometric.loader import LinkNeighborLoader\n",
    "import torch\n",
    "from torch import nn\n",
    "import torch.nn.functional as F\n",
    "import torch.optim as optim\n",
    "\n",
    "from sklearn.model_selection import train_test_split, StratifiedKFold\n",
    "from sklearn.preprocessing import LabelEncoder , label_binarize , OneHotEncoder\n",
    "from sklearn.metrics import accuracy_score, precision_score, recall_score, f1_score, roc_auc_score , matthews_corrcoef\n",
    "\n",
    "import TropiGAT_functions \n",
    "#from TropiGAT_functions import get_top_n_kltypes ,clean_print \n",
    "\n",
    "import os\n",
    "import json\n",
    "import pandas as pd\n",
    "import numpy as np\n",
    "from tqdm import tqdm\n",
    "from itertools import product\n",
    "import random\n",
    "from collections import Counter\n",
    "import warnings\n",
    "import logging\n",
    "from multiprocessing.pool import ThreadPool\n",
    "warnings.filterwarnings(\"ignore\")\n",
    "\n",
    "# *****************************************************************************\n",
    "# Load the Dataframes :\n",
    "path_benchmark = \"/media/concha-eloko/Linux/PPT_clean/benchmark\"\n",
    "\n",
    "path_work = \"/media/concha-eloko/Linux/PPT_clean/reviewed_models/best_models\"\n",
    "\n",
    "# Load best parameters : \n",
    "with open(f\"/media/concha-eloko/Linux/PPT_clean/trainer_best_parameters/DAG_models_best_para.json\", \"r\") as f:\n",
    "    best_parameters = json.load(f)"
   ]
  },
  {
   "cell_type": "markdown",
   "id": "8c417691-db87-40ac-a958-47d804eb6c9b",
   "metadata": {},
   "source": [
    "> TropiGAT regular: "
   ]
  },
  {
   "cell_type": "code",
   "execution_count": 7,
   "id": "85b97ab1-a013-4180-8682-47584f9887be",
   "metadata": {},
   "outputs": [
    {
     "ename": "NameError",
     "evalue": "name 'dico_prophage_count' is not defined",
     "output_type": "error",
     "traceback": [
      "\u001b[0;31m---------------------------------------------------------------------------\u001b[0m",
      "\u001b[0;31mKeyError\u001b[0m                                  Traceback (most recent call last)",
      "File \u001b[0;32m~/Documents/GitHub/DpoTropiSearch/benchmark/TropiGAT_functions.py:84\u001b[0m, in \u001b[0;36mmake_ensemble_TropiGAT_r\u001b[0;34m(path_ensemble, dico_best_para, UF)\u001b[0m\n\u001b[1;32m     81\u001b[0m \u001b[38;5;28;01mtry\u001b[39;00m:\n\u001b[1;32m     82\u001b[0m     model \u001b[38;5;241m=\u001b[39m TropiGAT_models\u001b[38;5;241m.\u001b[39mTropiGAT_small_module(\n\u001b[1;32m     83\u001b[0m         hidden_channels\u001b[38;5;241m=\u001b[39m\u001b[38;5;241m1280\u001b[39m,\n\u001b[0;32m---> 84\u001b[0m         heads\u001b[38;5;241m=\u001b[39mlocal_dico[KL_type][\u001b[38;5;124m\"\u001b[39m\u001b[38;5;124matt_heads\u001b[39m\u001b[38;5;124m\"\u001b[39m],\n\u001b[1;32m     85\u001b[0m         dropout\u001b[38;5;241m=\u001b[39m\u001b[38;5;241m0\u001b[39m\n\u001b[1;32m     86\u001b[0m     )\n\u001b[1;32m     87\u001b[0m     model\u001b[38;5;241m.\u001b[39mload_state_dict(torch\u001b[38;5;241m.\u001b[39mload(\u001b[38;5;124mf\u001b[39m\u001b[38;5;124m\"\u001b[39m\u001b[38;5;132;01m{\u001b[39;00mpath_ensemble\u001b[38;5;132;01m}\u001b[39;00m\u001b[38;5;124m/\u001b[39m\u001b[38;5;132;01m{\u001b[39;00mGNN_model\u001b[38;5;132;01m}\u001b[39;00m\u001b[38;5;124m\"\u001b[39m))\n",
      "\u001b[0;31mKeyError\u001b[0m: 'KL67__4'",
      "\nDuring handling of the above exception, another exception occurred:\n",
      "\u001b[0;31mNameError\u001b[0m                                 Traceback (most recent call last)",
      "Cell \u001b[0;32mIn[7], line 3\u001b[0m\n\u001b[1;32m      1\u001b[0m path_ensemble \u001b[38;5;241m=\u001b[39m \u001b[38;5;124mf\u001b[39m\u001b[38;5;124m\"\u001b[39m\u001b[38;5;132;01m{\u001b[39;00mpath_work\u001b[38;5;132;01m}\u001b[39;00m\u001b[38;5;124m/best_models_TropiGAT\u001b[39m\u001b[38;5;124m\"\u001b[39m\n\u001b[0;32m----> 3\u001b[0m dico_models, errors \u001b[38;5;241m=\u001b[39m TropiGAT_functions\u001b[38;5;241m.\u001b[39mmake_ensemble_TropiGAT_r(path_ensemble, best_parameters)\n",
      "File \u001b[0;32m~/Documents/GitHub/DpoTropiSearch/benchmark/TropiGAT_functions.py:90\u001b[0m, in \u001b[0;36mmake_ensemble_TropiGAT_r\u001b[0;34m(path_ensemble, dico_best_para, UF)\u001b[0m\n\u001b[1;32m     88\u001b[0m             dico_ensemble[KL_type] \u001b[38;5;241m=\u001b[39m model\n\u001b[1;32m     89\u001b[0m         \u001b[38;5;28;01mexcept\u001b[39;00m \u001b[38;5;167;01mException\u001b[39;00m \u001b[38;5;28;01mas\u001b[39;00m e:\n\u001b[0;32m---> 90\u001b[0m             a \u001b[38;5;241m=\u001b[39m (KL_type, dico_prophage_count[KL_type], e)\n\u001b[1;32m     91\u001b[0m             errors\u001b[38;5;241m.\u001b[39mappend(a)\n\u001b[1;32m     93\u001b[0m \u001b[38;5;28;01mreturn\u001b[39;00m dico_ensemble, errors\n",
      "\u001b[0;31mNameError\u001b[0m: name 'dico_prophage_count' is not defined"
     ]
    }
   ],
   "source": [
    "path_ensemble = f\"{path_work}/best_models_TropiGAT\"\n",
    "\n",
    "dico_models, errors = TropiGAT_functions.make_ensemble_TropiGAT_r(path_ensemble, best_parameters)"
   ]
  },
  {
   "cell_type": "code",
   "execution_count": 4,
   "id": "bb77f10b-06e2-42fb-ac17-dc0ef9ec8bf4",
   "metadata": {
    "tags": []
   },
   "outputs": [
    {
     "data": {
      "text/plain": [
       "{}"
      ]
     },
     "execution_count": 4,
     "metadata": {},
     "output_type": "execute_result"
    }
   ],
   "source": []
  },
  {
   "cell_type": "markdown",
   "id": "ae8a03fb-d7b3-4131-b96f-3c3d88d2f6df",
   "metadata": {},
   "source": [
    "TropiGAT ultrafiltration: "
   ]
  },
  {
   "cell_type": "code",
   "execution_count": null,
   "id": "6cfaef58-6b81-48ac-9582-08c0462b7696",
   "metadata": {
    "jupyter": {
     "source_hidden": true
    },
    "tags": []
   },
   "outputs": [],
   "source": [
    "dico_models, errors = TropiGAT_functions.make_ensemble_TropiGAT(path_ensemble)"
   ]
  },
  {
   "cell_type": "markdown",
   "id": "df48a48b-d732-42c0-8e42-3e700695aff4",
   "metadata": {},
   "source": [
    "***\n",
    "### Run predictions on matrices: "
   ]
  },
  {
   "cell_type": "code",
   "execution_count": null,
   "id": "0c8cf390-fea9-4b34-b9de-7425a299facf",
   "metadata": {},
   "outputs": [],
   "source": [
    "# ***************************************************************************\n",
    "# Ferriol inferences : \n",
    "path_project = \"/media/concha-eloko/Linux/77_strains_phage_project\"\n",
    "path_Dpo_domain_org = \"/media/concha-eloko/Linux/depolymerase_building/clean_77_phages_depo\"\n",
    "\n",
    "dpo_embeddings = pd.read_csv(f\"{path_project}/rbp_work/Dpo_domains_77.esm2.embedding.2406.csv\", sep = \",\" , header = None, index_col = 0)\n",
    "\n",
    "\n",
    "# ***************************************************************************\n",
    "# Beamud inferences : \n",
    "path_project = \"/media/concha-eloko/Linux/PPT_clean/in_vitro\"\n",
    "\n",
    "bea_embeddings = pd.read_csv(f\"{path_project}/Bea_phages.esm2.embedding.csv\", sep = \",\" , header = None)\n",
    "bea_embeddings = bea_embeddings.drop([1281] , axis = 1)\n",
    "bea_embeddings.set_index([0], inplace = True)\n",
    "\n",
    "\n",
    "# ***************************************************************************\n",
    "# Towndsend inferences : \n",
    "path_project = \"/media/concha-eloko/Linux/PPT_clean/in_vitro\"\n",
    "\n",
    "towndsend_embeddings = pd.read_csv(f\"{path_project}/Townsed_phages.esm2.embedding.1112.csv\", sep = \",\" , header = None)\n",
    "towndsend_embeddings = towndsend_embeddings.drop([1281] , axis = 1)\n",
    "towndsend_embeddings.set_index([0], inplace = True)\n"
   ]
  },
  {
   "cell_type": "markdown",
   "id": "3f0b26c8-f929-4004-ad75-1e4ca61665e8",
   "metadata": {},
   "source": [
    "> Run the predictions :"
   ]
  },
  {
   "cell_type": "code",
   "execution_count": null,
   "id": "080a8d18-0bc3-4f8c-a7ab-62a314eb946d",
   "metadata": {},
   "outputs": [],
   "source": [
    "# Run the predictions ferriol :\n",
    "ferriol_predictions = {}\n",
    "for dpo in tqdm(dpo_embeddings.index) : \n",
    "    try : \n",
    "        graph_dpo = TropiGAT_functions.make_query_graph([dpo_embeddings.loc[dpo].values])\n",
    "        pred = TropiGAT_functions.run_prediction(graph_dpo,dico_models)\n",
    "        ferriol_predictions[dpo] = pred\n",
    "    except Exception as e :\n",
    "        print(dpo, e)\n",
    "        \n",
    "# Run the predictions Bea :\n",
    "bea_predictions = {}\n",
    "for dpo in tqdm(bea_embeddings.index) : \n",
    "    graph_dpo = TropiGAT_functions.make_query_graph([bea_embeddings.loc[dpo].values])\n",
    "    pred = TropiGAT_functions.run_prediction(graph_dpo,dico_models)\n",
    "    bea_predictions[dpo] = pred\n",
    "    \n",
    "# Run the predictions towndsend :\n",
    "towndsend_predictions = {}\n",
    "for dpo in tqdm(towndsend_embeddings.index) : \n",
    "    graph_dpo = TropiGAT_functions.make_query_graph([towndsend_embeddings.loc[dpo].values])\n",
    "    pred = TropiGAT_functions.run_prediction(graph_dpo,dico_models)\n",
    "    towndsend_predictions[dpo] = pred"
   ]
  },
  {
   "cell_type": "markdown",
   "id": "56fabc28-79f8-4c17-a702-d3b904755766",
   "metadata": {},
   "source": [
    "> Write the file:"
   ]
  },
  {
   "cell_type": "code",
   "execution_count": null,
   "id": "2c08c56f-2eef-4ca0-a46d-8dec1267b524",
   "metadata": {},
   "outputs": [],
   "source": [
    "for prot in ferriol_predictions:\n",
    "    if prot == \"K42PH8_Dpo_domain\": \n",
    "        ferriol_predictions[\"K42PH8__cds_48_Dpo_domain\"] = ferriol_predictions[prot]\n",
    "        del ferriol_predictions[prot]\n",
    "        break\n",
    "        \n",
    "        \n",
    "predictions = [ferriol_predictions , bea_predictions , towndsend_predictions]\n",
    "\n",
    "        \n",
    "with open(f\"{path_benchmark}/TropiGAT.matrices.tsv\", \"w\") as outfile:\n",
    "    for prediction in predictions:\n",
    "        for prot in prediction:\n",
    "            if prediction[prot] == \"No hits\" or len(prediction[prot]) == 0:\n",
    "                outfile.write(f\"{prot}\\tNo hits\\n\")\n",
    "            else:\n",
    "                outfile.write(f\"{prot}\\t\")\n",
    "                hits = [f\"{kltype}:{round(score, 3)}\" for kltype, score in prediction[prot].items()]\n",
    "                sorted_hits = \" ; \".join(sorted(hits, key=lambda x: float(x.split(\":\")[1]), reverse=True))\n",
    "                outfile.write(sorted_hits)\n",
    "                outfile.write(\"\\n\")"
   ]
  },
  {
   "cell_type": "code",
   "execution_count": null,
   "id": "b013956a-f240-45c7-81cc-8c8acc1d0c0a",
   "metadata": {
    "tags": []
   },
   "outputs": [],
   "source": [
    "len(ferriol_predictions)"
   ]
  },
  {
   "cell_type": "markdown",
   "id": "ccee9b43-5246-48be-bb23-60a2868f4e6f",
   "metadata": {},
   "source": [
    "***\n",
    "### Work on experimentally validated depolymerases:"
   ]
  },
  {
   "cell_type": "code",
   "execution_count": null,
   "id": "e8063aae-9487-4e37-8926-a56507d4136d",
   "metadata": {},
   "outputs": [],
   "source": [
    "path_project = \"/media/concha-eloko/Linux/PPT_clean/in_vitro\"\n",
    "\n",
    "others_embeddings = pd.read_csv(f\"{path_project}/Others_all.esm2.embedding.csv\", sep = \",\" , header = None)\n",
    "others_embeddings.set_index([0], inplace = True)"
   ]
  },
  {
   "cell_type": "code",
   "execution_count": null,
   "id": "45d16ea7-54d3-43b6-9c17-d496a2fc5d2a",
   "metadata": {},
   "outputs": [],
   "source": [
    "# Run the predictions Others :\n",
    "other_predictions = {}\n",
    "for index, dpo in tqdm(enumerate(others_embeddings.index)) :\n",
    "    if dpo not in [\"MN781108.1_prot_QGZ15323.1_262\"] :\n",
    "        try : \n",
    "            graph_dpo = TropiGAT_functions.make_query_graph([others_embeddings.loc[dpo].values])\n",
    "            pred = TropiGAT_functions.run_prediction(graph_dpo,dico_models)\n",
    "            other_predictions[dpo] = pred\n",
    "        except Exception as e :\n",
    "            print(e, dpo)"
   ]
  },
  {
   "cell_type": "code",
   "execution_count": null,
   "id": "dfc714b1-2bce-48a8-8be1-b4fac68240ca",
   "metadata": {},
   "outputs": [],
   "source": [
    "predictions = [other_predictions]\n",
    "\n",
    "with open(f\"{path_benchmark}/TropiGAT.exp_val_depolymerase.tsv\", \"w\") as outfile:\n",
    "    for prediction in predictions:\n",
    "        prediction_sorted = dict(sorted(prediction.items()))\n",
    "        for prot in prediction_sorted:\n",
    "            if prediction_sorted[prot] == \"No hits\" or len(prediction_sorted[prot]) == 0:\n",
    "                outfile.write(f\"{prot}\\tNo hits\\n\")\n",
    "            else:\n",
    "                outfile.write(f\"{prot}\\t\")\n",
    "                hits = [f\"{kltype}:{round(score, 3)}\" for kltype, score in prediction_sorted[prot].items()]\n",
    "                sorted_hits = \" ; \".join(sorted(hits, key=lambda x: float(x.split(\":\")[1]), reverse=True))\n",
    "                outfile.write(sorted_hits)\n",
    "                outfile.write(\"\\n\")"
   ]
  },
  {
   "cell_type": "code",
   "execution_count": null,
   "id": "e55db58e-fed2-4fef-b84f-3ed11c283c1b",
   "metadata": {},
   "outputs": [],
   "source": []
  }
 ],
 "metadata": {
  "kernelspec": {
   "display_name": "Python [conda env:torch_geometric]",
   "language": "python",
   "name": "conda-env-torch_geometric-py"
  },
  "language_info": {
   "codemirror_mode": {
    "name": "ipython",
    "version": 3
   },
   "file_extension": ".py",
   "mimetype": "text/x-python",
   "name": "python",
   "nbconvert_exporter": "python",
   "pygments_lexer": "ipython3",
   "version": "3.11.4"
  }
 },
 "nbformat": 4,
 "nbformat_minor": 5
}
