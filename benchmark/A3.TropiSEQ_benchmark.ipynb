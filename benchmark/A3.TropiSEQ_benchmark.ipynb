{
 "cells": [
  {
   "cell_type": "markdown",
   "id": "128c018d-28f7-4307-880c-8a43a383703d",
   "metadata": {},
   "source": [
    "# Prediction with TropiSEQ :\n",
    "### I- Prepare the model\n",
    "### II- Run the predictions on matrices\n",
    "### III- Run the predictions on experimentally validated depolymerases¶\n",
    "***"
   ]
  },
  {
   "cell_type": "code",
   "execution_count": 1,
   "id": "492286eb-b08e-412a-aafb-a79f78ac683a",
   "metadata": {
    "tags": []
   },
   "outputs": [],
   "source": [
    "# Ground modules\n",
    "import os\n",
    "import pandas as pd\n",
    "import numpy as np\n",
    "from tqdm import tqdm\n",
    "from Bio import SeqIO\n",
    "from itertools import product\n",
    "import random\n",
    "from collections import Counter\n",
    "import warnings\n",
    "warnings.filterwarnings(\"ignore\", category=UserWarning)\n",
    "\n",
    "import logging\n",
    "import subprocess\n",
    "from multiprocessing.pool import ThreadPool\n",
    "import joblib\n",
    "import json\n",
    "\n",
    "# SCikitlearn modules :\n",
    "from sklearn.ensemble import RandomForestClassifier\n",
    "from sklearn.preprocessing import LabelEncoder\n",
    "from sklearn.model_selection import train_test_split, RandomizedSearchCV\n",
    "from sklearn.metrics import classification_report , roc_auc_score\n",
    "\n",
    "# Scipy modules : \n",
    "from scipy.stats import fisher_exact"
   ]
  },
  {
   "cell_type": "markdown",
   "id": "8a873f22-7aee-459d-8891-7f4aab78c0c7",
   "metadata": {},
   "source": [
    "> Set up predictor "
   ]
  },
  {
   "cell_type": "code",
   "execution_count": 2,
   "id": "7d6ca2cb-cbd1-4740-82ca-34682d21417b",
   "metadata": {
    "jupyter": {
     "source_hidden": true
    },
    "tags": []
   },
   "outputs": [],
   "source": [
    "path_seqbased = \"/media/concha-eloko/Linux/PPT_clean/Seqbased_model\"\n",
    "\n",
    "# Run makeblast command :\n",
    "fasta_file = f\"{path_seqbased}/cdhit_clusters_2912/0.7.out\"\n",
    "\n",
    "#blast_command = f\"makeblastdb -in {fasta_file} -dbtype prot -out {path_seqbased}/TropiSeq/TropiSeq_0.7.db\"\n",
    "#make_blast_process = subprocess.Popen(blast_command, shell =True, stdout = subprocess.PIPE, stderr=subprocess.STDOUT)\n",
    "#mkblast_out, mkblast_err = make_blast_process.communicate()\n",
    "#print(mkblast_out , mkblast_err)\n",
    "\n",
    "# Relevant files :\n",
    "dico_cluster = json.load(open(f\"{path_seqbased}/dico_cluster.cdhit__0.7.json\"))\n",
    "dico_cluster_r = {ref_dpo : key_dpo for key_dpo,list_dpo in dico_cluster.items() for ref_dpo in list_dpo}"
   ]
  },
  {
   "cell_type": "code",
   "execution_count": 3,
   "id": "2f5ce6d4-f0a3-42eb-846d-28ed3c5fa21f",
   "metadata": {
    "tags": []
   },
   "outputs": [],
   "source": [
    "path_seqbased = \"/media/concha-eloko/Linux/PPT_clean/Seqbased_model\"\n",
    "path_work = \"/media/concha-eloko/Linux/PPT_clean\"\n",
    "path_benchmark = \"/media/concha-eloko/Linux/PPT_clean/benchmark\"\n"
   ]
  },
  {
   "cell_type": "markdown",
   "id": "b1b10f42-533a-4909-aa43-01daf8464872",
   "metadata": {},
   "source": [
    "> Load predictor"
   ]
  },
  {
   "cell_type": "code",
   "execution_count": 4,
   "id": "570c73f8-4654-41f0-8442-9ecba3a0ca3a",
   "metadata": {
    "tags": []
   },
   "outputs": [],
   "source": [
    "#path_db = f\"{path_seqbased}/TropiSeq/TropiSeq_0.7.db\"\n",
    "path_db = f\"{path_seqbased}/TropiSeq/TropiSeq_0.85.db\"\n",
    "\n",
    "# 50% probability \n",
    "#final_annotation = pd.read_csv(f\"{path_work}/labeling_depo_clusters.PPT.0804.tsv\", sep = \"\\t\", header = 0)\n",
    "\n",
    "# 5% probability\n",
    "final_annotation = pd.read_csv(f\"{path_work}/labeling_depo_clusters.pred.p_05.tsv\", sep = \"\\t\", header = 0)\n",
    "final_annotation.columns = ['index', 'seq', 'domain_seq', 'depo_cluster', 'Tropiseq_KLtypes','Tropiseq_scores']\n",
    "\n",
    "# 5% ultrafiltration \n",
    "#final_annotation = pd.read_csv(f\"/media/concha-eloko/Linux/PPT_clean/Seqbased_model/labeling_depo_clusters.pred.RF_UF_7.p_05.tsv\", sep = \"\\t\", header = 0)\n",
    "#final_annotation.columns = ['index', 'seq', 'domain_seq', 'depo_cluster', 'Tropiseq_KLtypes','Tropiseq_scores']\n",
    "\n",
    "\n",
    "# Make the dico: \n",
    "final_annotation_tropiseq = final_annotation[final_annotation[\"Tropiseq_KLtypes\"] != \"None\"]\n",
    "final_annotation_tropiseq = final_annotation_tropiseq.drop_duplicates(subset = [\"depo_cluster\", \"Tropiseq_KLtypes\"])\n",
    "final_annotation_tropiseq = final_annotation_tropiseq[[\"depo_cluster\", \"Tropiseq_KLtypes\", \"Tropiseq_scores\"]]\n",
    "\n",
    "dico_tropiseq_data = {row[\"depo_cluster\"] : {\"KL_types\" : row[\"Tropiseq_KLtypes\"], \"Scores\" : row[\"Tropiseq_scores\"]} for _, row in final_annotation_tropiseq.iterrows()}\n"
   ]
  },
  {
   "cell_type": "code",
   "execution_count": 14,
   "id": "04f74ac5-66bc-408b-a57c-34b4cc4e297b",
   "metadata": {
    "tags": []
   },
   "outputs": [
    {
     "data": {
      "text/plain": [
       "106"
      ]
     },
     "execution_count": 14,
     "metadata": {},
     "output_type": "execute_result"
    }
   ],
   "source": [
    "all_kltypes = [kltype for _, row in final_annotation_tropiseq.iterrows() for kltype in row[\"Tropiseq_KLtypes\"].split(\",\")]\n",
    "len(set(all_kltypes))"
   ]
  },
  {
   "cell_type": "code",
   "execution_count": 7,
   "id": "9b3201a2-5239-453a-80e8-312bcac364bb",
   "metadata": {
    "tags": []
   },
   "outputs": [],
   "source": [
    "# 50 % probability\n",
    "#dico_pred = json.load(open(\"/media/concha-eloko/Linux/PPT_clean/Seqbased_model/prediction_based.labeling.0604.json\"))\n",
    "#dico_cluster = json.load(open(f\"{path_seqbased}/dico_cluster.cdhit__0.85.json\"))\n",
    "\n",
    "# 5% probability\n",
    "dico_pred = json.load(open(\"/media/concha-eloko/Linux/PPT_clean/Seqbased_model/prediction_based.labeling.p_05.json\"))\n",
    "dico_cluster = json.load(open(f\"{path_seqbased}/dico_cluster.cdhit__0.85.json\"))\n",
    "\n",
    "# 5 % UF : \n",
    "#dico_pred = json.load(open(\"/media/concha-eloko/Linux/PPT_clean/Seqbased_model/prediction_based.labeling.RF_UF_7.p_05.json\"))\n",
    "#dico_cluster = json.load(open(f\"{path_seqbased}/dico_cluster.cdhit__0.7.json\"))\n",
    "\n",
    "\n",
    "\n",
    "\n",
    "dico_cluster_r = {ref_dpo : key_dpo for key_dpo,list_dpo in dico_cluster.items() for ref_dpo in list_dpo}\n",
    "dico_pred_correct_name = {f\"Dpo_cdhit_{cluster.split('_')[1]}\":hits  for cluster, hits in dico_pred.items()}\n"
   ]
  },
  {
   "cell_type": "code",
   "execution_count": null,
   "id": "38713ccf-ac50-492d-9304-6c2856f7f615",
   "metadata": {
    "tags": []
   },
   "outputs": [],
   "source": [
    "len(dico_pred_correct_name)"
   ]
  },
  {
   "cell_type": "markdown",
   "id": "0125550f-abc5-4ea6-bd9d-b48114a463d4",
   "metadata": {},
   "source": [
    "***\n",
    "### Run predictions on matrices: "
   ]
  },
  {
   "cell_type": "code",
   "execution_count": 8,
   "id": "b75d8588-935a-4ec9-9c80-f234939e3710",
   "metadata": {
    "tags": []
   },
   "outputs": [],
   "source": [
    "path_tmp =  \"/media/concha-eloko/Linux/PPT_clean/Seqbased_model/tmp\"\n",
    "labels_blast=[\"qseqid\", \"sseqid\", \"pident\", \"length\", \"mismatch\", \"gapopen\", \"qstart\", \"qend\", \"sstart\", \"send\", \"evalue\", \"bitscore\"]\n",
    "\n",
    "def tmp_fasta_file(record , path_tmp) :\n",
    "    name_file = \"_\".join(record.description.split(\" \"))\n",
    "    path_fasta = f\"{path_tmp}/{name_file}.fasta\"\n",
    "    length_seq = len(record.seq)\n",
    "    with open(path_fasta, \"w\") as outfile :\n",
    "        outfile.write(f\">{record.description}\\n{str(record.seq)}\")\n",
    "    return path_fasta , length_seq\n",
    "\n",
    "def blast_seq(path_fasta, path_DB, path_tmp) :\n",
    "    file_name = path_fasta.split(\"/\")[-1]\n",
    "    command = f\"blastp -query {path_fasta} -db {path_DB} -out {path_tmp}/{file_name}.blast_out -outfmt 6 -evalue 1e-10\"\n",
    "    blastp_sub = subprocess.Popen(command ,shell = True, stdout = subprocess.PIPE, stderr = subprocess.STDOUT)\n",
    "    out , err = blastp_sub.communicate()\n",
    "    return f\"{path_tmp}/{file_name}.blast_out\"\n",
    "\n",
    "def get_best_candidate(path_blast_out, length_seq, bitscore = 75) : \n",
    "    winner = 0\n",
    "    labels_blast=[\"qseqid\", \"sseqid\", \"pident\", \"length\", \"mismatch\", \"gapopen\", \"qstart\", \"qend\", \"sstart\", \"send\", \"evalue\", \"bitscore\"]\n",
    "    blast_df = pd.read_csv(path_blast_out, sep = \"\\t\", names = labels_blast)\n",
    "    if len(blast_df) > 0 :\n",
    "        row = blast_df.iloc[0] \n",
    "        if row[\"bitscore\"] > bitscore and length_seq/int(row[\"length\"])> 0.8:\n",
    "            winner = dico_cluster_r[row[\"sseqid\"]]\n",
    "        else :\n",
    "            winner = \"No hits\"\n",
    "    else :\n",
    "        winner = \"No hits\"\n",
    "    return winner\n",
    "\n",
    "def get_winner(record , path_tmp) :\n",
    "    path_func , len_func = tmp_fasta_file(record, path_tmp)\n",
    "    path_blast_out_func = blast_seq(path_func , path_db, path_tmp)\n",
    "    winner = get_best_candidate(path_blast_out_func, len_func)\n",
    "    return winner"
   ]
  },
  {
   "cell_type": "code",
   "execution_count": 9,
   "id": "59a09d6a-cf82-41b9-b4fc-583dac1263df",
   "metadata": {
    "tags": []
   },
   "outputs": [
    {
     "name": "stderr",
     "output_type": "stream",
     "text": [
      "100%|█████████████████████████████████████████████████████████████████████████████████████████████████████████████████████████████████████████████████| 145/145 [00:06<00:00, 23.97it/s]\n",
      "100%|███████████████████████████████████████████████████████████████████████████████████████████████████████████████████████████████████████████████████| 71/71 [00:02<00:00, 23.80it/s]\n",
      "100%|███████████████████████████████████████████████████████████████████████████████████████████████████████████████████████████████████████████████████| 44/44 [00:01<00:00, 25.88it/s]\n"
     ]
    }
   ],
   "source": [
    "# Ferriol inferences : \n",
    "path_seq = \"/media/concha-eloko/Linux/77_strains_phage_project/rbp_work\"\n",
    "dico_seq = {record.description : record.seq for record in SeqIO.parse(f\"{path_seq}/77_phages_Dpo_domains.2406.multi.fasta\", \"fasta\") if len(record.seq) >0}\n",
    "set_records = [record for record in SeqIO.parse(f\"{path_seq}/77_phages_Dpo_domains.2406.multi.fasta\", \"fasta\") if len(record.seq) > 0]\n",
    "\n",
    "\n",
    "ferriol_winners = []\n",
    "for record in tqdm(set_records) :\n",
    "    winner = get_winner(record, path_tmp)\n",
    "    if winner != \"No hits\" :\n",
    "        hit = int(winner.split(\"_\")[-1])\n",
    "        results = dico_pred_correct_name.get(winner, {})\n",
    "        a = (record.description.split(\",\")[0] , winner, results)\n",
    "    else :\n",
    "        results = \"Null\"\n",
    "    a = (record.description.split(\",\")[0] , winner, results)\n",
    "    ferriol_winners.append(a)\n",
    "    \n",
    "\n",
    "# ***************************************************************************\n",
    "# Beamud inferences : \n",
    "bea_winners = []\n",
    "path_bea = \"/media/concha-eloko/Linux/PPT_clean/in_vitro/Bea\"\n",
    "path_domains_bea = f\"{path_bea}/DepoScope_predictions.bea.domains.0709.fasta\"\n",
    "\n",
    "bea_dico_seq = {record.description : record.seq for record in SeqIO.parse(f\"{path_domains_bea}\", \"fasta\") if len(record.seq) >0}\n",
    "bea_set_records = [record for record in SeqIO.parse(f\"{path_domains_bea}\", \"fasta\") if len(record.seq) > 0]\n",
    "\n",
    "for record in tqdm(bea_set_records) :\n",
    "    winner = get_winner(record, path_tmp)\n",
    "    if winner != \"No hits\" :\n",
    "        hit = int(winner.split(\"_\")[-1])\n",
    "        results = dico_pred_correct_name.get(winner, {})\n",
    "        a = (record.description.split(\",\")[0] , winner, results)\n",
    "    else :\n",
    "        results = \"Null\"\n",
    "    a = (record.description.split(\",\")[0] , winner, results)\n",
    "    bea_winners.append(a)\n",
    "    \n",
    "    \n",
    "# ***************************************************************************\n",
    "# Towndsend inferences : \n",
    "towndsend_winners = []\n",
    "path_towndsend = \"/media/concha-eloko/Linux/PPT_clean/in_vitro/Townsed\"\n",
    "path_domains_towndsend = f\"{path_towndsend}/DepoScope_predictions.Townsed.domains.0909.fasta\"\n",
    "\n",
    "towndsend_dico_seq = {record.description : record.seq for record in SeqIO.parse(f\"{path_domains_towndsend}\", \"fasta\") if len(record.seq) >0}\n",
    "towndsend_set_records = [record for record in SeqIO.parse(f\"{path_domains_towndsend}\", \"fasta\") if len(record.seq) > 0]\n",
    "\n",
    "for record in tqdm(towndsend_set_records) :\n",
    "    winner = get_winner(record, path_tmp)\n",
    "    if winner != \"No hits\" :\n",
    "        hit = int(winner.split(\"_\")[-1])\n",
    "        results = dico_pred_correct_name.get(winner, {})\n",
    "        a = (record.description.split(\",\")[0] , winner, results)\n",
    "    else :\n",
    "        results = \"Null\"\n",
    "    a = (record.description.split(\",\")[0] , winner, results)\n",
    "    towndsend_winners.append(a)"
   ]
  },
  {
   "cell_type": "code",
   "execution_count": 10,
   "id": "7a598564-1c5a-4710-b05d-0bf6ae287f97",
   "metadata": {
    "tags": []
   },
   "outputs": [],
   "source": [
    "TropiSeq_results = ferriol_winners + towndsend_winners + bea_winners\n"
   ]
  },
  {
   "cell_type": "code",
   "execution_count": null,
   "id": "e73c23a4-57b6-423f-a6ce-f53df18340f9",
   "metadata": {
    "tags": []
   },
   "outputs": [],
   "source": [
    "with open(f\"{path_benchmark}/TropiSEQ_UF_70.p_05.matrices.tsv\" , \"w\") as outfile :\n",
    "    for prot in TropiSeq_results :\n",
    "        prot_name = prot[0].split(\"_A\")[0]\n",
    "        if prot[1] == \"No hits\" :\n",
    "            outfile.write(f\"{prot_name}\\tNo_hits\\n\")\n",
    "        elif prot[2] == {} :\n",
    "            outfile.write(f\"{prot_name}\\tNo_associations\\n\")\n",
    "        else :\n",
    "            try :\n",
    "                hits = [f\"{kltype}:{round(score,3)}\" for kltype, score in prot[2].items()]\n",
    "                sorted_hits = \" ; \".join(sorted(hits, key=lambda x: float(x.split(\":\")[1]), reverse=True)[0:10])\n",
    "                outfile.write(f\"{prot_name}\\t\")\n",
    "                outfile.write(sorted_hits)\n",
    "                outfile.write(\"\\n\")\n",
    "            except Exception as e :\n",
    "                print(prot, e)"
   ]
  },
  {
   "cell_type": "markdown",
   "id": "f9ca0620-2aa0-42f2-beef-7f0b325bf4ce",
   "metadata": {},
   "source": [
    "***\n",
    "### Work on experimentally validated depolymerases :"
   ]
  },
  {
   "cell_type": "code",
   "execution_count": 11,
   "id": "527974d0-72c5-4930-9a72-c244328097df",
   "metadata": {
    "tags": []
   },
   "outputs": [
    {
     "name": "stderr",
     "output_type": "stream",
     "text": [
      "100%|███████████████████████████████████████████████████████████████████████████████████████████████████████████████████████████████████████████████████| 63/63 [00:02<00:00, 23.85it/s]\n"
     ]
    }
   ],
   "source": [
    "# ***************************************************************************\n",
    "# exp_validated inferences : \n",
    "exp_validated_winners = []\n",
    "path_seq = \"/media/concha-eloko/Linux/PPT_clean/in_vitro\"\n",
    "\n",
    "dico_seq = {record.description : record.seq for record in SeqIO.parse(f\"{path_seq}/exp_validated.multi.fasta\", \"fasta\") if len(record.seq) >0}\n",
    "exp_validated_set_records = [record for record in SeqIO.parse(f\"{path_seq}/exp_validated.multi.fasta\", \"fasta\") if len(record.seq) > 0]\n",
    "\n",
    "\n",
    "for record in tqdm(exp_validated_set_records) :\n",
    "    winner = get_winner(record, path_tmp)\n",
    "    if winner != \"No hits\" :\n",
    "        hit = int(winner.split(\"_\")[-1])\n",
    "        results = dico_pred_correct_name.get(winner, {})\n",
    "        a = (record.description.split(\",\")[0] , winner, results)\n",
    "    else :\n",
    "        results = \"Null\"\n",
    "    a = (record.description.split(\",\")[0] , winner, results)\n",
    "    exp_validated_winners.append(a)\n",
    "    \n"
   ]
  },
  {
   "cell_type": "code",
   "execution_count": 12,
   "id": "a814fd30-69a1-4f42-bf15-78c4562f0d53",
   "metadata": {
    "tags": []
   },
   "outputs": [],
   "source": [
    "with open(f\"{path_benchmark}/TropiSEQ.p_05.exp_val_depolymerase.tsv\" , \"w\") as outfile :\n",
    "    for prot in exp_validated_winners :\n",
    "        prot_name = prot[0].split(\"_A\")[0]\n",
    "        if prot[1] == \"No hits\" :\n",
    "            outfile.write(f\"{prot_name}\\tNo_hits\\n\")\n",
    "        elif prot[2] == {} :\n",
    "            outfile.write(f\"{prot_name}\\tNo_associations\\n\")\n",
    "        else :\n",
    "            try :\n",
    "                hits = [f\"{kltype}:{round(score,3)}\" for kltype, score in prot[2].items()]\n",
    "                sorted_hits = \" ; \".join(sorted(hits, key=lambda x: float(x.split(\":\")[1]), reverse=True)[0:10])\n",
    "                outfile.write(f\"{prot_name}\\t\")\n",
    "                outfile.write(sorted_hits)\n",
    "                outfile.write(\"\\n\")\n",
    "            except Exception as e :\n",
    "                print(prot, e)"
   ]
  },
  {
   "cell_type": "code",
   "execution_count": null,
   "id": "2286dc70-9b56-4ffa-9112-9b1eb7572b79",
   "metadata": {},
   "outputs": [],
   "source": []
  }
 ],
 "metadata": {
  "kernelspec": {
   "display_name": "Python [conda env:ML_work_v2]",
   "language": "python",
   "name": "conda-env-ML_work_v2-py"
  },
  "language_info": {
   "codemirror_mode": {
    "name": "ipython",
    "version": 3
   },
   "file_extension": ".py",
   "mimetype": "text/x-python",
   "name": "python",
   "nbconvert_exporter": "python",
   "pygments_lexer": "ipython3",
   "version": "3.9.18"
  }
 },
 "nbformat": 4,
 "nbformat_minor": 5
}
