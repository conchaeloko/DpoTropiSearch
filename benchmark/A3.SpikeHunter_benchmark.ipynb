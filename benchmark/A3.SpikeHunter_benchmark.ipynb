{
 "cells": [
  {
   "cell_type": "markdown",
   "id": "96c7e563-3689-4dac-b2df-0e585456659e",
   "metadata": {},
   "source": [
    "***\n",
    "# Prediction with SpikeHunter :\n",
    "### I- Prepare the model\n",
    "### II- Run the predictions on matrices\n",
    "### III- Run the predictions on experimentally validated depolymerases¶\n",
    "***"
   ]
  },
  {
   "cell_type": "markdown",
   "id": "a6dbcfe6-c02d-488e-98de-a99f75aa18d8",
   "metadata": {},
   "source": [
    "###  Make the predictor: "
   ]
  },
  {
   "cell_type": "code",
   "execution_count": 59,
   "id": "927a5316-cae2-414d-9934-e30aeaba6d2f",
   "metadata": {
    "tags": []
   },
   "outputs": [],
   "source": [
    "import os\n",
    "from Bio import SeqIO\n",
    "import pandas as pd \n",
    "from collections import Counter\n",
    "import subprocess\n",
    "from tqdm import tqdm\n",
    "\n",
    "path_SH = \"/media/concha-eloko/Linux/PPT_clean/giae017_supplemental_figures_and_tables\"\n",
    "path_benchmark = \"/media/concha-eloko/Linux/PPT_clean/benchmark\"\n",
    "\n",
    "tsp_id_df = pd.read_csv(f\"{path_SH}/TSP_ids_and_clusters.txt\", sep = \"\\t\", header = 0, index_col = False)\n",
    "serotype_df = pd.read_csv(f\"{path_SH}/table_serotype_specificity.tsv\", sep = \"\\t\", header = 0)\n"
   ]
  },
  {
   "cell_type": "code",
   "execution_count": 54,
   "id": "0ad33c44-541a-4c15-88a8-6e367af99d94",
   "metadata": {
    "tags": []
   },
   "outputs": [],
   "source": [
    "tsp_id_klebsiella_df = tsp_id_df[tsp_id_df[\"Species\"] == \"Klebsiella\"]\n",
    "serotype_klebsiella_df = serotype_df[serotype_df[\"Species\"] == \"Klebsiella\"]\n",
    "clusters_id_interest = serotype_klebsiella_df[\"TSP cluster at 60%\"].unique()"
   ]
  },
  {
   "cell_type": "markdown",
   "id": "16d55a3e-af38-4a5a-b88b-ec0fabab38be",
   "metadata": {},
   "source": [
    "> Dico with the relevant sequences : "
   ]
  },
  {
   "cell_type": "code",
   "execution_count": 30,
   "id": "61842659-d9b2-4ff0-b515-6ca494681e8d",
   "metadata": {
    "tags": []
   },
   "outputs": [],
   "source": [
    "with open(f\"{path_SH}/database_SH_depo.fasta\", \"w\") as outfile :\n",
    "    for record in SeqIO.parse(f\"{path_SH}/tailspike.fa\", \"fasta\") :\n",
    "        if record.description.split(\"|\")[1] in clusters_id_interest :\n",
    "            cluster_id = record.description.split('|')[1]\n",
    "            serotype = serotype_klebsiella_df[serotype_klebsiella_df[\"TSP cluster at 60%\"] == cluster_id][\"Serotype\"].values[0].replace(\";\", \"_\").replace(\"/\", \"_\")\n",
    "            fasta_rec = f\">{cluster_id}__{serotype}\\n{record.seq}\\n\"\n",
    "            outfile.write(fasta_rec)"
   ]
  },
  {
   "cell_type": "markdown",
   "id": "b1053bb4-0ec5-4038-97d6-b0ed6d28a36e",
   "metadata": {
    "jp-MarkdownHeadingCollapsed": true,
    "tags": []
   },
   "source": [
    "***\n",
    "### Make blast DB :"
   ]
  },
  {
   "cell_type": "code",
   "execution_count": 32,
   "id": "a4d619aa-cb73-4dbc-87b2-6beb779deb7f",
   "metadata": {
    "tags": []
   },
   "outputs": [
    {
     "name": "stdout",
     "output_type": "stream",
     "text": [
      "b'\\n\\nBuilding a new DB, current time: 10/28/2024 22:47:14\\nNew DB name:   /media/concha-eloko/Linux/PPT_clean/giae017_supplemental_figures_and_tables/SH_database\\nNew DB title:  /media/concha-eloko/Linux/PPT_clean/giae017_supplemental_figures_and_tables/database_SH_depo.fasta\\nSequence type: Protein\\nKeep MBits: T\\nMaximum file size: 1000000000B\\nAdding sequences from FASTA; added 7451 sequences in 0.18688 seconds.\\n' None\n"
     ]
    }
   ],
   "source": [
    "# Make the blastp DB of all the dpo sequences :\n",
    "\n",
    "path_SH = \"/media/concha-eloko/Linux/PPT_clean/giae017_supplemental_figures_and_tables\"\n",
    "fasta_file = f\"{path_SH}/database_SH_depo.fasta\"\n",
    "\n",
    "blast_command = f\"makeblastdb -in {fasta_file} -dbtype prot -out {path_SH}/SH_database\"\n",
    "make_blast_process = subprocess.Popen(blast_command, shell =True, stdout = subprocess.PIPE, stderr=subprocess.STDOUT)\n",
    "mkblast_out, mkblast_err = make_blast_process.communicate()\n",
    "print(mkblast_out , mkblast_err)\n"
   ]
  },
  {
   "cell_type": "markdown",
   "id": "88eb705c-8a68-4e76-bfdc-2043885902b4",
   "metadata": {},
   "source": [
    "***\n",
    "### Run predictions on matrices:"
   ]
  },
  {
   "cell_type": "code",
   "execution_count": 57,
   "id": "9e74317b-e093-41d8-99d9-9a716b69f77a",
   "metadata": {
    "tags": []
   },
   "outputs": [],
   "source": [
    "path_db = f\"{path_SH}/SH_database\"\n",
    "path_tmp =  f\"{path_SH}/tmp\"\n",
    "labels_blast=[\"qseqid\", \"sseqid\", \"pident\", \"length\", \"mismatch\", \"gapopen\", \"qstart\", \"qend\", \"sstart\", \"send\", \"evalue\", \"bitscore\"]\n",
    "\n",
    "\n",
    "def tmp_fasta_file(record , path_tmp) :\n",
    "    name_file = \"_\".join(record.description.split(\" \"))\n",
    "    path_fasta = f\"{path_tmp}/{name_file}.fasta\"\n",
    "    length_seq = len(record.seq)\n",
    "    with open(path_fasta, \"w\") as outfile :\n",
    "        outfile.write(f\">{record.description}\\n{str(record.seq)}\")\n",
    "    return path_fasta , length_seq\n",
    "\n",
    "def blast_seq(path_fasta, path_DB, path_tmp) :\n",
    "    file_name = path_fasta.split(\"/\")[-1]\n",
    "    command = f\"blastp -query {path_fasta} -db {path_DB} -out {path_tmp}/{file_name}.blast_out -outfmt 6 -evalue 1e-10\"\n",
    "    blastp_sub = subprocess.Popen(command ,shell = True, stdout = subprocess.PIPE, stderr = subprocess.STDOUT)\n",
    "    out , err = blastp_sub.communicate()\n",
    "    return f\"{path_tmp}/{file_name}.blast_out\"\n",
    "\n",
    "def get_best_candidate(path_blast_out, length_seq, pident = 0.60) : \n",
    "    winner = 0\n",
    "    labels_blast=[\"qseqid\", \"sseqid\", \"pident\", \"length\", \"mismatch\", \"gapopen\", \"qstart\", \"qend\", \"sstart\", \"send\", \"evalue\", \"bitscore\"]\n",
    "    blast_df = pd.read_csv(path_blast_out, sep = \"\\t\", names = labels_blast)\n",
    "    if len(blast_df) > 0 :\n",
    "        row = blast_df.iloc[0] \n",
    "        if (row[\"pident\"] > pident) : # and (length_seq/int(row[\"length\"])> 0.50)\n",
    "            winner = row[\"sseqid\"]\n",
    "        else :\n",
    "            winner = \"No hits\"\n",
    "    else :\n",
    "        winner = \"No hits\"\n",
    "    return winner\n",
    "\n",
    "def get_winner(record , path_tmp) :\n",
    "    path_func , len_func = tmp_fasta_file(record, path_tmp)\n",
    "    path_blast_out_func = blast_seq(path_func , path_db, path_tmp)\n",
    "    winner = get_best_candidate(path_blast_out_func, len_func)\n",
    "    return winner"
   ]
  },
  {
   "cell_type": "code",
   "execution_count": 79,
   "id": "a9e17d31-3b50-48a8-9fb8-7d281670f851",
   "metadata": {
    "tags": []
   },
   "outputs": [
    {
     "name": "stderr",
     "output_type": "stream",
     "text": [
      "100%|█████████████████████████████████████████████████████████████████████████████████████████████████████████████████████████████████████████████████| 145/145 [00:34<00:00,  4.21it/s]\n",
      "100%|███████████████████████████████████████████████████████████████████████████████████████████████████████████████████████████████████████████████████| 71/71 [00:13<00:00,  5.15it/s]\n",
      "100%|███████████████████████████████████████████████████████████████████████████████████████████████████████████████████████████████████████████████████| 44/44 [00:07<00:00,  5.68it/s]\n"
     ]
    }
   ],
   "source": [
    "# ***************************************************************************\n",
    "# Ferriol inferences : \n",
    "path_seq = \"/media/concha-eloko/Linux/77_strains_phage_project/rbp_work\"\n",
    "dico_seq = {record.description : record.seq for record in SeqIO.parse(f\"{path_seq}/77_phages_Dpo_domains.2406.multi.fasta\", \"fasta\") if len(record.seq) >0}\n",
    "set_records = [record for record in SeqIO.parse(f\"{path_seq}/77_phages_Dpo_domains.2406.multi.fasta\", \"fasta\") if len(record.seq) > 0]\n",
    "\n",
    "ferriol_winners = []\n",
    "for record in tqdm(set_records) :\n",
    "    winner = get_winner(record, path_tmp)\n",
    "    if winner != \"No hits\" :\n",
    "        prediction = winner.split(\"__\")[-1]\n",
    "    else :\n",
    "        prediction = \"Null\"\n",
    "    a = (record.description.split(\",\")[0] , winner, prediction.split(\"_\"))\n",
    "    ferriol_winners.append(a)\n",
    "    \n",
    "\n",
    "# ***************************************************************************\n",
    "# Beamud inferences : \n",
    "bea_winners = []\n",
    "\n",
    "path_bea = \"/media/concha-eloko/Linux/PPT_clean/in_vitro/Bea\"\n",
    "path_domains_bea = f\"{path_bea}/DepoScope_predictions.bea.domains.0709.fasta\"\n",
    "\n",
    "bea_dico_seq = {record.description : record.seq for record in SeqIO.parse(f\"{path_domains_bea}\", \"fasta\") if len(record.seq) >0}\n",
    "bea_set_records = [record for record in SeqIO.parse(f\"{path_domains_bea}\", \"fasta\") if len(record.seq) > 0]\n",
    "\n",
    "for record in tqdm(bea_set_records) :\n",
    "    winner = get_winner(record, path_tmp)\n",
    "    if winner != \"No hits\" :\n",
    "        prediction = winner.split(\"__\")[-1]\n",
    "    else :\n",
    "        prediction = \"Null\"\n",
    "    a = (record.description.split(\",\")[0] , winner, prediction.split(\"_\"))\n",
    "    bea_winners.append(a)\n",
    "    \n",
    "    \n",
    "# ***************************************************************************\n",
    "# Towndsend inferences : \n",
    "towndsend_winners = []\n",
    "\n",
    "path_towndsend = \"/media/concha-eloko/Linux/PPT_clean/in_vitro/Townsed\"\n",
    "path_domains_towndsend = f\"{path_towndsend}/DepoScope_predictions.Townsed.domains.0909.fasta\"\n",
    "\n",
    "towndsend_dico_seq = {record.description : record.seq for record in SeqIO.parse(f\"{path_domains_towndsend}\", \"fasta\") if len(record.seq) >0}\n",
    "towndsend_set_records = [record for record in SeqIO.parse(f\"{path_domains_towndsend}\", \"fasta\") if len(record.seq) > 0]\n",
    "\n",
    "for record in tqdm(towndsend_set_records) :\n",
    "    winner = get_winner(record, path_tmp)\n",
    "    if winner != \"No hits\" :\n",
    "        prediction = winner.split(\"__\")[-1]\n",
    "    else :\n",
    "        prediction = \"Null\"\n",
    "    a = (record.description.split(\",\")[0] , winner, prediction.split(\"_\"))\n",
    "    towndsend_winners.append(a)"
   ]
  },
  {
   "cell_type": "code",
   "execution_count": 80,
   "id": "bb445d49-2359-4925-a6c2-68e50a52c8a1",
   "metadata": {
    "tags": []
   },
   "outputs": [],
   "source": [
    "SH_results = ferriol_winners + towndsend_winners + bea_winners"
   ]
  },
  {
   "cell_type": "markdown",
   "id": "6180611e-2033-43b0-9f84-9cd1fc572fac",
   "metadata": {},
   "source": [
    "> Write file : "
   ]
  },
  {
   "cell_type": "code",
   "execution_count": 82,
   "id": "c198766b-fce0-4955-ae51-eb6e4e805dec",
   "metadata": {
    "tags": []
   },
   "outputs": [],
   "source": [
    "with open(f\"{path_benchmark}/SpikeHunter_predictions.matrices.tsv\" , \"w\") as outfile :\n",
    "    for prot in SH_results :\n",
    "        prot_name = prot[0].split(\"_A\")[0]\n",
    "        if prot[1] == \"No hits\" :\n",
    "            outfile.write(f\"{prot_name}\\tNo_hits\\n\")\n",
    "        else :\n",
    "            try :\n",
    "                outfile.write(f\"{prot_name}\\t\")\n",
    "                outfile.write(\" , \".join(prot[2]))\n",
    "                outfile.write(\"\\n\")\n",
    "            except Exception as e :\n",
    "                print(prot, e)"
   ]
  },
  {
   "cell_type": "markdown",
   "id": "02f4399f-f919-411c-b065-19a2f46a573f",
   "metadata": {},
   "source": [
    "***\n",
    "### Work on experimentally validated depolymerases: "
   ]
  },
  {
   "cell_type": "code",
   "execution_count": 73,
   "id": "b024bf75-ac88-4752-aabc-f9d4e1a30f89",
   "metadata": {
    "tags": []
   },
   "outputs": [
    {
     "name": "stderr",
     "output_type": "stream",
     "text": [
      "100%|███████████████████████████████████████████████████████████████████████████████████████████████████████████████████████████████████████████████████| 56/56 [00:10<00:00,  5.20it/s]\n"
     ]
    }
   ],
   "source": [
    "# ***************************************************************************\n",
    "# exp_validated inferences : \n",
    "exp_validated_winners = []\n",
    "\n",
    "path_seq = \"/media/concha-eloko/Linux/PPT_clean/in_vitro\"\n",
    "\n",
    "dico_seq = {record.description : record.seq for record in SeqIO.parse(f\"{path_seq}/Others_all.dpos_domains.multi.fasta\", \"fasta\") if len(record.seq) >0}\n",
    "exp_validated_set_records = [record for record in SeqIO.parse(f\"{path_seq}/Others_all.dpos_domains.multi.fasta\", \"fasta\") if len(record.seq) > 0]\n",
    "\n",
    "for record in tqdm(exp_validated_set_records) :\n",
    "    winner = get_winner(record, path_tmp)\n",
    "    if winner != \"No hits\" :\n",
    "        prediction = winner.split(\"__\")[-1]\n",
    "    else :\n",
    "        prediction = \"Null\"\n",
    "    a = (record.description , winner, prediction.split(\"_\"))\n",
    "    exp_validated_winners.append(a)"
   ]
  },
  {
   "cell_type": "markdown",
   "id": "2a35106f-2cbb-4b1c-8fef-aeb67739024f",
   "metadata": {},
   "source": [
    "> Write file:"
   ]
  },
  {
   "cell_type": "code",
   "execution_count": 75,
   "id": "7f996228-25a1-44cc-9482-0af534293fa0",
   "metadata": {
    "tags": []
   },
   "outputs": [],
   "source": [
    "with open(f\"{path_benchmark}/SpikeHunter_predictions.exp_val_depolymerase.tsv\" , \"w\") as outfile :\n",
    "    for prot in exp_validated_winners :\n",
    "        prot_name = prot[0].split(\"_A\")[0]\n",
    "        if prot[1] == \"No hits\" :\n",
    "            outfile.write(f\"{prot_name}\\tNo_hits\\n\")\n",
    "        else :\n",
    "            try :\n",
    "                outfile.write(f\"{prot_name}\\t\")\n",
    "                outfile.write(\" , \".join(prot[2]))\n",
    "                outfile.write(\"\\n\")\n",
    "            except Exception as e :\n",
    "                print(prot, e)"
   ]
  },
  {
   "cell_type": "code",
   "execution_count": null,
   "id": "5cd4e471-c7ad-4461-bded-a28dd5c36d08",
   "metadata": {},
   "outputs": [],
   "source": []
  }
 ],
 "metadata": {
  "kernelspec": {
   "display_name": "Python [conda env:blast_life]",
   "language": "python",
   "name": "conda-env-blast_life-py"
  },
  "language_info": {
   "codemirror_mode": {
    "name": "ipython",
    "version": 3
   },
   "file_extension": ".py",
   "mimetype": "text/x-python",
   "name": "python",
   "nbconvert_exporter": "python",
   "pygments_lexer": "ipython3",
   "version": "3.11.4"
  }
 },
 "nbformat": 4,
 "nbformat_minor": 5
}
