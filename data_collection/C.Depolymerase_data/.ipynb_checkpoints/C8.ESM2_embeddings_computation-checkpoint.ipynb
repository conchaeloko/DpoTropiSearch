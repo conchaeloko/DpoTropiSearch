{
 "cells": [
  {
   "cell_type": "code",
   "execution_count": null,
   "id": "c9250203-05c4-495e-b337-5d81f14ab435",
   "metadata": {},
   "outputs": [],
   "source": []
  },
  {
   "cell_type": "code",
   "execution_count": null,
   "id": "d77943a2-3093-423c-b4f4-b700fdd7d334",
   "metadata": {},
   "outputs": [],
   "source": [
    "python /home/conchae/software/esm/scripts/extract.py \\\n",
    "esm2_t33_650M_UR50D \\\n",
    "/home/conchae/prediction_depolymerase_tropism/prophage_prediction/depolymerase_decipher/ficheros_28032023/Dpo_domains.0805.final.multi.fasta \\\n",
    "/home/conchae/prediction_depolymerase_tropism/prophage_prediction/depolymerase_decipher/ficheros_28032023/Dpo_domains.0805.final.multi.out \\\n",
    "--repr_layers 33 \\\n",
    "--include mean per_tok\n"
   ]
  },
  {
   "cell_type": "code",
   "execution_count": null,
   "id": "9d0ecce6-5871-4199-bb0b-34a2a8e8dc7b",
   "metadata": {},
   "outputs": [],
   "source": [
    "import torch\n",
    "import os \n",
    "import pandas as pd\n",
    "from tqdm import tqdm \n",
    "\n",
    "\n",
    "path_project = \"/home/conchae/prediction_depolymerase_tropism/prophage_prediction/depolymerase_decipher/ficheros_28032023\"\n",
    "path_esm = f\"{path_project}/Dpo_domains.0805.final.extra.multi.out\"\n",
    "\n",
    "embeddings_esm = {}\n",
    "for file in tqdm(os.listdir(path_esm)) :\n",
    "    path_file = f\"{path_esm}/{file}\"\n",
    "    index = file.split(\".\")[0]\n",
    "    embb = torch.load(f\"{path_file}\")[\"mean_representations\"][33].tolist()\n",
    "    embeddings_esm[index] = embb\n",
    "    \n",
    "with open(f\"{path_project}/Dpo.0805.embeddings.extra.csv\" , \"w\") as outfile :\n",
    "    for index in tqdm(embeddings_esm) :\n",
    "        outfile.write(f\"{index},\")\n",
    "        outfile.write(f\"{','.join(embeddings_esm[index])}\")\n",
    "        outfile.write(\"\\n\")"
   ]
  }
 ],
 "metadata": {
  "kernelspec": {
   "display_name": "Python [conda env:torch_geometric]",
   "language": "python",
   "name": "conda-env-torch_geometric-py"
  },
  "language_info": {
   "codemirror_mode": {
    "name": "ipython",
    "version": 3
   },
   "file_extension": ".py",
   "mimetype": "text/x-python",
   "name": "python",
   "nbconvert_exporter": "python",
   "pygments_lexer": "ipython3",
   "version": "3.11.4"
  }
 },
 "nbformat": 4,
 "nbformat_minor": 5
}
