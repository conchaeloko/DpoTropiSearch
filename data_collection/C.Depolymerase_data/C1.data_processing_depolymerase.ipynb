{
 "cells": [
  {
   "cell_type": "code",
   "execution_count": null,
   "id": "320355b3-0385-4007-bd2a-a9420c218a4e",
   "metadata": {},
   "outputs": [],
   "source": []
  },
  {
   "cell_type": "code",
   "execution_count": null,
   "id": "da2ed9a8-3e7e-4180-9429-5fe85db8f850",
   "metadata": {},
   "outputs": [],
   "source": [
    "Generate a MSA for each candidate protein"
   ]
  },
  {
   "cell_type": "code",
   "execution_count": null,
   "id": "b695caf6-afe4-4e21-b9f5-58ab0477bf72",
   "metadata": {},
   "outputs": [],
   "source": [
    "A. Generate a fasta database with all the candidate proteins\n",
    "B. Run mmseqs on the fasta database vs Uniref90\n",
    "C. Generate an MSA for each proteins\n",
    "D. Realign with hhrealign"
   ]
  },
  {
   "cell_type": "code",
   "execution_count": null,
   "id": "01697802-d827-4360-b048-b2905f696350",
   "metadata": {},
   "outputs": [],
   "source": [
    "import os \n",
    "from tqdm import tqdm\n",
    "\n",
    "path_strains = \"/home/conchae/prediction_depolymerase_tropism/prophage_prediction/prophage_decipher/phageboost/phageboost_70_20102022\"\n",
    "path_session = \"/home/conchae/prediction_depolymerase_tropism/prophage_prediction/depolymerase_decipher/15122022_session\"\n",
    "\n",
    "with open(f\"{path_session}/all_prophage_proteins.db.fasta\" ,\"w\") as outfile :\n",
    "    for strain in tqdm(os.listdir(path_strains)):\n",
    "        for prophage in os.listdir(f\"{path_strains}/{strain}/tmp\"):\n",
    "            for protein in os.listdir(f\"{path_strains}/{strain}/tmp/{prophage}\"):\n",
    "                sequence = open(f\"{path_strains}/{strain}/tmp/{prophage}/{protein}\").read()\n",
    "                outfile.write(f\"{sequence}\\n\")\n",
    "                "
   ]
  },
  {
   "cell_type": "code",
   "execution_count": null,
   "id": "27bdbffa-16e4-4529-bd8e-1289b43260be",
   "metadata": {},
   "outputs": [],
   "source": [
    "mmseqs convertalis \\\n",
    "/home/conchae/prediction_depolymerase_tropism/prophage_prediction/depolymerase_decipher/15122022_session/input_db/all_prophage_proteins.db.mmseqs_input \\\n",
    "/home/conchae/databases/mmseqs_db/uniref90/uniref90_mmseqs \\\n",
    "/home/conchae/prediction_depolymerase_tropism/prophage_prediction/depolymerase_decipher/15122022_session/mmseqs_out_t4 \\\n",
    "/home/conchae/prediction_depolymerase_tropism/prophage_prediction/depolymerase_decipher/15122022_session/mmseqs_out_t4.m8 \\\n",
    "--db-load-mode 2 \\\n",
    "--format-output \"query,target,qseq,tseq,evalue,bits,qaln,taln\"\n",
    "\n"
   ]
  },
  {
   "cell_type": "code",
   "execution_count": null,
   "id": "fab67b8f-a7fe-4028-aec6-e27285312d18",
   "metadata": {},
   "outputs": [],
   "source": [
    "import os \n",
    "import pandas as pd \n",
    "import subprocess\n",
    "from multiprocessing import Pool\n",
    "from tqdm import tqdm\n",
    "\n",
    "path_db = \"/home/conchae/prediction_depolymerase_tropism/prophage_prediction/depolymerase_decipher/15122022_session\"\n",
    "path_strain = \"/home/conchae/prediction_depolymerase_tropism/prophage_prediction/prophage_decipher/phageboost/phageboost_70_20102022\"\n",
    "names_db = [\"query\",\"target\",\"qseq\",\"tseq\",\"evalue\",\"bits\",\"qaln\",\"taln\"]\n",
    "database_MSA = pd.read_csv(f\"{path_db}/mmseqs_out_t4.m8\", names = names_db, sep= \"\\t\")\n",
    "\n",
    "proteins = database_MSA[\"query\"].unique()\n",
    "\n",
    "def get_MSA(query) :\n",
    "    path_strain = \"/home/conchae/prediction_depolymerase_tropism/prophage_prediction/prophage_decipher/phageboost/phageboost_70_20102022\"\n",
    "    strain, phage = query.split(\"__\")[0] , query.split(\"__\")[1]\n",
    "    df_interest = database_MSA[database_MSA[\"query\"] == query]\n",
    "    dico_interest = df_interest.to_dict(\"records\")\n",
    "    with open(f\"{path_strain}/{strain}/mmseqs_out/{phage}/{query}.MSA.fasta\" ,\"w\") as outfile :\n",
    "        for row in dico_interest :\n",
    "            outfile.write(f\">{row['target']}\\n{row['tseq']}\\n\")\n",
    "    with open(f\"{path_db}/proteins_done\",\"a+\") as output :\n",
    "        output.write(f\"{query}\\n\")\n",
    "\n",
    "\n",
    "if __name__ == '__main__':\n",
    "    with Pool(40) as p:\n",
    "        p.map(get_MSA, proteins)"
   ]
  },
  {
   "cell_type": "code",
   "execution_count": null,
   "id": "e902018a-b458-452f-9d46-567266c8b5ec",
   "metadata": {},
   "outputs": [],
   "source": [
    "import os \n",
    "import pandas as pd \n",
    "import subprocess\n",
    "from multiprocessing import Pool\n",
    "from tqdm import tqdm\n",
    "\n",
    "\n",
    "path_session = \"/home/conchae/prediction_depolymerase_tropism/prophage_prediction/depolymerase_decipher/15122022_session\"\n",
    "path_strain = \"/home/conchae/prediction_depolymerase_tropism/prophage_prediction/prophage_decipher/phageboost/phageboost_70_20102022\"\n",
    "\n",
    "df_names = pd.read_csv(f\"{path_session}/all_prophage_proteins.names.db.fasta\", names = [\"protein\"], header = None) \n",
    "\n",
    "\n",
    "def realign_MSA(query) :\n",
    "    path_strain = \"/home/conchae/prediction_depolymerase_tropism/prophage_prediction/prophage_decipher/phageboost/phageboost_70_20102022\"\n",
    "    strain, phage = query.split(\"__\")[0] , query.split(\"__\")[1]\n",
    "    file_query = f\"{path_strain}/{strain}/tmp/{phage}/{query}\"\n",
    "    file_target =  f\"{path_strain}/{strain}/mmseqs_out/{phage}/{query.split('.fasta')[0]}.MSA.fasta\"\n",
    "    if os.path.isfile(file_target)== True :\n",
    "        # generate the multi fasta\n",
    "        input_file =  f\"{path_strain}/{strain}/mmseqs_out/{phage}/{query.split('.fasta')[0]}.multi.complete.fasta\"\n",
    "        make_input = f\"cat {file_query} {file_target} > {input_file}\"\n",
    "        make_input_subprocess = subprocess.Popen (make_input , shell = True, stdout = subprocess.PIPE, stderr = subprocess.STDOUT)\n",
    "        make_i_out, make_i_err = make_input_subprocess.communicate()\n",
    "        print(make_i_out , input_file)\n",
    "        # generate the MSA in a2m format\n",
    "        file_out = f\"{path_strain}/{strain}/mmseqs_out/{phage}/{query.split('.fasta')[0]}.MSA.a2m\"\n",
    "        command_realign = f\"clustalo -i {input_file} -o {file_out} --outfmt=fa --threads=4\"\n",
    "        hhmer_subprocess = subprocess.Popen (command_realign , shell = True, stdout = subprocess.PIPE, stderr = subprocess.STDOUT)\n",
    "        hmm_out, hmm_err = hhmer_subprocess.communicate()\n",
    "        print(hmm_out ,hmm_err, \"\\n\\n\")\n",
    "        with open(f\"{path_session}/MSA_done\",\"a+\") as output :\n",
    "            output.write(f\"{query}\\n\")\n",
    "    else :\n",
    "         with open(f\"{path_session}/MSA_missing\",\"a+\") as output :\n",
    "            output.write(f\"{query}\\n\")\n",
    "        \n",
    "if __name__ == '__main__':\n",
    "    with Pool(20) as p:\n",
    "        p.map(realign_MSA, df_names[\"protein\"])"
   ]
  }
 ],
 "metadata": {
  "kernelspec": {
   "display_name": "Python [conda env:torch_geometric]",
   "language": "python",
   "name": "conda-env-torch_geometric-py"
  },
  "language_info": {
   "codemirror_mode": {
    "name": "ipython",
    "version": 3
   },
   "file_extension": ".py",
   "mimetype": "text/x-python",
   "name": "python",
   "nbconvert_exporter": "python",
   "pygments_lexer": "ipython3",
   "version": "3.11.4"
  }
 },
 "nbformat": 4,
 "nbformat_minor": 5
}
